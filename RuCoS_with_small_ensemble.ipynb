{
  "nbformat": 4,
  "nbformat_minor": 0,
  "metadata": {
    "colab": {
      "name": "For_razrabotchiki (1).ipynb",
      "provenance": [],
      "collapsed_sections": []
    },
    "kernelspec": {
      "name": "python3",
      "display_name": "Python 3"
    },
    "accelerator": "GPU",
    "widgets": {
      "application/vnd.jupyter.widget-state+json": {
        "8127d4dabae5490780bc7570081d1ad7": {
          "model_module": "@jupyter-widgets/controls",
          "model_name": "HBoxModel",
          "state": {
            "_view_name": "HBoxView",
            "_dom_classes": [],
            "_model_name": "HBoxModel",
            "_view_module": "@jupyter-widgets/controls",
            "_model_module_version": "1.5.0",
            "_view_count": null,
            "_view_module_version": "1.5.0",
            "box_style": "",
            "layout": "IPY_MODEL_b5b05faf2d4249059832926592eaae28",
            "_model_module": "@jupyter-widgets/controls",
            "children": [
              "IPY_MODEL_e507de05e2744b839923178325bbc7df",
              "IPY_MODEL_c126f50094444b608f56d4f52d568c41",
              "IPY_MODEL_f1ead4feacb04c438f8f85016bd475bd"
            ]
          }
        },
        "b5b05faf2d4249059832926592eaae28": {
          "model_module": "@jupyter-widgets/base",
          "model_name": "LayoutModel",
          "state": {
            "_view_name": "LayoutView",
            "grid_template_rows": null,
            "right": null,
            "justify_content": null,
            "_view_module": "@jupyter-widgets/base",
            "overflow": null,
            "_model_module_version": "1.2.0",
            "_view_count": null,
            "flex_flow": null,
            "width": null,
            "min_width": null,
            "border": null,
            "align_items": null,
            "bottom": null,
            "_model_module": "@jupyter-widgets/base",
            "top": null,
            "grid_column": null,
            "overflow_y": null,
            "overflow_x": null,
            "grid_auto_flow": null,
            "grid_area": null,
            "grid_template_columns": null,
            "flex": null,
            "_model_name": "LayoutModel",
            "justify_items": null,
            "grid_row": null,
            "max_height": null,
            "align_content": null,
            "visibility": null,
            "align_self": null,
            "height": null,
            "min_height": null,
            "padding": null,
            "grid_auto_rows": null,
            "grid_gap": null,
            "max_width": null,
            "order": null,
            "_view_module_version": "1.2.0",
            "grid_template_areas": null,
            "object_position": null,
            "object_fit": null,
            "grid_auto_columns": null,
            "margin": null,
            "display": null,
            "left": null
          }
        },
        "e507de05e2744b839923178325bbc7df": {
          "model_module": "@jupyter-widgets/controls",
          "model_name": "HTMLModel",
          "state": {
            "_view_name": "HTMLView",
            "style": "IPY_MODEL_aea3a8768ac7414bb2f46909d2f05475",
            "_dom_classes": [],
            "description": "",
            "_model_name": "HTMLModel",
            "placeholder": "​",
            "_view_module": "@jupyter-widgets/controls",
            "_model_module_version": "1.5.0",
            "value": "Downloading: 100%",
            "_view_count": null,
            "_view_module_version": "1.5.0",
            "description_tooltip": null,
            "_model_module": "@jupyter-widgets/controls",
            "layout": "IPY_MODEL_d083fa342b2f41c391520f9b2ed14a72"
          }
        },
        "c126f50094444b608f56d4f52d568c41": {
          "model_module": "@jupyter-widgets/controls",
          "model_name": "FloatProgressModel",
          "state": {
            "_view_name": "ProgressView",
            "style": "IPY_MODEL_6acff4ee04454712b8d3954a2973f32d",
            "_dom_classes": [],
            "description": "",
            "_model_name": "FloatProgressModel",
            "bar_style": "success",
            "max": 1649718,
            "_view_module": "@jupyter-widgets/controls",
            "_model_module_version": "1.5.0",
            "value": 1649718,
            "_view_count": null,
            "_view_module_version": "1.5.0",
            "orientation": "horizontal",
            "min": 0,
            "description_tooltip": null,
            "_model_module": "@jupyter-widgets/controls",
            "layout": "IPY_MODEL_d8e1d862353b47559b33037f5f8e611f"
          }
        },
        "f1ead4feacb04c438f8f85016bd475bd": {
          "model_module": "@jupyter-widgets/controls",
          "model_name": "HTMLModel",
          "state": {
            "_view_name": "HTMLView",
            "style": "IPY_MODEL_181304e9429e4d7aa8866be82a268c51",
            "_dom_classes": [],
            "description": "",
            "_model_name": "HTMLModel",
            "placeholder": "​",
            "_view_module": "@jupyter-widgets/controls",
            "_model_module_version": "1.5.0",
            "value": " 1.65M/1.65M [00:00&lt;00:00, 19.2MB/s]",
            "_view_count": null,
            "_view_module_version": "1.5.0",
            "description_tooltip": null,
            "_model_module": "@jupyter-widgets/controls",
            "layout": "IPY_MODEL_b3542106855c40c6b7c349cdd1ff7293"
          }
        },
        "aea3a8768ac7414bb2f46909d2f05475": {
          "model_module": "@jupyter-widgets/controls",
          "model_name": "DescriptionStyleModel",
          "state": {
            "_view_name": "StyleView",
            "_model_name": "DescriptionStyleModel",
            "description_width": "",
            "_view_module": "@jupyter-widgets/base",
            "_model_module_version": "1.5.0",
            "_view_count": null,
            "_view_module_version": "1.2.0",
            "_model_module": "@jupyter-widgets/controls"
          }
        },
        "d083fa342b2f41c391520f9b2ed14a72": {
          "model_module": "@jupyter-widgets/base",
          "model_name": "LayoutModel",
          "state": {
            "_view_name": "LayoutView",
            "grid_template_rows": null,
            "right": null,
            "justify_content": null,
            "_view_module": "@jupyter-widgets/base",
            "overflow": null,
            "_model_module_version": "1.2.0",
            "_view_count": null,
            "flex_flow": null,
            "width": null,
            "min_width": null,
            "border": null,
            "align_items": null,
            "bottom": null,
            "_model_module": "@jupyter-widgets/base",
            "top": null,
            "grid_column": null,
            "overflow_y": null,
            "overflow_x": null,
            "grid_auto_flow": null,
            "grid_area": null,
            "grid_template_columns": null,
            "flex": null,
            "_model_name": "LayoutModel",
            "justify_items": null,
            "grid_row": null,
            "max_height": null,
            "align_content": null,
            "visibility": null,
            "align_self": null,
            "height": null,
            "min_height": null,
            "padding": null,
            "grid_auto_rows": null,
            "grid_gap": null,
            "max_width": null,
            "order": null,
            "_view_module_version": "1.2.0",
            "grid_template_areas": null,
            "object_position": null,
            "object_fit": null,
            "grid_auto_columns": null,
            "margin": null,
            "display": null,
            "left": null
          }
        },
        "6acff4ee04454712b8d3954a2973f32d": {
          "model_module": "@jupyter-widgets/controls",
          "model_name": "ProgressStyleModel",
          "state": {
            "_view_name": "StyleView",
            "_model_name": "ProgressStyleModel",
            "description_width": "",
            "_view_module": "@jupyter-widgets/base",
            "_model_module_version": "1.5.0",
            "_view_count": null,
            "_view_module_version": "1.2.0",
            "bar_color": null,
            "_model_module": "@jupyter-widgets/controls"
          }
        },
        "d8e1d862353b47559b33037f5f8e611f": {
          "model_module": "@jupyter-widgets/base",
          "model_name": "LayoutModel",
          "state": {
            "_view_name": "LayoutView",
            "grid_template_rows": null,
            "right": null,
            "justify_content": null,
            "_view_module": "@jupyter-widgets/base",
            "overflow": null,
            "_model_module_version": "1.2.0",
            "_view_count": null,
            "flex_flow": null,
            "width": null,
            "min_width": null,
            "border": null,
            "align_items": null,
            "bottom": null,
            "_model_module": "@jupyter-widgets/base",
            "top": null,
            "grid_column": null,
            "overflow_y": null,
            "overflow_x": null,
            "grid_auto_flow": null,
            "grid_area": null,
            "grid_template_columns": null,
            "flex": null,
            "_model_name": "LayoutModel",
            "justify_items": null,
            "grid_row": null,
            "max_height": null,
            "align_content": null,
            "visibility": null,
            "align_self": null,
            "height": null,
            "min_height": null,
            "padding": null,
            "grid_auto_rows": null,
            "grid_gap": null,
            "max_width": null,
            "order": null,
            "_view_module_version": "1.2.0",
            "grid_template_areas": null,
            "object_position": null,
            "object_fit": null,
            "grid_auto_columns": null,
            "margin": null,
            "display": null,
            "left": null
          }
        },
        "181304e9429e4d7aa8866be82a268c51": {
          "model_module": "@jupyter-widgets/controls",
          "model_name": "DescriptionStyleModel",
          "state": {
            "_view_name": "StyleView",
            "_model_name": "DescriptionStyleModel",
            "description_width": "",
            "_view_module": "@jupyter-widgets/base",
            "_model_module_version": "1.5.0",
            "_view_count": null,
            "_view_module_version": "1.2.0",
            "_model_module": "@jupyter-widgets/controls"
          }
        },
        "b3542106855c40c6b7c349cdd1ff7293": {
          "model_module": "@jupyter-widgets/base",
          "model_name": "LayoutModel",
          "state": {
            "_view_name": "LayoutView",
            "grid_template_rows": null,
            "right": null,
            "justify_content": null,
            "_view_module": "@jupyter-widgets/base",
            "overflow": null,
            "_model_module_version": "1.2.0",
            "_view_count": null,
            "flex_flow": null,
            "width": null,
            "min_width": null,
            "border": null,
            "align_items": null,
            "bottom": null,
            "_model_module": "@jupyter-widgets/base",
            "top": null,
            "grid_column": null,
            "overflow_y": null,
            "overflow_x": null,
            "grid_auto_flow": null,
            "grid_area": null,
            "grid_template_columns": null,
            "flex": null,
            "_model_name": "LayoutModel",
            "justify_items": null,
            "grid_row": null,
            "max_height": null,
            "align_content": null,
            "visibility": null,
            "align_self": null,
            "height": null,
            "min_height": null,
            "padding": null,
            "grid_auto_rows": null,
            "grid_gap": null,
            "max_width": null,
            "order": null,
            "_view_module_version": "1.2.0",
            "grid_template_areas": null,
            "object_position": null,
            "object_fit": null,
            "grid_auto_columns": null,
            "margin": null,
            "display": null,
            "left": null
          }
        },
        "2fd9ee1fed2b420e822031aa4cb977bc": {
          "model_module": "@jupyter-widgets/controls",
          "model_name": "HBoxModel",
          "state": {
            "_view_name": "HBoxView",
            "_dom_classes": [],
            "_model_name": "HBoxModel",
            "_view_module": "@jupyter-widgets/controls",
            "_model_module_version": "1.5.0",
            "_view_count": null,
            "_view_module_version": "1.5.0",
            "box_style": "",
            "layout": "IPY_MODEL_88b0cb741a20445c80a79a096a97d606",
            "_model_module": "@jupyter-widgets/controls",
            "children": [
              "IPY_MODEL_19ada3ba5dd14954a9c52cf052079fb6",
              "IPY_MODEL_e53d2f717f3849d6a878c28484081bc0",
              "IPY_MODEL_a8e1256eb7314f7a964198bd80deb020"
            ]
          }
        },
        "88b0cb741a20445c80a79a096a97d606": {
          "model_module": "@jupyter-widgets/base",
          "model_name": "LayoutModel",
          "state": {
            "_view_name": "LayoutView",
            "grid_template_rows": null,
            "right": null,
            "justify_content": null,
            "_view_module": "@jupyter-widgets/base",
            "overflow": null,
            "_model_module_version": "1.2.0",
            "_view_count": null,
            "flex_flow": null,
            "width": null,
            "min_width": null,
            "border": null,
            "align_items": null,
            "bottom": null,
            "_model_module": "@jupyter-widgets/base",
            "top": null,
            "grid_column": null,
            "overflow_y": null,
            "overflow_x": null,
            "grid_auto_flow": null,
            "grid_area": null,
            "grid_template_columns": null,
            "flex": null,
            "_model_name": "LayoutModel",
            "justify_items": null,
            "grid_row": null,
            "max_height": null,
            "align_content": null,
            "visibility": null,
            "align_self": null,
            "height": null,
            "min_height": null,
            "padding": null,
            "grid_auto_rows": null,
            "grid_gap": null,
            "max_width": null,
            "order": null,
            "_view_module_version": "1.2.0",
            "grid_template_areas": null,
            "object_position": null,
            "object_fit": null,
            "grid_auto_columns": null,
            "margin": null,
            "display": null,
            "left": null
          }
        },
        "19ada3ba5dd14954a9c52cf052079fb6": {
          "model_module": "@jupyter-widgets/controls",
          "model_name": "HTMLModel",
          "state": {
            "_view_name": "HTMLView",
            "style": "IPY_MODEL_952eeda52faa48a491f9d96b0eec918b",
            "_dom_classes": [],
            "description": "",
            "_model_name": "HTMLModel",
            "placeholder": "​",
            "_view_module": "@jupyter-widgets/controls",
            "_model_module_version": "1.5.0",
            "value": "Downloading: 100%",
            "_view_count": null,
            "_view_module_version": "1.5.0",
            "description_tooltip": null,
            "_model_module": "@jupyter-widgets/controls",
            "layout": "IPY_MODEL_fe5cc58d1c4544ec89f8183613f4ff2d"
          }
        },
        "e53d2f717f3849d6a878c28484081bc0": {
          "model_module": "@jupyter-widgets/controls",
          "model_name": "FloatProgressModel",
          "state": {
            "_view_name": "ProgressView",
            "style": "IPY_MODEL_5dd3f94413b74b318441f0c0312d7383",
            "_dom_classes": [],
            "description": "",
            "_model_name": "FloatProgressModel",
            "bar_style": "success",
            "max": 112,
            "_view_module": "@jupyter-widgets/controls",
            "_model_module_version": "1.5.0",
            "value": 112,
            "_view_count": null,
            "_view_module_version": "1.5.0",
            "orientation": "horizontal",
            "min": 0,
            "description_tooltip": null,
            "_model_module": "@jupyter-widgets/controls",
            "layout": "IPY_MODEL_aa06c347da684cbca353421a017e6779"
          }
        },
        "a8e1256eb7314f7a964198bd80deb020": {
          "model_module": "@jupyter-widgets/controls",
          "model_name": "HTMLModel",
          "state": {
            "_view_name": "HTMLView",
            "style": "IPY_MODEL_7e9fad739e6c4bb6a59dca7bec7aff25",
            "_dom_classes": [],
            "description": "",
            "_model_name": "HTMLModel",
            "placeholder": "​",
            "_view_module": "@jupyter-widgets/controls",
            "_model_module_version": "1.5.0",
            "value": " 112/112 [00:00&lt;00:00, 3.63kB/s]",
            "_view_count": null,
            "_view_module_version": "1.5.0",
            "description_tooltip": null,
            "_model_module": "@jupyter-widgets/controls",
            "layout": "IPY_MODEL_30a897869fe046228d4fe96f5e45d1c2"
          }
        },
        "952eeda52faa48a491f9d96b0eec918b": {
          "model_module": "@jupyter-widgets/controls",
          "model_name": "DescriptionStyleModel",
          "state": {
            "_view_name": "StyleView",
            "_model_name": "DescriptionStyleModel",
            "description_width": "",
            "_view_module": "@jupyter-widgets/base",
            "_model_module_version": "1.5.0",
            "_view_count": null,
            "_view_module_version": "1.2.0",
            "_model_module": "@jupyter-widgets/controls"
          }
        },
        "fe5cc58d1c4544ec89f8183613f4ff2d": {
          "model_module": "@jupyter-widgets/base",
          "model_name": "LayoutModel",
          "state": {
            "_view_name": "LayoutView",
            "grid_template_rows": null,
            "right": null,
            "justify_content": null,
            "_view_module": "@jupyter-widgets/base",
            "overflow": null,
            "_model_module_version": "1.2.0",
            "_view_count": null,
            "flex_flow": null,
            "width": null,
            "min_width": null,
            "border": null,
            "align_items": null,
            "bottom": null,
            "_model_module": "@jupyter-widgets/base",
            "top": null,
            "grid_column": null,
            "overflow_y": null,
            "overflow_x": null,
            "grid_auto_flow": null,
            "grid_area": null,
            "grid_template_columns": null,
            "flex": null,
            "_model_name": "LayoutModel",
            "justify_items": null,
            "grid_row": null,
            "max_height": null,
            "align_content": null,
            "visibility": null,
            "align_self": null,
            "height": null,
            "min_height": null,
            "padding": null,
            "grid_auto_rows": null,
            "grid_gap": null,
            "max_width": null,
            "order": null,
            "_view_module_version": "1.2.0",
            "grid_template_areas": null,
            "object_position": null,
            "object_fit": null,
            "grid_auto_columns": null,
            "margin": null,
            "display": null,
            "left": null
          }
        },
        "5dd3f94413b74b318441f0c0312d7383": {
          "model_module": "@jupyter-widgets/controls",
          "model_name": "ProgressStyleModel",
          "state": {
            "_view_name": "StyleView",
            "_model_name": "ProgressStyleModel",
            "description_width": "",
            "_view_module": "@jupyter-widgets/base",
            "_model_module_version": "1.5.0",
            "_view_count": null,
            "_view_module_version": "1.2.0",
            "bar_color": null,
            "_model_module": "@jupyter-widgets/controls"
          }
        },
        "aa06c347da684cbca353421a017e6779": {
          "model_module": "@jupyter-widgets/base",
          "model_name": "LayoutModel",
          "state": {
            "_view_name": "LayoutView",
            "grid_template_rows": null,
            "right": null,
            "justify_content": null,
            "_view_module": "@jupyter-widgets/base",
            "overflow": null,
            "_model_module_version": "1.2.0",
            "_view_count": null,
            "flex_flow": null,
            "width": null,
            "min_width": null,
            "border": null,
            "align_items": null,
            "bottom": null,
            "_model_module": "@jupyter-widgets/base",
            "top": null,
            "grid_column": null,
            "overflow_y": null,
            "overflow_x": null,
            "grid_auto_flow": null,
            "grid_area": null,
            "grid_template_columns": null,
            "flex": null,
            "_model_name": "LayoutModel",
            "justify_items": null,
            "grid_row": null,
            "max_height": null,
            "align_content": null,
            "visibility": null,
            "align_self": null,
            "height": null,
            "min_height": null,
            "padding": null,
            "grid_auto_rows": null,
            "grid_gap": null,
            "max_width": null,
            "order": null,
            "_view_module_version": "1.2.0",
            "grid_template_areas": null,
            "object_position": null,
            "object_fit": null,
            "grid_auto_columns": null,
            "margin": null,
            "display": null,
            "left": null
          }
        },
        "7e9fad739e6c4bb6a59dca7bec7aff25": {
          "model_module": "@jupyter-widgets/controls",
          "model_name": "DescriptionStyleModel",
          "state": {
            "_view_name": "StyleView",
            "_model_name": "DescriptionStyleModel",
            "description_width": "",
            "_view_module": "@jupyter-widgets/base",
            "_model_module_version": "1.5.0",
            "_view_count": null,
            "_view_module_version": "1.2.0",
            "_model_module": "@jupyter-widgets/controls"
          }
        },
        "30a897869fe046228d4fe96f5e45d1c2": {
          "model_module": "@jupyter-widgets/base",
          "model_name": "LayoutModel",
          "state": {
            "_view_name": "LayoutView",
            "grid_template_rows": null,
            "right": null,
            "justify_content": null,
            "_view_module": "@jupyter-widgets/base",
            "overflow": null,
            "_model_module_version": "1.2.0",
            "_view_count": null,
            "flex_flow": null,
            "width": null,
            "min_width": null,
            "border": null,
            "align_items": null,
            "bottom": null,
            "_model_module": "@jupyter-widgets/base",
            "top": null,
            "grid_column": null,
            "overflow_y": null,
            "overflow_x": null,
            "grid_auto_flow": null,
            "grid_area": null,
            "grid_template_columns": null,
            "flex": null,
            "_model_name": "LayoutModel",
            "justify_items": null,
            "grid_row": null,
            "max_height": null,
            "align_content": null,
            "visibility": null,
            "align_self": null,
            "height": null,
            "min_height": null,
            "padding": null,
            "grid_auto_rows": null,
            "grid_gap": null,
            "max_width": null,
            "order": null,
            "_view_module_version": "1.2.0",
            "grid_template_areas": null,
            "object_position": null,
            "object_fit": null,
            "grid_auto_columns": null,
            "margin": null,
            "display": null,
            "left": null
          }
        },
        "d7912d0d74534e6d989db5ed6996f112": {
          "model_module": "@jupyter-widgets/controls",
          "model_name": "HBoxModel",
          "state": {
            "_view_name": "HBoxView",
            "_dom_classes": [],
            "_model_name": "HBoxModel",
            "_view_module": "@jupyter-widgets/controls",
            "_model_module_version": "1.5.0",
            "_view_count": null,
            "_view_module_version": "1.5.0",
            "box_style": "",
            "layout": "IPY_MODEL_b971fdbc71684941b15ed981856df0e3",
            "_model_module": "@jupyter-widgets/controls",
            "children": [
              "IPY_MODEL_886882d7c0144d79971243ea44ab8437",
              "IPY_MODEL_a10c49aa44c94a3b8e4358d6780c1a3a",
              "IPY_MODEL_3e05fbd4153b446db2ee646bad9a1d59"
            ]
          }
        },
        "b971fdbc71684941b15ed981856df0e3": {
          "model_module": "@jupyter-widgets/base",
          "model_name": "LayoutModel",
          "state": {
            "_view_name": "LayoutView",
            "grid_template_rows": null,
            "right": null,
            "justify_content": null,
            "_view_module": "@jupyter-widgets/base",
            "overflow": null,
            "_model_module_version": "1.2.0",
            "_view_count": null,
            "flex_flow": null,
            "width": null,
            "min_width": null,
            "border": null,
            "align_items": null,
            "bottom": null,
            "_model_module": "@jupyter-widgets/base",
            "top": null,
            "grid_column": null,
            "overflow_y": null,
            "overflow_x": null,
            "grid_auto_flow": null,
            "grid_area": null,
            "grid_template_columns": null,
            "flex": null,
            "_model_name": "LayoutModel",
            "justify_items": null,
            "grid_row": null,
            "max_height": null,
            "align_content": null,
            "visibility": null,
            "align_self": null,
            "height": null,
            "min_height": null,
            "padding": null,
            "grid_auto_rows": null,
            "grid_gap": null,
            "max_width": null,
            "order": null,
            "_view_module_version": "1.2.0",
            "grid_template_areas": null,
            "object_position": null,
            "object_fit": null,
            "grid_auto_columns": null,
            "margin": null,
            "display": null,
            "left": null
          }
        },
        "886882d7c0144d79971243ea44ab8437": {
          "model_module": "@jupyter-widgets/controls",
          "model_name": "HTMLModel",
          "state": {
            "_view_name": "HTMLView",
            "style": "IPY_MODEL_bd8714f3dd4b4903bca3383258a76424",
            "_dom_classes": [],
            "description": "",
            "_model_name": "HTMLModel",
            "placeholder": "​",
            "_view_module": "@jupyter-widgets/controls",
            "_model_module_version": "1.5.0",
            "value": "Downloading: 100%",
            "_view_count": null,
            "_view_module_version": "1.5.0",
            "description_tooltip": null,
            "_model_module": "@jupyter-widgets/controls",
            "layout": "IPY_MODEL_aedc3703a7134809a47917d1c17eccdc"
          }
        },
        "a10c49aa44c94a3b8e4358d6780c1a3a": {
          "model_module": "@jupyter-widgets/controls",
          "model_name": "FloatProgressModel",
          "state": {
            "_view_name": "ProgressView",
            "style": "IPY_MODEL_8c20388828f54bf09dc4afc229d6fd9a",
            "_dom_classes": [],
            "description": "",
            "_model_name": "FloatProgressModel",
            "bar_style": "success",
            "max": 2,
            "_view_module": "@jupyter-widgets/controls",
            "_model_module_version": "1.5.0",
            "value": 2,
            "_view_count": null,
            "_view_module_version": "1.5.0",
            "orientation": "horizontal",
            "min": 0,
            "description_tooltip": null,
            "_model_module": "@jupyter-widgets/controls",
            "layout": "IPY_MODEL_f1a6e942f2654e7584dd4ece723f5c98"
          }
        },
        "3e05fbd4153b446db2ee646bad9a1d59": {
          "model_module": "@jupyter-widgets/controls",
          "model_name": "HTMLModel",
          "state": {
            "_view_name": "HTMLView",
            "style": "IPY_MODEL_6776935ac2a24993920a2e2e7ea7f74a",
            "_dom_classes": [],
            "description": "",
            "_model_name": "HTMLModel",
            "placeholder": "​",
            "_view_module": "@jupyter-widgets/controls",
            "_model_module_version": "1.5.0",
            "value": " 2.00/2.00 [00:00&lt;00:00, 88.5B/s]",
            "_view_count": null,
            "_view_module_version": "1.5.0",
            "description_tooltip": null,
            "_model_module": "@jupyter-widgets/controls",
            "layout": "IPY_MODEL_9896dffc67254d72ba9898433aad0f8e"
          }
        },
        "bd8714f3dd4b4903bca3383258a76424": {
          "model_module": "@jupyter-widgets/controls",
          "model_name": "DescriptionStyleModel",
          "state": {
            "_view_name": "StyleView",
            "_model_name": "DescriptionStyleModel",
            "description_width": "",
            "_view_module": "@jupyter-widgets/base",
            "_model_module_version": "1.5.0",
            "_view_count": null,
            "_view_module_version": "1.2.0",
            "_model_module": "@jupyter-widgets/controls"
          }
        },
        "aedc3703a7134809a47917d1c17eccdc": {
          "model_module": "@jupyter-widgets/base",
          "model_name": "LayoutModel",
          "state": {
            "_view_name": "LayoutView",
            "grid_template_rows": null,
            "right": null,
            "justify_content": null,
            "_view_module": "@jupyter-widgets/base",
            "overflow": null,
            "_model_module_version": "1.2.0",
            "_view_count": null,
            "flex_flow": null,
            "width": null,
            "min_width": null,
            "border": null,
            "align_items": null,
            "bottom": null,
            "_model_module": "@jupyter-widgets/base",
            "top": null,
            "grid_column": null,
            "overflow_y": null,
            "overflow_x": null,
            "grid_auto_flow": null,
            "grid_area": null,
            "grid_template_columns": null,
            "flex": null,
            "_model_name": "LayoutModel",
            "justify_items": null,
            "grid_row": null,
            "max_height": null,
            "align_content": null,
            "visibility": null,
            "align_self": null,
            "height": null,
            "min_height": null,
            "padding": null,
            "grid_auto_rows": null,
            "grid_gap": null,
            "max_width": null,
            "order": null,
            "_view_module_version": "1.2.0",
            "grid_template_areas": null,
            "object_position": null,
            "object_fit": null,
            "grid_auto_columns": null,
            "margin": null,
            "display": null,
            "left": null
          }
        },
        "8c20388828f54bf09dc4afc229d6fd9a": {
          "model_module": "@jupyter-widgets/controls",
          "model_name": "ProgressStyleModel",
          "state": {
            "_view_name": "StyleView",
            "_model_name": "ProgressStyleModel",
            "description_width": "",
            "_view_module": "@jupyter-widgets/base",
            "_model_module_version": "1.5.0",
            "_view_count": null,
            "_view_module_version": "1.2.0",
            "bar_color": null,
            "_model_module": "@jupyter-widgets/controls"
          }
        },
        "f1a6e942f2654e7584dd4ece723f5c98": {
          "model_module": "@jupyter-widgets/base",
          "model_name": "LayoutModel",
          "state": {
            "_view_name": "LayoutView",
            "grid_template_rows": null,
            "right": null,
            "justify_content": null,
            "_view_module": "@jupyter-widgets/base",
            "overflow": null,
            "_model_module_version": "1.2.0",
            "_view_count": null,
            "flex_flow": null,
            "width": null,
            "min_width": null,
            "border": null,
            "align_items": null,
            "bottom": null,
            "_model_module": "@jupyter-widgets/base",
            "top": null,
            "grid_column": null,
            "overflow_y": null,
            "overflow_x": null,
            "grid_auto_flow": null,
            "grid_area": null,
            "grid_template_columns": null,
            "flex": null,
            "_model_name": "LayoutModel",
            "justify_items": null,
            "grid_row": null,
            "max_height": null,
            "align_content": null,
            "visibility": null,
            "align_self": null,
            "height": null,
            "min_height": null,
            "padding": null,
            "grid_auto_rows": null,
            "grid_gap": null,
            "max_width": null,
            "order": null,
            "_view_module_version": "1.2.0",
            "grid_template_areas": null,
            "object_position": null,
            "object_fit": null,
            "grid_auto_columns": null,
            "margin": null,
            "display": null,
            "left": null
          }
        },
        "6776935ac2a24993920a2e2e7ea7f74a": {
          "model_module": "@jupyter-widgets/controls",
          "model_name": "DescriptionStyleModel",
          "state": {
            "_view_name": "StyleView",
            "_model_name": "DescriptionStyleModel",
            "description_width": "",
            "_view_module": "@jupyter-widgets/base",
            "_model_module_version": "1.5.0",
            "_view_count": null,
            "_view_module_version": "1.2.0",
            "_model_module": "@jupyter-widgets/controls"
          }
        },
        "9896dffc67254d72ba9898433aad0f8e": {
          "model_module": "@jupyter-widgets/base",
          "model_name": "LayoutModel",
          "state": {
            "_view_name": "LayoutView",
            "grid_template_rows": null,
            "right": null,
            "justify_content": null,
            "_view_module": "@jupyter-widgets/base",
            "overflow": null,
            "_model_module_version": "1.2.0",
            "_view_count": null,
            "flex_flow": null,
            "width": null,
            "min_width": null,
            "border": null,
            "align_items": null,
            "bottom": null,
            "_model_module": "@jupyter-widgets/base",
            "top": null,
            "grid_column": null,
            "overflow_y": null,
            "overflow_x": null,
            "grid_auto_flow": null,
            "grid_area": null,
            "grid_template_columns": null,
            "flex": null,
            "_model_name": "LayoutModel",
            "justify_items": null,
            "grid_row": null,
            "max_height": null,
            "align_content": null,
            "visibility": null,
            "align_self": null,
            "height": null,
            "min_height": null,
            "padding": null,
            "grid_auto_rows": null,
            "grid_gap": null,
            "max_width": null,
            "order": null,
            "_view_module_version": "1.2.0",
            "grid_template_areas": null,
            "object_position": null,
            "object_fit": null,
            "grid_auto_columns": null,
            "margin": null,
            "display": null,
            "left": null
          }
        },
        "d22cb958a4ca47828da141876630afef": {
          "model_module": "@jupyter-widgets/controls",
          "model_name": "HBoxModel",
          "state": {
            "_view_name": "HBoxView",
            "_dom_classes": [],
            "_model_name": "HBoxModel",
            "_view_module": "@jupyter-widgets/controls",
            "_model_module_version": "1.5.0",
            "_view_count": null,
            "_view_module_version": "1.5.0",
            "box_style": "",
            "layout": "IPY_MODEL_19f78f9f8d1f4147bc063947e687e549",
            "_model_module": "@jupyter-widgets/controls",
            "children": [
              "IPY_MODEL_feb5ba0e25d54abbaacba2372e303a8b",
              "IPY_MODEL_75bf5473f5504702be4da6667676311b",
              "IPY_MODEL_0e401da5e027451282ccb5a4c4196b18"
            ]
          }
        },
        "19f78f9f8d1f4147bc063947e687e549": {
          "model_module": "@jupyter-widgets/base",
          "model_name": "LayoutModel",
          "state": {
            "_view_name": "LayoutView",
            "grid_template_rows": null,
            "right": null,
            "justify_content": null,
            "_view_module": "@jupyter-widgets/base",
            "overflow": null,
            "_model_module_version": "1.2.0",
            "_view_count": null,
            "flex_flow": null,
            "width": null,
            "min_width": null,
            "border": null,
            "align_items": null,
            "bottom": null,
            "_model_module": "@jupyter-widgets/base",
            "top": null,
            "grid_column": null,
            "overflow_y": null,
            "overflow_x": null,
            "grid_auto_flow": null,
            "grid_area": null,
            "grid_template_columns": null,
            "flex": null,
            "_model_name": "LayoutModel",
            "justify_items": null,
            "grid_row": null,
            "max_height": null,
            "align_content": null,
            "visibility": null,
            "align_self": null,
            "height": null,
            "min_height": null,
            "padding": null,
            "grid_auto_rows": null,
            "grid_gap": null,
            "max_width": null,
            "order": null,
            "_view_module_version": "1.2.0",
            "grid_template_areas": null,
            "object_position": null,
            "object_fit": null,
            "grid_auto_columns": null,
            "margin": null,
            "display": null,
            "left": null
          }
        },
        "feb5ba0e25d54abbaacba2372e303a8b": {
          "model_module": "@jupyter-widgets/controls",
          "model_name": "HTMLModel",
          "state": {
            "_view_name": "HTMLView",
            "style": "IPY_MODEL_cba7564ade304165a81c5ffc1a55a2d4",
            "_dom_classes": [],
            "description": "",
            "_model_name": "HTMLModel",
            "placeholder": "​",
            "_view_module": "@jupyter-widgets/controls",
            "_model_module_version": "1.5.0",
            "value": "Running Prediction: 100%",
            "_view_count": null,
            "_view_module_version": "1.5.0",
            "description_tooltip": null,
            "_model_module": "@jupyter-widgets/controls",
            "layout": "IPY_MODEL_9b3330fb4d7a46819e904d45e095972e"
          }
        },
        "75bf5473f5504702be4da6667676311b": {
          "model_module": "@jupyter-widgets/controls",
          "model_name": "FloatProgressModel",
          "state": {
            "_view_name": "ProgressView",
            "style": "IPY_MODEL_b699e6676d5148fb9754e2f0384e6798",
            "_dom_classes": [],
            "description": "",
            "_model_name": "FloatProgressModel",
            "bar_style": "success",
            "max": 949,
            "_view_module": "@jupyter-widgets/controls",
            "_model_module_version": "1.5.0",
            "value": 949,
            "_view_count": null,
            "_view_module_version": "1.5.0",
            "orientation": "horizontal",
            "min": 0,
            "description_tooltip": null,
            "_model_module": "@jupyter-widgets/controls",
            "layout": "IPY_MODEL_334a1523f3df45baa9974d5e952dc249"
          }
        },
        "0e401da5e027451282ccb5a4c4196b18": {
          "model_module": "@jupyter-widgets/controls",
          "model_name": "HTMLModel",
          "state": {
            "_view_name": "HTMLView",
            "style": "IPY_MODEL_8dd4b275a6554c7fbefadc4e14d78b3b",
            "_dom_classes": [],
            "description": "",
            "_model_name": "HTMLModel",
            "placeholder": "​",
            "_view_module": "@jupyter-widgets/controls",
            "_model_module_version": "1.5.0",
            "value": " 949/949 [02:49&lt;00:00,  6.05it/s]",
            "_view_count": null,
            "_view_module_version": "1.5.0",
            "description_tooltip": null,
            "_model_module": "@jupyter-widgets/controls",
            "layout": "IPY_MODEL_efd39a1d3e5a49e8908c11deef48d373"
          }
        },
        "cba7564ade304165a81c5ffc1a55a2d4": {
          "model_module": "@jupyter-widgets/controls",
          "model_name": "DescriptionStyleModel",
          "state": {
            "_view_name": "StyleView",
            "_model_name": "DescriptionStyleModel",
            "description_width": "",
            "_view_module": "@jupyter-widgets/base",
            "_model_module_version": "1.5.0",
            "_view_count": null,
            "_view_module_version": "1.2.0",
            "_model_module": "@jupyter-widgets/controls"
          }
        },
        "9b3330fb4d7a46819e904d45e095972e": {
          "model_module": "@jupyter-widgets/base",
          "model_name": "LayoutModel",
          "state": {
            "_view_name": "LayoutView",
            "grid_template_rows": null,
            "right": null,
            "justify_content": null,
            "_view_module": "@jupyter-widgets/base",
            "overflow": null,
            "_model_module_version": "1.2.0",
            "_view_count": null,
            "flex_flow": null,
            "width": null,
            "min_width": null,
            "border": null,
            "align_items": null,
            "bottom": null,
            "_model_module": "@jupyter-widgets/base",
            "top": null,
            "grid_column": null,
            "overflow_y": null,
            "overflow_x": null,
            "grid_auto_flow": null,
            "grid_area": null,
            "grid_template_columns": null,
            "flex": null,
            "_model_name": "LayoutModel",
            "justify_items": null,
            "grid_row": null,
            "max_height": null,
            "align_content": null,
            "visibility": null,
            "align_self": null,
            "height": null,
            "min_height": null,
            "padding": null,
            "grid_auto_rows": null,
            "grid_gap": null,
            "max_width": null,
            "order": null,
            "_view_module_version": "1.2.0",
            "grid_template_areas": null,
            "object_position": null,
            "object_fit": null,
            "grid_auto_columns": null,
            "margin": null,
            "display": null,
            "left": null
          }
        },
        "b699e6676d5148fb9754e2f0384e6798": {
          "model_module": "@jupyter-widgets/controls",
          "model_name": "ProgressStyleModel",
          "state": {
            "_view_name": "StyleView",
            "_model_name": "ProgressStyleModel",
            "description_width": "",
            "_view_module": "@jupyter-widgets/base",
            "_model_module_version": "1.5.0",
            "_view_count": null,
            "_view_module_version": "1.2.0",
            "bar_color": null,
            "_model_module": "@jupyter-widgets/controls"
          }
        },
        "334a1523f3df45baa9974d5e952dc249": {
          "model_module": "@jupyter-widgets/base",
          "model_name": "LayoutModel",
          "state": {
            "_view_name": "LayoutView",
            "grid_template_rows": null,
            "right": null,
            "justify_content": null,
            "_view_module": "@jupyter-widgets/base",
            "overflow": null,
            "_model_module_version": "1.2.0",
            "_view_count": null,
            "flex_flow": null,
            "width": null,
            "min_width": null,
            "border": null,
            "align_items": null,
            "bottom": null,
            "_model_module": "@jupyter-widgets/base",
            "top": null,
            "grid_column": null,
            "overflow_y": null,
            "overflow_x": null,
            "grid_auto_flow": null,
            "grid_area": null,
            "grid_template_columns": null,
            "flex": null,
            "_model_name": "LayoutModel",
            "justify_items": null,
            "grid_row": null,
            "max_height": null,
            "align_content": null,
            "visibility": null,
            "align_self": null,
            "height": null,
            "min_height": null,
            "padding": null,
            "grid_auto_rows": null,
            "grid_gap": null,
            "max_width": null,
            "order": null,
            "_view_module_version": "1.2.0",
            "grid_template_areas": null,
            "object_position": null,
            "object_fit": null,
            "grid_auto_columns": null,
            "margin": null,
            "display": null,
            "left": null
          }
        },
        "8dd4b275a6554c7fbefadc4e14d78b3b": {
          "model_module": "@jupyter-widgets/controls",
          "model_name": "DescriptionStyleModel",
          "state": {
            "_view_name": "StyleView",
            "_model_name": "DescriptionStyleModel",
            "description_width": "",
            "_view_module": "@jupyter-widgets/base",
            "_model_module_version": "1.5.0",
            "_view_count": null,
            "_view_module_version": "1.2.0",
            "_model_module": "@jupyter-widgets/controls"
          }
        },
        "efd39a1d3e5a49e8908c11deef48d373": {
          "model_module": "@jupyter-widgets/base",
          "model_name": "LayoutModel",
          "state": {
            "_view_name": "LayoutView",
            "grid_template_rows": null,
            "right": null,
            "justify_content": null,
            "_view_module": "@jupyter-widgets/base",
            "overflow": null,
            "_model_module_version": "1.2.0",
            "_view_count": null,
            "flex_flow": null,
            "width": null,
            "min_width": null,
            "border": null,
            "align_items": null,
            "bottom": null,
            "_model_module": "@jupyter-widgets/base",
            "top": null,
            "grid_column": null,
            "overflow_y": null,
            "overflow_x": null,
            "grid_auto_flow": null,
            "grid_area": null,
            "grid_template_columns": null,
            "flex": null,
            "_model_name": "LayoutModel",
            "justify_items": null,
            "grid_row": null,
            "max_height": null,
            "align_content": null,
            "visibility": null,
            "align_self": null,
            "height": null,
            "min_height": null,
            "padding": null,
            "grid_auto_rows": null,
            "grid_gap": null,
            "max_width": null,
            "order": null,
            "_view_module_version": "1.2.0",
            "grid_template_areas": null,
            "object_position": null,
            "object_fit": null,
            "grid_auto_columns": null,
            "margin": null,
            "display": null,
            "left": null
          }
        },
        "411b07ba7f734984b11351a6cbedb0eb": {
          "model_module": "@jupyter-widgets/controls",
          "model_name": "HBoxModel",
          "state": {
            "_view_name": "HBoxView",
            "_dom_classes": [],
            "_model_name": "HBoxModel",
            "_view_module": "@jupyter-widgets/controls",
            "_model_module_version": "1.5.0",
            "_view_count": null,
            "_view_module_version": "1.5.0",
            "box_style": "",
            "layout": "IPY_MODEL_f9bfe989ea8944f7805cbd4a060fd98c",
            "_model_module": "@jupyter-widgets/controls",
            "children": [
              "IPY_MODEL_1f0f4b72d99d4ecfabd0bcf399a96cb0",
              "IPY_MODEL_2f7de7541a7c40518926c073954c8d5f",
              "IPY_MODEL_6901a6978def4d9e883e83f56a1b9713"
            ]
          }
        },
        "f9bfe989ea8944f7805cbd4a060fd98c": {
          "model_module": "@jupyter-widgets/base",
          "model_name": "LayoutModel",
          "state": {
            "_view_name": "LayoutView",
            "grid_template_rows": null,
            "right": null,
            "justify_content": null,
            "_view_module": "@jupyter-widgets/base",
            "overflow": null,
            "_model_module_version": "1.2.0",
            "_view_count": null,
            "flex_flow": null,
            "width": null,
            "min_width": null,
            "border": null,
            "align_items": null,
            "bottom": null,
            "_model_module": "@jupyter-widgets/base",
            "top": null,
            "grid_column": null,
            "overflow_y": null,
            "overflow_x": null,
            "grid_auto_flow": null,
            "grid_area": null,
            "grid_template_columns": null,
            "flex": null,
            "_model_name": "LayoutModel",
            "justify_items": null,
            "grid_row": null,
            "max_height": null,
            "align_content": null,
            "visibility": null,
            "align_self": null,
            "height": null,
            "min_height": null,
            "padding": null,
            "grid_auto_rows": null,
            "grid_gap": null,
            "max_width": null,
            "order": null,
            "_view_module_version": "1.2.0",
            "grid_template_areas": null,
            "object_position": null,
            "object_fit": null,
            "grid_auto_columns": null,
            "margin": null,
            "display": null,
            "left": null
          }
        },
        "1f0f4b72d99d4ecfabd0bcf399a96cb0": {
          "model_module": "@jupyter-widgets/controls",
          "model_name": "HTMLModel",
          "state": {
            "_view_name": "HTMLView",
            "style": "IPY_MODEL_d7662c68c53943dcbd9fe0123cd6130e",
            "_dom_classes": [],
            "description": "",
            "_model_name": "HTMLModel",
            "placeholder": "​",
            "_view_module": "@jupyter-widgets/controls",
            "_model_module_version": "1.5.0",
            "value": "Running Prediction: 100%",
            "_view_count": null,
            "_view_module_version": "1.5.0",
            "description_tooltip": null,
            "_model_module": "@jupyter-widgets/controls",
            "layout": "IPY_MODEL_3038b96ae4d34989a67c5e5a6cb98bcc"
          }
        },
        "2f7de7541a7c40518926c073954c8d5f": {
          "model_module": "@jupyter-widgets/controls",
          "model_name": "FloatProgressModel",
          "state": {
            "_view_name": "ProgressView",
            "style": "IPY_MODEL_652fb7f9a54549e9a562a53c3bf3a879",
            "_dom_classes": [],
            "description": "",
            "_model_name": "FloatProgressModel",
            "bar_style": "success",
            "max": 948,
            "_view_module": "@jupyter-widgets/controls",
            "_model_module_version": "1.5.0",
            "value": 948,
            "_view_count": null,
            "_view_module_version": "1.5.0",
            "orientation": "horizontal",
            "min": 0,
            "description_tooltip": null,
            "_model_module": "@jupyter-widgets/controls",
            "layout": "IPY_MODEL_37edeaee8e514229ad6c65d7469b1392"
          }
        },
        "6901a6978def4d9e883e83f56a1b9713": {
          "model_module": "@jupyter-widgets/controls",
          "model_name": "HTMLModel",
          "state": {
            "_view_name": "HTMLView",
            "style": "IPY_MODEL_db6d8493fcf9448eafd5a885e9cbcd40",
            "_dom_classes": [],
            "description": "",
            "_model_name": "HTMLModel",
            "placeholder": "​",
            "_view_module": "@jupyter-widgets/controls",
            "_model_module_version": "1.5.0",
            "value": " 948/948 [02:48&lt;00:00,  5.62it/s]",
            "_view_count": null,
            "_view_module_version": "1.5.0",
            "description_tooltip": null,
            "_model_module": "@jupyter-widgets/controls",
            "layout": "IPY_MODEL_2f18080096024133849276539f5059e1"
          }
        },
        "d7662c68c53943dcbd9fe0123cd6130e": {
          "model_module": "@jupyter-widgets/controls",
          "model_name": "DescriptionStyleModel",
          "state": {
            "_view_name": "StyleView",
            "_model_name": "DescriptionStyleModel",
            "description_width": "",
            "_view_module": "@jupyter-widgets/base",
            "_model_module_version": "1.5.0",
            "_view_count": null,
            "_view_module_version": "1.2.0",
            "_model_module": "@jupyter-widgets/controls"
          }
        },
        "3038b96ae4d34989a67c5e5a6cb98bcc": {
          "model_module": "@jupyter-widgets/base",
          "model_name": "LayoutModel",
          "state": {
            "_view_name": "LayoutView",
            "grid_template_rows": null,
            "right": null,
            "justify_content": null,
            "_view_module": "@jupyter-widgets/base",
            "overflow": null,
            "_model_module_version": "1.2.0",
            "_view_count": null,
            "flex_flow": null,
            "width": null,
            "min_width": null,
            "border": null,
            "align_items": null,
            "bottom": null,
            "_model_module": "@jupyter-widgets/base",
            "top": null,
            "grid_column": null,
            "overflow_y": null,
            "overflow_x": null,
            "grid_auto_flow": null,
            "grid_area": null,
            "grid_template_columns": null,
            "flex": null,
            "_model_name": "LayoutModel",
            "justify_items": null,
            "grid_row": null,
            "max_height": null,
            "align_content": null,
            "visibility": null,
            "align_self": null,
            "height": null,
            "min_height": null,
            "padding": null,
            "grid_auto_rows": null,
            "grid_gap": null,
            "max_width": null,
            "order": null,
            "_view_module_version": "1.2.0",
            "grid_template_areas": null,
            "object_position": null,
            "object_fit": null,
            "grid_auto_columns": null,
            "margin": null,
            "display": null,
            "left": null
          }
        },
        "652fb7f9a54549e9a562a53c3bf3a879": {
          "model_module": "@jupyter-widgets/controls",
          "model_name": "ProgressStyleModel",
          "state": {
            "_view_name": "StyleView",
            "_model_name": "ProgressStyleModel",
            "description_width": "",
            "_view_module": "@jupyter-widgets/base",
            "_model_module_version": "1.5.0",
            "_view_count": null,
            "_view_module_version": "1.2.0",
            "bar_color": null,
            "_model_module": "@jupyter-widgets/controls"
          }
        },
        "37edeaee8e514229ad6c65d7469b1392": {
          "model_module": "@jupyter-widgets/base",
          "model_name": "LayoutModel",
          "state": {
            "_view_name": "LayoutView",
            "grid_template_rows": null,
            "right": null,
            "justify_content": null,
            "_view_module": "@jupyter-widgets/base",
            "overflow": null,
            "_model_module_version": "1.2.0",
            "_view_count": null,
            "flex_flow": null,
            "width": null,
            "min_width": null,
            "border": null,
            "align_items": null,
            "bottom": null,
            "_model_module": "@jupyter-widgets/base",
            "top": null,
            "grid_column": null,
            "overflow_y": null,
            "overflow_x": null,
            "grid_auto_flow": null,
            "grid_area": null,
            "grid_template_columns": null,
            "flex": null,
            "_model_name": "LayoutModel",
            "justify_items": null,
            "grid_row": null,
            "max_height": null,
            "align_content": null,
            "visibility": null,
            "align_self": null,
            "height": null,
            "min_height": null,
            "padding": null,
            "grid_auto_rows": null,
            "grid_gap": null,
            "max_width": null,
            "order": null,
            "_view_module_version": "1.2.0",
            "grid_template_areas": null,
            "object_position": null,
            "object_fit": null,
            "grid_auto_columns": null,
            "margin": null,
            "display": null,
            "left": null
          }
        },
        "db6d8493fcf9448eafd5a885e9cbcd40": {
          "model_module": "@jupyter-widgets/controls",
          "model_name": "DescriptionStyleModel",
          "state": {
            "_view_name": "StyleView",
            "_model_name": "DescriptionStyleModel",
            "description_width": "",
            "_view_module": "@jupyter-widgets/base",
            "_model_module_version": "1.5.0",
            "_view_count": null,
            "_view_module_version": "1.2.0",
            "_model_module": "@jupyter-widgets/controls"
          }
        },
        "2f18080096024133849276539f5059e1": {
          "model_module": "@jupyter-widgets/base",
          "model_name": "LayoutModel",
          "state": {
            "_view_name": "LayoutView",
            "grid_template_rows": null,
            "right": null,
            "justify_content": null,
            "_view_module": "@jupyter-widgets/base",
            "overflow": null,
            "_model_module_version": "1.2.0",
            "_view_count": null,
            "flex_flow": null,
            "width": null,
            "min_width": null,
            "border": null,
            "align_items": null,
            "bottom": null,
            "_model_module": "@jupyter-widgets/base",
            "top": null,
            "grid_column": null,
            "overflow_y": null,
            "overflow_x": null,
            "grid_auto_flow": null,
            "grid_area": null,
            "grid_template_columns": null,
            "flex": null,
            "_model_name": "LayoutModel",
            "justify_items": null,
            "grid_row": null,
            "max_height": null,
            "align_content": null,
            "visibility": null,
            "align_self": null,
            "height": null,
            "min_height": null,
            "padding": null,
            "grid_auto_rows": null,
            "grid_gap": null,
            "max_width": null,
            "order": null,
            "_view_module_version": "1.2.0",
            "grid_template_areas": null,
            "object_position": null,
            "object_fit": null,
            "grid_auto_columns": null,
            "margin": null,
            "display": null,
            "left": null
          }
        },
        "65b30d1647034820b11fcbcb8faee5cb": {
          "model_module": "@jupyter-widgets/controls",
          "model_name": "HBoxModel",
          "state": {
            "_view_name": "HBoxView",
            "_dom_classes": [],
            "_model_name": "HBoxModel",
            "_view_module": "@jupyter-widgets/controls",
            "_model_module_version": "1.5.0",
            "_view_count": null,
            "_view_module_version": "1.5.0",
            "box_style": "",
            "layout": "IPY_MODEL_2a3f4e69272d4e22b482660f2fded34e",
            "_model_module": "@jupyter-widgets/controls",
            "children": [
              "IPY_MODEL_1adcb50031004ffeb490e34878c2039a",
              "IPY_MODEL_0054c171499e427aaee41705130695d8",
              "IPY_MODEL_88d0d9d5547c49e3be61f7117faca714"
            ]
          }
        },
        "2a3f4e69272d4e22b482660f2fded34e": {
          "model_module": "@jupyter-widgets/base",
          "model_name": "LayoutModel",
          "state": {
            "_view_name": "LayoutView",
            "grid_template_rows": null,
            "right": null,
            "justify_content": null,
            "_view_module": "@jupyter-widgets/base",
            "overflow": null,
            "_model_module_version": "1.2.0",
            "_view_count": null,
            "flex_flow": null,
            "width": null,
            "min_width": null,
            "border": null,
            "align_items": null,
            "bottom": null,
            "_model_module": "@jupyter-widgets/base",
            "top": null,
            "grid_column": null,
            "overflow_y": null,
            "overflow_x": null,
            "grid_auto_flow": null,
            "grid_area": null,
            "grid_template_columns": null,
            "flex": null,
            "_model_name": "LayoutModel",
            "justify_items": null,
            "grid_row": null,
            "max_height": null,
            "align_content": null,
            "visibility": null,
            "align_self": null,
            "height": null,
            "min_height": null,
            "padding": null,
            "grid_auto_rows": null,
            "grid_gap": null,
            "max_width": null,
            "order": null,
            "_view_module_version": "1.2.0",
            "grid_template_areas": null,
            "object_position": null,
            "object_fit": null,
            "grid_auto_columns": null,
            "margin": null,
            "display": null,
            "left": null
          }
        },
        "1adcb50031004ffeb490e34878c2039a": {
          "model_module": "@jupyter-widgets/controls",
          "model_name": "HTMLModel",
          "state": {
            "_view_name": "HTMLView",
            "style": "IPY_MODEL_8a15c6abd28242f3a1e5ec18fcab58a8",
            "_dom_classes": [],
            "description": "",
            "_model_name": "HTMLModel",
            "placeholder": "​",
            "_view_module": "@jupyter-widgets/controls",
            "_model_module_version": "1.5.0",
            "value": "Running Prediction: 100%",
            "_view_count": null,
            "_view_module_version": "1.5.0",
            "description_tooltip": null,
            "_model_module": "@jupyter-widgets/controls",
            "layout": "IPY_MODEL_04a04383865943699fd4e02225583a34"
          }
        },
        "0054c171499e427aaee41705130695d8": {
          "model_module": "@jupyter-widgets/controls",
          "model_name": "FloatProgressModel",
          "state": {
            "_view_name": "ProgressView",
            "style": "IPY_MODEL_6e9a23c781544fe7aae3051a6da05893",
            "_dom_classes": [],
            "description": "",
            "_model_name": "FloatProgressModel",
            "bar_style": "success",
            "max": 948,
            "_view_module": "@jupyter-widgets/controls",
            "_model_module_version": "1.5.0",
            "value": 948,
            "_view_count": null,
            "_view_module_version": "1.5.0",
            "orientation": "horizontal",
            "min": 0,
            "description_tooltip": null,
            "_model_module": "@jupyter-widgets/controls",
            "layout": "IPY_MODEL_99077b3a0bb348cc8517eda809f2ee02"
          }
        },
        "88d0d9d5547c49e3be61f7117faca714": {
          "model_module": "@jupyter-widgets/controls",
          "model_name": "HTMLModel",
          "state": {
            "_view_name": "HTMLView",
            "style": "IPY_MODEL_fdaf406021c54997bfdc9dc40b016328",
            "_dom_classes": [],
            "description": "",
            "_model_name": "HTMLModel",
            "placeholder": "​",
            "_view_module": "@jupyter-widgets/controls",
            "_model_module_version": "1.5.0",
            "value": " 948/948 [02:48&lt;00:00,  5.62it/s]",
            "_view_count": null,
            "_view_module_version": "1.5.0",
            "description_tooltip": null,
            "_model_module": "@jupyter-widgets/controls",
            "layout": "IPY_MODEL_5f91ad22008e4a16a8727b8acf6d8d44"
          }
        },
        "8a15c6abd28242f3a1e5ec18fcab58a8": {
          "model_module": "@jupyter-widgets/controls",
          "model_name": "DescriptionStyleModel",
          "state": {
            "_view_name": "StyleView",
            "_model_name": "DescriptionStyleModel",
            "description_width": "",
            "_view_module": "@jupyter-widgets/base",
            "_model_module_version": "1.5.0",
            "_view_count": null,
            "_view_module_version": "1.2.0",
            "_model_module": "@jupyter-widgets/controls"
          }
        },
        "04a04383865943699fd4e02225583a34": {
          "model_module": "@jupyter-widgets/base",
          "model_name": "LayoutModel",
          "state": {
            "_view_name": "LayoutView",
            "grid_template_rows": null,
            "right": null,
            "justify_content": null,
            "_view_module": "@jupyter-widgets/base",
            "overflow": null,
            "_model_module_version": "1.2.0",
            "_view_count": null,
            "flex_flow": null,
            "width": null,
            "min_width": null,
            "border": null,
            "align_items": null,
            "bottom": null,
            "_model_module": "@jupyter-widgets/base",
            "top": null,
            "grid_column": null,
            "overflow_y": null,
            "overflow_x": null,
            "grid_auto_flow": null,
            "grid_area": null,
            "grid_template_columns": null,
            "flex": null,
            "_model_name": "LayoutModel",
            "justify_items": null,
            "grid_row": null,
            "max_height": null,
            "align_content": null,
            "visibility": null,
            "align_self": null,
            "height": null,
            "min_height": null,
            "padding": null,
            "grid_auto_rows": null,
            "grid_gap": null,
            "max_width": null,
            "order": null,
            "_view_module_version": "1.2.0",
            "grid_template_areas": null,
            "object_position": null,
            "object_fit": null,
            "grid_auto_columns": null,
            "margin": null,
            "display": null,
            "left": null
          }
        },
        "6e9a23c781544fe7aae3051a6da05893": {
          "model_module": "@jupyter-widgets/controls",
          "model_name": "ProgressStyleModel",
          "state": {
            "_view_name": "StyleView",
            "_model_name": "ProgressStyleModel",
            "description_width": "",
            "_view_module": "@jupyter-widgets/base",
            "_model_module_version": "1.5.0",
            "_view_count": null,
            "_view_module_version": "1.2.0",
            "bar_color": null,
            "_model_module": "@jupyter-widgets/controls"
          }
        },
        "99077b3a0bb348cc8517eda809f2ee02": {
          "model_module": "@jupyter-widgets/base",
          "model_name": "LayoutModel",
          "state": {
            "_view_name": "LayoutView",
            "grid_template_rows": null,
            "right": null,
            "justify_content": null,
            "_view_module": "@jupyter-widgets/base",
            "overflow": null,
            "_model_module_version": "1.2.0",
            "_view_count": null,
            "flex_flow": null,
            "width": null,
            "min_width": null,
            "border": null,
            "align_items": null,
            "bottom": null,
            "_model_module": "@jupyter-widgets/base",
            "top": null,
            "grid_column": null,
            "overflow_y": null,
            "overflow_x": null,
            "grid_auto_flow": null,
            "grid_area": null,
            "grid_template_columns": null,
            "flex": null,
            "_model_name": "LayoutModel",
            "justify_items": null,
            "grid_row": null,
            "max_height": null,
            "align_content": null,
            "visibility": null,
            "align_self": null,
            "height": null,
            "min_height": null,
            "padding": null,
            "grid_auto_rows": null,
            "grid_gap": null,
            "max_width": null,
            "order": null,
            "_view_module_version": "1.2.0",
            "grid_template_areas": null,
            "object_position": null,
            "object_fit": null,
            "grid_auto_columns": null,
            "margin": null,
            "display": null,
            "left": null
          }
        },
        "fdaf406021c54997bfdc9dc40b016328": {
          "model_module": "@jupyter-widgets/controls",
          "model_name": "DescriptionStyleModel",
          "state": {
            "_view_name": "StyleView",
            "_model_name": "DescriptionStyleModel",
            "description_width": "",
            "_view_module": "@jupyter-widgets/base",
            "_model_module_version": "1.5.0",
            "_view_count": null,
            "_view_module_version": "1.2.0",
            "_model_module": "@jupyter-widgets/controls"
          }
        },
        "5f91ad22008e4a16a8727b8acf6d8d44": {
          "model_module": "@jupyter-widgets/base",
          "model_name": "LayoutModel",
          "state": {
            "_view_name": "LayoutView",
            "grid_template_rows": null,
            "right": null,
            "justify_content": null,
            "_view_module": "@jupyter-widgets/base",
            "overflow": null,
            "_model_module_version": "1.2.0",
            "_view_count": null,
            "flex_flow": null,
            "width": null,
            "min_width": null,
            "border": null,
            "align_items": null,
            "bottom": null,
            "_model_module": "@jupyter-widgets/base",
            "top": null,
            "grid_column": null,
            "overflow_y": null,
            "overflow_x": null,
            "grid_auto_flow": null,
            "grid_area": null,
            "grid_template_columns": null,
            "flex": null,
            "_model_name": "LayoutModel",
            "justify_items": null,
            "grid_row": null,
            "max_height": null,
            "align_content": null,
            "visibility": null,
            "align_self": null,
            "height": null,
            "min_height": null,
            "padding": null,
            "grid_auto_rows": null,
            "grid_gap": null,
            "max_width": null,
            "order": null,
            "_view_module_version": "1.2.0",
            "grid_template_areas": null,
            "object_position": null,
            "object_fit": null,
            "grid_auto_columns": null,
            "margin": null,
            "display": null,
            "left": null
          }
        },
        "fc8852d039fd4079b9ea0b6621474365": {
          "model_module": "@jupyter-widgets/controls",
          "model_name": "HBoxModel",
          "state": {
            "_view_name": "HBoxView",
            "_dom_classes": [],
            "_model_name": "HBoxModel",
            "_view_module": "@jupyter-widgets/controls",
            "_model_module_version": "1.5.0",
            "_view_count": null,
            "_view_module_version": "1.5.0",
            "box_style": "",
            "layout": "IPY_MODEL_adbe6764fbc04dc690ae4fc9b8f68e7a",
            "_model_module": "@jupyter-widgets/controls",
            "children": [
              "IPY_MODEL_484a623bccd0417caa4adc55a00cb368",
              "IPY_MODEL_3f902dba2214402c956a7917a19ee49e",
              "IPY_MODEL_0209c20b5fcc4fd7b482944456eb77b7"
            ]
          }
        },
        "adbe6764fbc04dc690ae4fc9b8f68e7a": {
          "model_module": "@jupyter-widgets/base",
          "model_name": "LayoutModel",
          "state": {
            "_view_name": "LayoutView",
            "grid_template_rows": null,
            "right": null,
            "justify_content": null,
            "_view_module": "@jupyter-widgets/base",
            "overflow": null,
            "_model_module_version": "1.2.0",
            "_view_count": null,
            "flex_flow": null,
            "width": null,
            "min_width": null,
            "border": null,
            "align_items": null,
            "bottom": null,
            "_model_module": "@jupyter-widgets/base",
            "top": null,
            "grid_column": null,
            "overflow_y": null,
            "overflow_x": null,
            "grid_auto_flow": null,
            "grid_area": null,
            "grid_template_columns": null,
            "flex": null,
            "_model_name": "LayoutModel",
            "justify_items": null,
            "grid_row": null,
            "max_height": null,
            "align_content": null,
            "visibility": null,
            "align_self": null,
            "height": null,
            "min_height": null,
            "padding": null,
            "grid_auto_rows": null,
            "grid_gap": null,
            "max_width": null,
            "order": null,
            "_view_module_version": "1.2.0",
            "grid_template_areas": null,
            "object_position": null,
            "object_fit": null,
            "grid_auto_columns": null,
            "margin": null,
            "display": null,
            "left": null
          }
        },
        "484a623bccd0417caa4adc55a00cb368": {
          "model_module": "@jupyter-widgets/controls",
          "model_name": "HTMLModel",
          "state": {
            "_view_name": "HTMLView",
            "style": "IPY_MODEL_ff4cc8c4a782450d87df7df0416a4f07",
            "_dom_classes": [],
            "description": "",
            "_model_name": "HTMLModel",
            "placeholder": "​",
            "_view_module": "@jupyter-widgets/controls",
            "_model_module_version": "1.5.0",
            "value": "Running Prediction: 100%",
            "_view_count": null,
            "_view_module_version": "1.5.0",
            "description_tooltip": null,
            "_model_module": "@jupyter-widgets/controls",
            "layout": "IPY_MODEL_fc276a538491453490019627017d124d"
          }
        },
        "3f902dba2214402c956a7917a19ee49e": {
          "model_module": "@jupyter-widgets/controls",
          "model_name": "FloatProgressModel",
          "state": {
            "_view_name": "ProgressView",
            "style": "IPY_MODEL_7937ac5f22044148b84d100536b0a0ec",
            "_dom_classes": [],
            "description": "",
            "_model_name": "FloatProgressModel",
            "bar_style": "success",
            "max": 948,
            "_view_module": "@jupyter-widgets/controls",
            "_model_module_version": "1.5.0",
            "value": 948,
            "_view_count": null,
            "_view_module_version": "1.5.0",
            "orientation": "horizontal",
            "min": 0,
            "description_tooltip": null,
            "_model_module": "@jupyter-widgets/controls",
            "layout": "IPY_MODEL_3fb4246e99d140c0bfb14f65d0d933b2"
          }
        },
        "0209c20b5fcc4fd7b482944456eb77b7": {
          "model_module": "@jupyter-widgets/controls",
          "model_name": "HTMLModel",
          "state": {
            "_view_name": "HTMLView",
            "style": "IPY_MODEL_f7555e536cf743cc8d0ea11e871afc40",
            "_dom_classes": [],
            "description": "",
            "_model_name": "HTMLModel",
            "placeholder": "​",
            "_view_module": "@jupyter-widgets/controls",
            "_model_module_version": "1.5.0",
            "value": " 948/948 [02:49&lt;00:00,  5.63it/s]",
            "_view_count": null,
            "_view_module_version": "1.5.0",
            "description_tooltip": null,
            "_model_module": "@jupyter-widgets/controls",
            "layout": "IPY_MODEL_b9568b87a8fb4ed9a83267627cfd336e"
          }
        },
        "ff4cc8c4a782450d87df7df0416a4f07": {
          "model_module": "@jupyter-widgets/controls",
          "model_name": "DescriptionStyleModel",
          "state": {
            "_view_name": "StyleView",
            "_model_name": "DescriptionStyleModel",
            "description_width": "",
            "_view_module": "@jupyter-widgets/base",
            "_model_module_version": "1.5.0",
            "_view_count": null,
            "_view_module_version": "1.2.0",
            "_model_module": "@jupyter-widgets/controls"
          }
        },
        "fc276a538491453490019627017d124d": {
          "model_module": "@jupyter-widgets/base",
          "model_name": "LayoutModel",
          "state": {
            "_view_name": "LayoutView",
            "grid_template_rows": null,
            "right": null,
            "justify_content": null,
            "_view_module": "@jupyter-widgets/base",
            "overflow": null,
            "_model_module_version": "1.2.0",
            "_view_count": null,
            "flex_flow": null,
            "width": null,
            "min_width": null,
            "border": null,
            "align_items": null,
            "bottom": null,
            "_model_module": "@jupyter-widgets/base",
            "top": null,
            "grid_column": null,
            "overflow_y": null,
            "overflow_x": null,
            "grid_auto_flow": null,
            "grid_area": null,
            "grid_template_columns": null,
            "flex": null,
            "_model_name": "LayoutModel",
            "justify_items": null,
            "grid_row": null,
            "max_height": null,
            "align_content": null,
            "visibility": null,
            "align_self": null,
            "height": null,
            "min_height": null,
            "padding": null,
            "grid_auto_rows": null,
            "grid_gap": null,
            "max_width": null,
            "order": null,
            "_view_module_version": "1.2.0",
            "grid_template_areas": null,
            "object_position": null,
            "object_fit": null,
            "grid_auto_columns": null,
            "margin": null,
            "display": null,
            "left": null
          }
        },
        "7937ac5f22044148b84d100536b0a0ec": {
          "model_module": "@jupyter-widgets/controls",
          "model_name": "ProgressStyleModel",
          "state": {
            "_view_name": "StyleView",
            "_model_name": "ProgressStyleModel",
            "description_width": "",
            "_view_module": "@jupyter-widgets/base",
            "_model_module_version": "1.5.0",
            "_view_count": null,
            "_view_module_version": "1.2.0",
            "bar_color": null,
            "_model_module": "@jupyter-widgets/controls"
          }
        },
        "3fb4246e99d140c0bfb14f65d0d933b2": {
          "model_module": "@jupyter-widgets/base",
          "model_name": "LayoutModel",
          "state": {
            "_view_name": "LayoutView",
            "grid_template_rows": null,
            "right": null,
            "justify_content": null,
            "_view_module": "@jupyter-widgets/base",
            "overflow": null,
            "_model_module_version": "1.2.0",
            "_view_count": null,
            "flex_flow": null,
            "width": null,
            "min_width": null,
            "border": null,
            "align_items": null,
            "bottom": null,
            "_model_module": "@jupyter-widgets/base",
            "top": null,
            "grid_column": null,
            "overflow_y": null,
            "overflow_x": null,
            "grid_auto_flow": null,
            "grid_area": null,
            "grid_template_columns": null,
            "flex": null,
            "_model_name": "LayoutModel",
            "justify_items": null,
            "grid_row": null,
            "max_height": null,
            "align_content": null,
            "visibility": null,
            "align_self": null,
            "height": null,
            "min_height": null,
            "padding": null,
            "grid_auto_rows": null,
            "grid_gap": null,
            "max_width": null,
            "order": null,
            "_view_module_version": "1.2.0",
            "grid_template_areas": null,
            "object_position": null,
            "object_fit": null,
            "grid_auto_columns": null,
            "margin": null,
            "display": null,
            "left": null
          }
        },
        "f7555e536cf743cc8d0ea11e871afc40": {
          "model_module": "@jupyter-widgets/controls",
          "model_name": "DescriptionStyleModel",
          "state": {
            "_view_name": "StyleView",
            "_model_name": "DescriptionStyleModel",
            "description_width": "",
            "_view_module": "@jupyter-widgets/base",
            "_model_module_version": "1.5.0",
            "_view_count": null,
            "_view_module_version": "1.2.0",
            "_model_module": "@jupyter-widgets/controls"
          }
        },
        "b9568b87a8fb4ed9a83267627cfd336e": {
          "model_module": "@jupyter-widgets/base",
          "model_name": "LayoutModel",
          "state": {
            "_view_name": "LayoutView",
            "grid_template_rows": null,
            "right": null,
            "justify_content": null,
            "_view_module": "@jupyter-widgets/base",
            "overflow": null,
            "_model_module_version": "1.2.0",
            "_view_count": null,
            "flex_flow": null,
            "width": null,
            "min_width": null,
            "border": null,
            "align_items": null,
            "bottom": null,
            "_model_module": "@jupyter-widgets/base",
            "top": null,
            "grid_column": null,
            "overflow_y": null,
            "overflow_x": null,
            "grid_auto_flow": null,
            "grid_area": null,
            "grid_template_columns": null,
            "flex": null,
            "_model_name": "LayoutModel",
            "justify_items": null,
            "grid_row": null,
            "max_height": null,
            "align_content": null,
            "visibility": null,
            "align_self": null,
            "height": null,
            "min_height": null,
            "padding": null,
            "grid_auto_rows": null,
            "grid_gap": null,
            "max_width": null,
            "order": null,
            "_view_module_version": "1.2.0",
            "grid_template_areas": null,
            "object_position": null,
            "object_fit": null,
            "grid_auto_columns": null,
            "margin": null,
            "display": null,
            "left": null
          }
        },
        "07aba36c58f7422aa377f05e3e626904": {
          "model_module": "@jupyter-widgets/controls",
          "model_name": "HBoxModel",
          "state": {
            "_view_name": "HBoxView",
            "_dom_classes": [],
            "_model_name": "HBoxModel",
            "_view_module": "@jupyter-widgets/controls",
            "_model_module_version": "1.5.0",
            "_view_count": null,
            "_view_module_version": "1.5.0",
            "box_style": "",
            "layout": "IPY_MODEL_ef0120ea7b1f4d94bc00c2717d8fd395",
            "_model_module": "@jupyter-widgets/controls",
            "children": [
              "IPY_MODEL_6fafec4d1dcc483088243923470fc7c2",
              "IPY_MODEL_7d610009902f454a93d1ebe612f7ebc4",
              "IPY_MODEL_9f201e9434e04b4fbeb37bd358f8b27c"
            ]
          }
        },
        "ef0120ea7b1f4d94bc00c2717d8fd395": {
          "model_module": "@jupyter-widgets/base",
          "model_name": "LayoutModel",
          "state": {
            "_view_name": "LayoutView",
            "grid_template_rows": null,
            "right": null,
            "justify_content": null,
            "_view_module": "@jupyter-widgets/base",
            "overflow": null,
            "_model_module_version": "1.2.0",
            "_view_count": null,
            "flex_flow": null,
            "width": null,
            "min_width": null,
            "border": null,
            "align_items": null,
            "bottom": null,
            "_model_module": "@jupyter-widgets/base",
            "top": null,
            "grid_column": null,
            "overflow_y": null,
            "overflow_x": null,
            "grid_auto_flow": null,
            "grid_area": null,
            "grid_template_columns": null,
            "flex": null,
            "_model_name": "LayoutModel",
            "justify_items": null,
            "grid_row": null,
            "max_height": null,
            "align_content": null,
            "visibility": null,
            "align_self": null,
            "height": null,
            "min_height": null,
            "padding": null,
            "grid_auto_rows": null,
            "grid_gap": null,
            "max_width": null,
            "order": null,
            "_view_module_version": "1.2.0",
            "grid_template_areas": null,
            "object_position": null,
            "object_fit": null,
            "grid_auto_columns": null,
            "margin": null,
            "display": null,
            "left": null
          }
        },
        "6fafec4d1dcc483088243923470fc7c2": {
          "model_module": "@jupyter-widgets/controls",
          "model_name": "HTMLModel",
          "state": {
            "_view_name": "HTMLView",
            "style": "IPY_MODEL_2f7d9fda89634f9cb3c8446a0a6d1a94",
            "_dom_classes": [],
            "description": "",
            "_model_name": "HTMLModel",
            "placeholder": "​",
            "_view_module": "@jupyter-widgets/controls",
            "_model_module_version": "1.5.0",
            "value": "Running Prediction: 100%",
            "_view_count": null,
            "_view_module_version": "1.5.0",
            "description_tooltip": null,
            "_model_module": "@jupyter-widgets/controls",
            "layout": "IPY_MODEL_0515027bb7464ca48e67870442a82208"
          }
        },
        "7d610009902f454a93d1ebe612f7ebc4": {
          "model_module": "@jupyter-widgets/controls",
          "model_name": "FloatProgressModel",
          "state": {
            "_view_name": "ProgressView",
            "style": "IPY_MODEL_bc06c70869eb4128bacd339a4e016b96",
            "_dom_classes": [],
            "description": "",
            "_model_name": "FloatProgressModel",
            "bar_style": "success",
            "max": 948,
            "_view_module": "@jupyter-widgets/controls",
            "_model_module_version": "1.5.0",
            "value": 948,
            "_view_count": null,
            "_view_module_version": "1.5.0",
            "orientation": "horizontal",
            "min": 0,
            "description_tooltip": null,
            "_model_module": "@jupyter-widgets/controls",
            "layout": "IPY_MODEL_2808111fe79c445995ad5d412563ae2b"
          }
        },
        "9f201e9434e04b4fbeb37bd358f8b27c": {
          "model_module": "@jupyter-widgets/controls",
          "model_name": "HTMLModel",
          "state": {
            "_view_name": "HTMLView",
            "style": "IPY_MODEL_17a2aea4f1124687997ae09b6b949dff",
            "_dom_classes": [],
            "description": "",
            "_model_name": "HTMLModel",
            "placeholder": "​",
            "_view_module": "@jupyter-widgets/controls",
            "_model_module_version": "1.5.0",
            "value": " 948/948 [02:49&lt;00:00,  5.61it/s]",
            "_view_count": null,
            "_view_module_version": "1.5.0",
            "description_tooltip": null,
            "_model_module": "@jupyter-widgets/controls",
            "layout": "IPY_MODEL_b7ff6befee4042358f9992ab1eaef1bf"
          }
        },
        "2f7d9fda89634f9cb3c8446a0a6d1a94": {
          "model_module": "@jupyter-widgets/controls",
          "model_name": "DescriptionStyleModel",
          "state": {
            "_view_name": "StyleView",
            "_model_name": "DescriptionStyleModel",
            "description_width": "",
            "_view_module": "@jupyter-widgets/base",
            "_model_module_version": "1.5.0",
            "_view_count": null,
            "_view_module_version": "1.2.0",
            "_model_module": "@jupyter-widgets/controls"
          }
        },
        "0515027bb7464ca48e67870442a82208": {
          "model_module": "@jupyter-widgets/base",
          "model_name": "LayoutModel",
          "state": {
            "_view_name": "LayoutView",
            "grid_template_rows": null,
            "right": null,
            "justify_content": null,
            "_view_module": "@jupyter-widgets/base",
            "overflow": null,
            "_model_module_version": "1.2.0",
            "_view_count": null,
            "flex_flow": null,
            "width": null,
            "min_width": null,
            "border": null,
            "align_items": null,
            "bottom": null,
            "_model_module": "@jupyter-widgets/base",
            "top": null,
            "grid_column": null,
            "overflow_y": null,
            "overflow_x": null,
            "grid_auto_flow": null,
            "grid_area": null,
            "grid_template_columns": null,
            "flex": null,
            "_model_name": "LayoutModel",
            "justify_items": null,
            "grid_row": null,
            "max_height": null,
            "align_content": null,
            "visibility": null,
            "align_self": null,
            "height": null,
            "min_height": null,
            "padding": null,
            "grid_auto_rows": null,
            "grid_gap": null,
            "max_width": null,
            "order": null,
            "_view_module_version": "1.2.0",
            "grid_template_areas": null,
            "object_position": null,
            "object_fit": null,
            "grid_auto_columns": null,
            "margin": null,
            "display": null,
            "left": null
          }
        },
        "bc06c70869eb4128bacd339a4e016b96": {
          "model_module": "@jupyter-widgets/controls",
          "model_name": "ProgressStyleModel",
          "state": {
            "_view_name": "StyleView",
            "_model_name": "ProgressStyleModel",
            "description_width": "",
            "_view_module": "@jupyter-widgets/base",
            "_model_module_version": "1.5.0",
            "_view_count": null,
            "_view_module_version": "1.2.0",
            "bar_color": null,
            "_model_module": "@jupyter-widgets/controls"
          }
        },
        "2808111fe79c445995ad5d412563ae2b": {
          "model_module": "@jupyter-widgets/base",
          "model_name": "LayoutModel",
          "state": {
            "_view_name": "LayoutView",
            "grid_template_rows": null,
            "right": null,
            "justify_content": null,
            "_view_module": "@jupyter-widgets/base",
            "overflow": null,
            "_model_module_version": "1.2.0",
            "_view_count": null,
            "flex_flow": null,
            "width": null,
            "min_width": null,
            "border": null,
            "align_items": null,
            "bottom": null,
            "_model_module": "@jupyter-widgets/base",
            "top": null,
            "grid_column": null,
            "overflow_y": null,
            "overflow_x": null,
            "grid_auto_flow": null,
            "grid_area": null,
            "grid_template_columns": null,
            "flex": null,
            "_model_name": "LayoutModel",
            "justify_items": null,
            "grid_row": null,
            "max_height": null,
            "align_content": null,
            "visibility": null,
            "align_self": null,
            "height": null,
            "min_height": null,
            "padding": null,
            "grid_auto_rows": null,
            "grid_gap": null,
            "max_width": null,
            "order": null,
            "_view_module_version": "1.2.0",
            "grid_template_areas": null,
            "object_position": null,
            "object_fit": null,
            "grid_auto_columns": null,
            "margin": null,
            "display": null,
            "left": null
          }
        },
        "17a2aea4f1124687997ae09b6b949dff": {
          "model_module": "@jupyter-widgets/controls",
          "model_name": "DescriptionStyleModel",
          "state": {
            "_view_name": "StyleView",
            "_model_name": "DescriptionStyleModel",
            "description_width": "",
            "_view_module": "@jupyter-widgets/base",
            "_model_module_version": "1.5.0",
            "_view_count": null,
            "_view_module_version": "1.2.0",
            "_model_module": "@jupyter-widgets/controls"
          }
        },
        "b7ff6befee4042358f9992ab1eaef1bf": {
          "model_module": "@jupyter-widgets/base",
          "model_name": "LayoutModel",
          "state": {
            "_view_name": "LayoutView",
            "grid_template_rows": null,
            "right": null,
            "justify_content": null,
            "_view_module": "@jupyter-widgets/base",
            "overflow": null,
            "_model_module_version": "1.2.0",
            "_view_count": null,
            "flex_flow": null,
            "width": null,
            "min_width": null,
            "border": null,
            "align_items": null,
            "bottom": null,
            "_model_module": "@jupyter-widgets/base",
            "top": null,
            "grid_column": null,
            "overflow_y": null,
            "overflow_x": null,
            "grid_auto_flow": null,
            "grid_area": null,
            "grid_template_columns": null,
            "flex": null,
            "_model_name": "LayoutModel",
            "justify_items": null,
            "grid_row": null,
            "max_height": null,
            "align_content": null,
            "visibility": null,
            "align_self": null,
            "height": null,
            "min_height": null,
            "padding": null,
            "grid_auto_rows": null,
            "grid_gap": null,
            "max_width": null,
            "order": null,
            "_view_module_version": "1.2.0",
            "grid_template_areas": null,
            "object_position": null,
            "object_fit": null,
            "grid_auto_columns": null,
            "margin": null,
            "display": null,
            "left": null
          }
        },
        "d8ca2603cdbf47e7bb43228333058f91": {
          "model_module": "@jupyter-widgets/controls",
          "model_name": "HBoxModel",
          "state": {
            "_view_name": "HBoxView",
            "_dom_classes": [],
            "_model_name": "HBoxModel",
            "_view_module": "@jupyter-widgets/controls",
            "_model_module_version": "1.5.0",
            "_view_count": null,
            "_view_module_version": "1.5.0",
            "box_style": "",
            "layout": "IPY_MODEL_0b6ee07aa6b54653b7d3d2de1602f555",
            "_model_module": "@jupyter-widgets/controls",
            "children": [
              "IPY_MODEL_87e92279292e43be946490a5e3807460",
              "IPY_MODEL_4e7843aea7074ee39ea23f088c8a0b2d",
              "IPY_MODEL_85aafaf0c4f942ae9f558437020f3576"
            ]
          }
        },
        "0b6ee07aa6b54653b7d3d2de1602f555": {
          "model_module": "@jupyter-widgets/base",
          "model_name": "LayoutModel",
          "state": {
            "_view_name": "LayoutView",
            "grid_template_rows": null,
            "right": null,
            "justify_content": null,
            "_view_module": "@jupyter-widgets/base",
            "overflow": null,
            "_model_module_version": "1.2.0",
            "_view_count": null,
            "flex_flow": null,
            "width": null,
            "min_width": null,
            "border": null,
            "align_items": null,
            "bottom": null,
            "_model_module": "@jupyter-widgets/base",
            "top": null,
            "grid_column": null,
            "overflow_y": null,
            "overflow_x": null,
            "grid_auto_flow": null,
            "grid_area": null,
            "grid_template_columns": null,
            "flex": null,
            "_model_name": "LayoutModel",
            "justify_items": null,
            "grid_row": null,
            "max_height": null,
            "align_content": null,
            "visibility": null,
            "align_self": null,
            "height": null,
            "min_height": null,
            "padding": null,
            "grid_auto_rows": null,
            "grid_gap": null,
            "max_width": null,
            "order": null,
            "_view_module_version": "1.2.0",
            "grid_template_areas": null,
            "object_position": null,
            "object_fit": null,
            "grid_auto_columns": null,
            "margin": null,
            "display": null,
            "left": null
          }
        },
        "87e92279292e43be946490a5e3807460": {
          "model_module": "@jupyter-widgets/controls",
          "model_name": "HTMLModel",
          "state": {
            "_view_name": "HTMLView",
            "style": "IPY_MODEL_81255b1c342840d9be41331f11ac3c4c",
            "_dom_classes": [],
            "description": "",
            "_model_name": "HTMLModel",
            "placeholder": "​",
            "_view_module": "@jupyter-widgets/controls",
            "_model_module_version": "1.5.0",
            "value": "Running Prediction: 100%",
            "_view_count": null,
            "_view_module_version": "1.5.0",
            "description_tooltip": null,
            "_model_module": "@jupyter-widgets/controls",
            "layout": "IPY_MODEL_51043293e07a4119bee470391ccfa845"
          }
        },
        "4e7843aea7074ee39ea23f088c8a0b2d": {
          "model_module": "@jupyter-widgets/controls",
          "model_name": "FloatProgressModel",
          "state": {
            "_view_name": "ProgressView",
            "style": "IPY_MODEL_04936b3fa47d4b83b8d1ac19cb5589c9",
            "_dom_classes": [],
            "description": "",
            "_model_name": "FloatProgressModel",
            "bar_style": "success",
            "max": 948,
            "_view_module": "@jupyter-widgets/controls",
            "_model_module_version": "1.5.0",
            "value": 948,
            "_view_count": null,
            "_view_module_version": "1.5.0",
            "orientation": "horizontal",
            "min": 0,
            "description_tooltip": null,
            "_model_module": "@jupyter-widgets/controls",
            "layout": "IPY_MODEL_bf80f4642be2471185ece1eef005e99c"
          }
        },
        "85aafaf0c4f942ae9f558437020f3576": {
          "model_module": "@jupyter-widgets/controls",
          "model_name": "HTMLModel",
          "state": {
            "_view_name": "HTMLView",
            "style": "IPY_MODEL_466bc3ffd23841f78aa3a4ac20b32051",
            "_dom_classes": [],
            "description": "",
            "_model_name": "HTMLModel",
            "placeholder": "​",
            "_view_module": "@jupyter-widgets/controls",
            "_model_module_version": "1.5.0",
            "value": " 948/948 [02:48&lt;00:00,  5.63it/s]",
            "_view_count": null,
            "_view_module_version": "1.5.0",
            "description_tooltip": null,
            "_model_module": "@jupyter-widgets/controls",
            "layout": "IPY_MODEL_89b36b9715d34affbe78345de58eda5c"
          }
        },
        "81255b1c342840d9be41331f11ac3c4c": {
          "model_module": "@jupyter-widgets/controls",
          "model_name": "DescriptionStyleModel",
          "state": {
            "_view_name": "StyleView",
            "_model_name": "DescriptionStyleModel",
            "description_width": "",
            "_view_module": "@jupyter-widgets/base",
            "_model_module_version": "1.5.0",
            "_view_count": null,
            "_view_module_version": "1.2.0",
            "_model_module": "@jupyter-widgets/controls"
          }
        },
        "51043293e07a4119bee470391ccfa845": {
          "model_module": "@jupyter-widgets/base",
          "model_name": "LayoutModel",
          "state": {
            "_view_name": "LayoutView",
            "grid_template_rows": null,
            "right": null,
            "justify_content": null,
            "_view_module": "@jupyter-widgets/base",
            "overflow": null,
            "_model_module_version": "1.2.0",
            "_view_count": null,
            "flex_flow": null,
            "width": null,
            "min_width": null,
            "border": null,
            "align_items": null,
            "bottom": null,
            "_model_module": "@jupyter-widgets/base",
            "top": null,
            "grid_column": null,
            "overflow_y": null,
            "overflow_x": null,
            "grid_auto_flow": null,
            "grid_area": null,
            "grid_template_columns": null,
            "flex": null,
            "_model_name": "LayoutModel",
            "justify_items": null,
            "grid_row": null,
            "max_height": null,
            "align_content": null,
            "visibility": null,
            "align_self": null,
            "height": null,
            "min_height": null,
            "padding": null,
            "grid_auto_rows": null,
            "grid_gap": null,
            "max_width": null,
            "order": null,
            "_view_module_version": "1.2.0",
            "grid_template_areas": null,
            "object_position": null,
            "object_fit": null,
            "grid_auto_columns": null,
            "margin": null,
            "display": null,
            "left": null
          }
        },
        "04936b3fa47d4b83b8d1ac19cb5589c9": {
          "model_module": "@jupyter-widgets/controls",
          "model_name": "ProgressStyleModel",
          "state": {
            "_view_name": "StyleView",
            "_model_name": "ProgressStyleModel",
            "description_width": "",
            "_view_module": "@jupyter-widgets/base",
            "_model_module_version": "1.5.0",
            "_view_count": null,
            "_view_module_version": "1.2.0",
            "bar_color": null,
            "_model_module": "@jupyter-widgets/controls"
          }
        },
        "bf80f4642be2471185ece1eef005e99c": {
          "model_module": "@jupyter-widgets/base",
          "model_name": "LayoutModel",
          "state": {
            "_view_name": "LayoutView",
            "grid_template_rows": null,
            "right": null,
            "justify_content": null,
            "_view_module": "@jupyter-widgets/base",
            "overflow": null,
            "_model_module_version": "1.2.0",
            "_view_count": null,
            "flex_flow": null,
            "width": null,
            "min_width": null,
            "border": null,
            "align_items": null,
            "bottom": null,
            "_model_module": "@jupyter-widgets/base",
            "top": null,
            "grid_column": null,
            "overflow_y": null,
            "overflow_x": null,
            "grid_auto_flow": null,
            "grid_area": null,
            "grid_template_columns": null,
            "flex": null,
            "_model_name": "LayoutModel",
            "justify_items": null,
            "grid_row": null,
            "max_height": null,
            "align_content": null,
            "visibility": null,
            "align_self": null,
            "height": null,
            "min_height": null,
            "padding": null,
            "grid_auto_rows": null,
            "grid_gap": null,
            "max_width": null,
            "order": null,
            "_view_module_version": "1.2.0",
            "grid_template_areas": null,
            "object_position": null,
            "object_fit": null,
            "grid_auto_columns": null,
            "margin": null,
            "display": null,
            "left": null
          }
        },
        "466bc3ffd23841f78aa3a4ac20b32051": {
          "model_module": "@jupyter-widgets/controls",
          "model_name": "DescriptionStyleModel",
          "state": {
            "_view_name": "StyleView",
            "_model_name": "DescriptionStyleModel",
            "description_width": "",
            "_view_module": "@jupyter-widgets/base",
            "_model_module_version": "1.5.0",
            "_view_count": null,
            "_view_module_version": "1.2.0",
            "_model_module": "@jupyter-widgets/controls"
          }
        },
        "89b36b9715d34affbe78345de58eda5c": {
          "model_module": "@jupyter-widgets/base",
          "model_name": "LayoutModel",
          "state": {
            "_view_name": "LayoutView",
            "grid_template_rows": null,
            "right": null,
            "justify_content": null,
            "_view_module": "@jupyter-widgets/base",
            "overflow": null,
            "_model_module_version": "1.2.0",
            "_view_count": null,
            "flex_flow": null,
            "width": null,
            "min_width": null,
            "border": null,
            "align_items": null,
            "bottom": null,
            "_model_module": "@jupyter-widgets/base",
            "top": null,
            "grid_column": null,
            "overflow_y": null,
            "overflow_x": null,
            "grid_auto_flow": null,
            "grid_area": null,
            "grid_template_columns": null,
            "flex": null,
            "_model_name": "LayoutModel",
            "justify_items": null,
            "grid_row": null,
            "max_height": null,
            "align_content": null,
            "visibility": null,
            "align_self": null,
            "height": null,
            "min_height": null,
            "padding": null,
            "grid_auto_rows": null,
            "grid_gap": null,
            "max_width": null,
            "order": null,
            "_view_module_version": "1.2.0",
            "grid_template_areas": null,
            "object_position": null,
            "object_fit": null,
            "grid_auto_columns": null,
            "margin": null,
            "display": null,
            "left": null
          }
        },
        "58f2e7bd7ca84ac0a264ba7a57ed6425": {
          "model_module": "@jupyter-widgets/controls",
          "model_name": "HBoxModel",
          "state": {
            "_view_name": "HBoxView",
            "_dom_classes": [],
            "_model_name": "HBoxModel",
            "_view_module": "@jupyter-widgets/controls",
            "_model_module_version": "1.5.0",
            "_view_count": null,
            "_view_module_version": "1.5.0",
            "box_style": "",
            "layout": "IPY_MODEL_15b1c37d171949c5936127cb0e67945b",
            "_model_module": "@jupyter-widgets/controls",
            "children": [
              "IPY_MODEL_a91c0bad056f460cbe4a3923a39d550b",
              "IPY_MODEL_fdd26eb8e5944d6e86492bd3713e7c5d",
              "IPY_MODEL_2d1312c22fbd4386929cfbc9e198b6b2"
            ]
          }
        },
        "15b1c37d171949c5936127cb0e67945b": {
          "model_module": "@jupyter-widgets/base",
          "model_name": "LayoutModel",
          "state": {
            "_view_name": "LayoutView",
            "grid_template_rows": null,
            "right": null,
            "justify_content": null,
            "_view_module": "@jupyter-widgets/base",
            "overflow": null,
            "_model_module_version": "1.2.0",
            "_view_count": null,
            "flex_flow": null,
            "width": null,
            "min_width": null,
            "border": null,
            "align_items": null,
            "bottom": null,
            "_model_module": "@jupyter-widgets/base",
            "top": null,
            "grid_column": null,
            "overflow_y": null,
            "overflow_x": null,
            "grid_auto_flow": null,
            "grid_area": null,
            "grid_template_columns": null,
            "flex": null,
            "_model_name": "LayoutModel",
            "justify_items": null,
            "grid_row": null,
            "max_height": null,
            "align_content": null,
            "visibility": null,
            "align_self": null,
            "height": null,
            "min_height": null,
            "padding": null,
            "grid_auto_rows": null,
            "grid_gap": null,
            "max_width": null,
            "order": null,
            "_view_module_version": "1.2.0",
            "grid_template_areas": null,
            "object_position": null,
            "object_fit": null,
            "grid_auto_columns": null,
            "margin": null,
            "display": null,
            "left": null
          }
        },
        "a91c0bad056f460cbe4a3923a39d550b": {
          "model_module": "@jupyter-widgets/controls",
          "model_name": "HTMLModel",
          "state": {
            "_view_name": "HTMLView",
            "style": "IPY_MODEL_793ed2b9396743f990f38e0776da8fa0",
            "_dom_classes": [],
            "description": "",
            "_model_name": "HTMLModel",
            "placeholder": "​",
            "_view_module": "@jupyter-widgets/controls",
            "_model_module_version": "1.5.0",
            "value": "Running Prediction: 100%",
            "_view_count": null,
            "_view_module_version": "1.5.0",
            "description_tooltip": null,
            "_model_module": "@jupyter-widgets/controls",
            "layout": "IPY_MODEL_6239ef3e3b6a47798b648b18719e8263"
          }
        },
        "fdd26eb8e5944d6e86492bd3713e7c5d": {
          "model_module": "@jupyter-widgets/controls",
          "model_name": "FloatProgressModel",
          "state": {
            "_view_name": "ProgressView",
            "style": "IPY_MODEL_9039358160c9469bbba2c4775b13694c",
            "_dom_classes": [],
            "description": "",
            "_model_name": "FloatProgressModel",
            "bar_style": "success",
            "max": 949,
            "_view_module": "@jupyter-widgets/controls",
            "_model_module_version": "1.5.0",
            "value": 949,
            "_view_count": null,
            "_view_module_version": "1.5.0",
            "orientation": "horizontal",
            "min": 0,
            "description_tooltip": null,
            "_model_module": "@jupyter-widgets/controls",
            "layout": "IPY_MODEL_6f803ead44794a6290e6702c797424ef"
          }
        },
        "2d1312c22fbd4386929cfbc9e198b6b2": {
          "model_module": "@jupyter-widgets/controls",
          "model_name": "HTMLModel",
          "state": {
            "_view_name": "HTMLView",
            "style": "IPY_MODEL_caf7f514073744139fa6cea590a06651",
            "_dom_classes": [],
            "description": "",
            "_model_name": "HTMLModel",
            "placeholder": "​",
            "_view_module": "@jupyter-widgets/controls",
            "_model_module_version": "1.5.0",
            "value": " 949/949 [02:48&lt;00:00,  6.05it/s]",
            "_view_count": null,
            "_view_module_version": "1.5.0",
            "description_tooltip": null,
            "_model_module": "@jupyter-widgets/controls",
            "layout": "IPY_MODEL_d8f48bd0b53c43c9b6d35226493fc2db"
          }
        },
        "793ed2b9396743f990f38e0776da8fa0": {
          "model_module": "@jupyter-widgets/controls",
          "model_name": "DescriptionStyleModel",
          "state": {
            "_view_name": "StyleView",
            "_model_name": "DescriptionStyleModel",
            "description_width": "",
            "_view_module": "@jupyter-widgets/base",
            "_model_module_version": "1.5.0",
            "_view_count": null,
            "_view_module_version": "1.2.0",
            "_model_module": "@jupyter-widgets/controls"
          }
        },
        "6239ef3e3b6a47798b648b18719e8263": {
          "model_module": "@jupyter-widgets/base",
          "model_name": "LayoutModel",
          "state": {
            "_view_name": "LayoutView",
            "grid_template_rows": null,
            "right": null,
            "justify_content": null,
            "_view_module": "@jupyter-widgets/base",
            "overflow": null,
            "_model_module_version": "1.2.0",
            "_view_count": null,
            "flex_flow": null,
            "width": null,
            "min_width": null,
            "border": null,
            "align_items": null,
            "bottom": null,
            "_model_module": "@jupyter-widgets/base",
            "top": null,
            "grid_column": null,
            "overflow_y": null,
            "overflow_x": null,
            "grid_auto_flow": null,
            "grid_area": null,
            "grid_template_columns": null,
            "flex": null,
            "_model_name": "LayoutModel",
            "justify_items": null,
            "grid_row": null,
            "max_height": null,
            "align_content": null,
            "visibility": null,
            "align_self": null,
            "height": null,
            "min_height": null,
            "padding": null,
            "grid_auto_rows": null,
            "grid_gap": null,
            "max_width": null,
            "order": null,
            "_view_module_version": "1.2.0",
            "grid_template_areas": null,
            "object_position": null,
            "object_fit": null,
            "grid_auto_columns": null,
            "margin": null,
            "display": null,
            "left": null
          }
        },
        "9039358160c9469bbba2c4775b13694c": {
          "model_module": "@jupyter-widgets/controls",
          "model_name": "ProgressStyleModel",
          "state": {
            "_view_name": "StyleView",
            "_model_name": "ProgressStyleModel",
            "description_width": "",
            "_view_module": "@jupyter-widgets/base",
            "_model_module_version": "1.5.0",
            "_view_count": null,
            "_view_module_version": "1.2.0",
            "bar_color": null,
            "_model_module": "@jupyter-widgets/controls"
          }
        },
        "6f803ead44794a6290e6702c797424ef": {
          "model_module": "@jupyter-widgets/base",
          "model_name": "LayoutModel",
          "state": {
            "_view_name": "LayoutView",
            "grid_template_rows": null,
            "right": null,
            "justify_content": null,
            "_view_module": "@jupyter-widgets/base",
            "overflow": null,
            "_model_module_version": "1.2.0",
            "_view_count": null,
            "flex_flow": null,
            "width": null,
            "min_width": null,
            "border": null,
            "align_items": null,
            "bottom": null,
            "_model_module": "@jupyter-widgets/base",
            "top": null,
            "grid_column": null,
            "overflow_y": null,
            "overflow_x": null,
            "grid_auto_flow": null,
            "grid_area": null,
            "grid_template_columns": null,
            "flex": null,
            "_model_name": "LayoutModel",
            "justify_items": null,
            "grid_row": null,
            "max_height": null,
            "align_content": null,
            "visibility": null,
            "align_self": null,
            "height": null,
            "min_height": null,
            "padding": null,
            "grid_auto_rows": null,
            "grid_gap": null,
            "max_width": null,
            "order": null,
            "_view_module_version": "1.2.0",
            "grid_template_areas": null,
            "object_position": null,
            "object_fit": null,
            "grid_auto_columns": null,
            "margin": null,
            "display": null,
            "left": null
          }
        },
        "caf7f514073744139fa6cea590a06651": {
          "model_module": "@jupyter-widgets/controls",
          "model_name": "DescriptionStyleModel",
          "state": {
            "_view_name": "StyleView",
            "_model_name": "DescriptionStyleModel",
            "description_width": "",
            "_view_module": "@jupyter-widgets/base",
            "_model_module_version": "1.5.0",
            "_view_count": null,
            "_view_module_version": "1.2.0",
            "_model_module": "@jupyter-widgets/controls"
          }
        },
        "d8f48bd0b53c43c9b6d35226493fc2db": {
          "model_module": "@jupyter-widgets/base",
          "model_name": "LayoutModel",
          "state": {
            "_view_name": "LayoutView",
            "grid_template_rows": null,
            "right": null,
            "justify_content": null,
            "_view_module": "@jupyter-widgets/base",
            "overflow": null,
            "_model_module_version": "1.2.0",
            "_view_count": null,
            "flex_flow": null,
            "width": null,
            "min_width": null,
            "border": null,
            "align_items": null,
            "bottom": null,
            "_model_module": "@jupyter-widgets/base",
            "top": null,
            "grid_column": null,
            "overflow_y": null,
            "overflow_x": null,
            "grid_auto_flow": null,
            "grid_area": null,
            "grid_template_columns": null,
            "flex": null,
            "_model_name": "LayoutModel",
            "justify_items": null,
            "grid_row": null,
            "max_height": null,
            "align_content": null,
            "visibility": null,
            "align_self": null,
            "height": null,
            "min_height": null,
            "padding": null,
            "grid_auto_rows": null,
            "grid_gap": null,
            "max_width": null,
            "order": null,
            "_view_module_version": "1.2.0",
            "grid_template_areas": null,
            "object_position": null,
            "object_fit": null,
            "grid_auto_columns": null,
            "margin": null,
            "display": null,
            "left": null
          }
        },
        "c1f3fc32688a48a79365be3be7b2e6a8": {
          "model_module": "@jupyter-widgets/controls",
          "model_name": "HBoxModel",
          "state": {
            "_view_name": "HBoxView",
            "_dom_classes": [],
            "_model_name": "HBoxModel",
            "_view_module": "@jupyter-widgets/controls",
            "_model_module_version": "1.5.0",
            "_view_count": null,
            "_view_module_version": "1.5.0",
            "box_style": "",
            "layout": "IPY_MODEL_3eab1c6b565d46ce898bb3e11dd9a21a",
            "_model_module": "@jupyter-widgets/controls",
            "children": [
              "IPY_MODEL_4a40b72901d045958b67445e664007c2",
              "IPY_MODEL_33210196101141a283904bea3245ac94",
              "IPY_MODEL_683efe88c2424f71b7206a2373f2cf62"
            ]
          }
        },
        "3eab1c6b565d46ce898bb3e11dd9a21a": {
          "model_module": "@jupyter-widgets/base",
          "model_name": "LayoutModel",
          "state": {
            "_view_name": "LayoutView",
            "grid_template_rows": null,
            "right": null,
            "justify_content": null,
            "_view_module": "@jupyter-widgets/base",
            "overflow": null,
            "_model_module_version": "1.2.0",
            "_view_count": null,
            "flex_flow": null,
            "width": null,
            "min_width": null,
            "border": null,
            "align_items": null,
            "bottom": null,
            "_model_module": "@jupyter-widgets/base",
            "top": null,
            "grid_column": null,
            "overflow_y": null,
            "overflow_x": null,
            "grid_auto_flow": null,
            "grid_area": null,
            "grid_template_columns": null,
            "flex": null,
            "_model_name": "LayoutModel",
            "justify_items": null,
            "grid_row": null,
            "max_height": null,
            "align_content": null,
            "visibility": null,
            "align_self": null,
            "height": null,
            "min_height": null,
            "padding": null,
            "grid_auto_rows": null,
            "grid_gap": null,
            "max_width": null,
            "order": null,
            "_view_module_version": "1.2.0",
            "grid_template_areas": null,
            "object_position": null,
            "object_fit": null,
            "grid_auto_columns": null,
            "margin": null,
            "display": null,
            "left": null
          }
        },
        "4a40b72901d045958b67445e664007c2": {
          "model_module": "@jupyter-widgets/controls",
          "model_name": "HTMLModel",
          "state": {
            "_view_name": "HTMLView",
            "style": "IPY_MODEL_b0ac3c21d1894f6ea8c7c260ffb9f7c0",
            "_dom_classes": [],
            "description": "",
            "_model_name": "HTMLModel",
            "placeholder": "​",
            "_view_module": "@jupyter-widgets/controls",
            "_model_module_version": "1.5.0",
            "value": "Running Prediction: 100%",
            "_view_count": null,
            "_view_module_version": "1.5.0",
            "description_tooltip": null,
            "_model_module": "@jupyter-widgets/controls",
            "layout": "IPY_MODEL_25828a26e67e42399388d14271a3a5ce"
          }
        },
        "33210196101141a283904bea3245ac94": {
          "model_module": "@jupyter-widgets/controls",
          "model_name": "FloatProgressModel",
          "state": {
            "_view_name": "ProgressView",
            "style": "IPY_MODEL_d84591b52172482eae90da264a3a394b",
            "_dom_classes": [],
            "description": "",
            "_model_name": "FloatProgressModel",
            "bar_style": "success",
            "max": 948,
            "_view_module": "@jupyter-widgets/controls",
            "_model_module_version": "1.5.0",
            "value": 948,
            "_view_count": null,
            "_view_module_version": "1.5.0",
            "orientation": "horizontal",
            "min": 0,
            "description_tooltip": null,
            "_model_module": "@jupyter-widgets/controls",
            "layout": "IPY_MODEL_36a54e77f46d4d6f9025b816e3770fab"
          }
        },
        "683efe88c2424f71b7206a2373f2cf62": {
          "model_module": "@jupyter-widgets/controls",
          "model_name": "HTMLModel",
          "state": {
            "_view_name": "HTMLView",
            "style": "IPY_MODEL_4d73c8e8e533467da28c4855838917ad",
            "_dom_classes": [],
            "description": "",
            "_model_name": "HTMLModel",
            "placeholder": "​",
            "_view_module": "@jupyter-widgets/controls",
            "_model_module_version": "1.5.0",
            "value": " 948/948 [02:48&lt;00:00,  5.64it/s]",
            "_view_count": null,
            "_view_module_version": "1.5.0",
            "description_tooltip": null,
            "_model_module": "@jupyter-widgets/controls",
            "layout": "IPY_MODEL_b25989406e6f4df0b9f5e8ccc03dea93"
          }
        },
        "b0ac3c21d1894f6ea8c7c260ffb9f7c0": {
          "model_module": "@jupyter-widgets/controls",
          "model_name": "DescriptionStyleModel",
          "state": {
            "_view_name": "StyleView",
            "_model_name": "DescriptionStyleModel",
            "description_width": "",
            "_view_module": "@jupyter-widgets/base",
            "_model_module_version": "1.5.0",
            "_view_count": null,
            "_view_module_version": "1.2.0",
            "_model_module": "@jupyter-widgets/controls"
          }
        },
        "25828a26e67e42399388d14271a3a5ce": {
          "model_module": "@jupyter-widgets/base",
          "model_name": "LayoutModel",
          "state": {
            "_view_name": "LayoutView",
            "grid_template_rows": null,
            "right": null,
            "justify_content": null,
            "_view_module": "@jupyter-widgets/base",
            "overflow": null,
            "_model_module_version": "1.2.0",
            "_view_count": null,
            "flex_flow": null,
            "width": null,
            "min_width": null,
            "border": null,
            "align_items": null,
            "bottom": null,
            "_model_module": "@jupyter-widgets/base",
            "top": null,
            "grid_column": null,
            "overflow_y": null,
            "overflow_x": null,
            "grid_auto_flow": null,
            "grid_area": null,
            "grid_template_columns": null,
            "flex": null,
            "_model_name": "LayoutModel",
            "justify_items": null,
            "grid_row": null,
            "max_height": null,
            "align_content": null,
            "visibility": null,
            "align_self": null,
            "height": null,
            "min_height": null,
            "padding": null,
            "grid_auto_rows": null,
            "grid_gap": null,
            "max_width": null,
            "order": null,
            "_view_module_version": "1.2.0",
            "grid_template_areas": null,
            "object_position": null,
            "object_fit": null,
            "grid_auto_columns": null,
            "margin": null,
            "display": null,
            "left": null
          }
        },
        "d84591b52172482eae90da264a3a394b": {
          "model_module": "@jupyter-widgets/controls",
          "model_name": "ProgressStyleModel",
          "state": {
            "_view_name": "StyleView",
            "_model_name": "ProgressStyleModel",
            "description_width": "",
            "_view_module": "@jupyter-widgets/base",
            "_model_module_version": "1.5.0",
            "_view_count": null,
            "_view_module_version": "1.2.0",
            "bar_color": null,
            "_model_module": "@jupyter-widgets/controls"
          }
        },
        "36a54e77f46d4d6f9025b816e3770fab": {
          "model_module": "@jupyter-widgets/base",
          "model_name": "LayoutModel",
          "state": {
            "_view_name": "LayoutView",
            "grid_template_rows": null,
            "right": null,
            "justify_content": null,
            "_view_module": "@jupyter-widgets/base",
            "overflow": null,
            "_model_module_version": "1.2.0",
            "_view_count": null,
            "flex_flow": null,
            "width": null,
            "min_width": null,
            "border": null,
            "align_items": null,
            "bottom": null,
            "_model_module": "@jupyter-widgets/base",
            "top": null,
            "grid_column": null,
            "overflow_y": null,
            "overflow_x": null,
            "grid_auto_flow": null,
            "grid_area": null,
            "grid_template_columns": null,
            "flex": null,
            "_model_name": "LayoutModel",
            "justify_items": null,
            "grid_row": null,
            "max_height": null,
            "align_content": null,
            "visibility": null,
            "align_self": null,
            "height": null,
            "min_height": null,
            "padding": null,
            "grid_auto_rows": null,
            "grid_gap": null,
            "max_width": null,
            "order": null,
            "_view_module_version": "1.2.0",
            "grid_template_areas": null,
            "object_position": null,
            "object_fit": null,
            "grid_auto_columns": null,
            "margin": null,
            "display": null,
            "left": null
          }
        },
        "4d73c8e8e533467da28c4855838917ad": {
          "model_module": "@jupyter-widgets/controls",
          "model_name": "DescriptionStyleModel",
          "state": {
            "_view_name": "StyleView",
            "_model_name": "DescriptionStyleModel",
            "description_width": "",
            "_view_module": "@jupyter-widgets/base",
            "_model_module_version": "1.5.0",
            "_view_count": null,
            "_view_module_version": "1.2.0",
            "_model_module": "@jupyter-widgets/controls"
          }
        },
        "b25989406e6f4df0b9f5e8ccc03dea93": {
          "model_module": "@jupyter-widgets/base",
          "model_name": "LayoutModel",
          "state": {
            "_view_name": "LayoutView",
            "grid_template_rows": null,
            "right": null,
            "justify_content": null,
            "_view_module": "@jupyter-widgets/base",
            "overflow": null,
            "_model_module_version": "1.2.0",
            "_view_count": null,
            "flex_flow": null,
            "width": null,
            "min_width": null,
            "border": null,
            "align_items": null,
            "bottom": null,
            "_model_module": "@jupyter-widgets/base",
            "top": null,
            "grid_column": null,
            "overflow_y": null,
            "overflow_x": null,
            "grid_auto_flow": null,
            "grid_area": null,
            "grid_template_columns": null,
            "flex": null,
            "_model_name": "LayoutModel",
            "justify_items": null,
            "grid_row": null,
            "max_height": null,
            "align_content": null,
            "visibility": null,
            "align_self": null,
            "height": null,
            "min_height": null,
            "padding": null,
            "grid_auto_rows": null,
            "grid_gap": null,
            "max_width": null,
            "order": null,
            "_view_module_version": "1.2.0",
            "grid_template_areas": null,
            "object_position": null,
            "object_fit": null,
            "grid_auto_columns": null,
            "margin": null,
            "display": null,
            "left": null
          }
        },
        "ea73d812c06649898e0ce3e12ccd79ac": {
          "model_module": "@jupyter-widgets/controls",
          "model_name": "HBoxModel",
          "state": {
            "_view_name": "HBoxView",
            "_dom_classes": [],
            "_model_name": "HBoxModel",
            "_view_module": "@jupyter-widgets/controls",
            "_model_module_version": "1.5.0",
            "_view_count": null,
            "_view_module_version": "1.5.0",
            "box_style": "",
            "layout": "IPY_MODEL_7eeb376b63cc4efdabe6359fa09e4063",
            "_model_module": "@jupyter-widgets/controls",
            "children": [
              "IPY_MODEL_97d04b8ba0784809929e516a3aaab6f4",
              "IPY_MODEL_074142200c124fa78adf867266bddfc0",
              "IPY_MODEL_2e7db20975654cba814b8f2057d6c685"
            ]
          }
        },
        "7eeb376b63cc4efdabe6359fa09e4063": {
          "model_module": "@jupyter-widgets/base",
          "model_name": "LayoutModel",
          "state": {
            "_view_name": "LayoutView",
            "grid_template_rows": null,
            "right": null,
            "justify_content": null,
            "_view_module": "@jupyter-widgets/base",
            "overflow": null,
            "_model_module_version": "1.2.0",
            "_view_count": null,
            "flex_flow": null,
            "width": null,
            "min_width": null,
            "border": null,
            "align_items": null,
            "bottom": null,
            "_model_module": "@jupyter-widgets/base",
            "top": null,
            "grid_column": null,
            "overflow_y": null,
            "overflow_x": null,
            "grid_auto_flow": null,
            "grid_area": null,
            "grid_template_columns": null,
            "flex": null,
            "_model_name": "LayoutModel",
            "justify_items": null,
            "grid_row": null,
            "max_height": null,
            "align_content": null,
            "visibility": null,
            "align_self": null,
            "height": null,
            "min_height": null,
            "padding": null,
            "grid_auto_rows": null,
            "grid_gap": null,
            "max_width": null,
            "order": null,
            "_view_module_version": "1.2.0",
            "grid_template_areas": null,
            "object_position": null,
            "object_fit": null,
            "grid_auto_columns": null,
            "margin": null,
            "display": null,
            "left": null
          }
        },
        "97d04b8ba0784809929e516a3aaab6f4": {
          "model_module": "@jupyter-widgets/controls",
          "model_name": "HTMLModel",
          "state": {
            "_view_name": "HTMLView",
            "style": "IPY_MODEL_0b1eca40f31e4293b8d97d53de426e89",
            "_dom_classes": [],
            "description": "",
            "_model_name": "HTMLModel",
            "placeholder": "​",
            "_view_module": "@jupyter-widgets/controls",
            "_model_module_version": "1.5.0",
            "value": "Running Prediction: 100%",
            "_view_count": null,
            "_view_module_version": "1.5.0",
            "description_tooltip": null,
            "_model_module": "@jupyter-widgets/controls",
            "layout": "IPY_MODEL_70c068ba645146539dbd76de8c3d0eda"
          }
        },
        "074142200c124fa78adf867266bddfc0": {
          "model_module": "@jupyter-widgets/controls",
          "model_name": "FloatProgressModel",
          "state": {
            "_view_name": "ProgressView",
            "style": "IPY_MODEL_eca03323cfaa4f218ddfe86c5ace42c6",
            "_dom_classes": [],
            "description": "",
            "_model_name": "FloatProgressModel",
            "bar_style": "success",
            "max": 948,
            "_view_module": "@jupyter-widgets/controls",
            "_model_module_version": "1.5.0",
            "value": 948,
            "_view_count": null,
            "_view_module_version": "1.5.0",
            "orientation": "horizontal",
            "min": 0,
            "description_tooltip": null,
            "_model_module": "@jupyter-widgets/controls",
            "layout": "IPY_MODEL_4525295d31714d9ba94644632e63f637"
          }
        },
        "2e7db20975654cba814b8f2057d6c685": {
          "model_module": "@jupyter-widgets/controls",
          "model_name": "HTMLModel",
          "state": {
            "_view_name": "HTMLView",
            "style": "IPY_MODEL_d40d3d17a6ac4983a6f41aafcc64e8d5",
            "_dom_classes": [],
            "description": "",
            "_model_name": "HTMLModel",
            "placeholder": "​",
            "_view_module": "@jupyter-widgets/controls",
            "_model_module_version": "1.5.0",
            "value": " 948/948 [02:48&lt;00:00,  5.63it/s]",
            "_view_count": null,
            "_view_module_version": "1.5.0",
            "description_tooltip": null,
            "_model_module": "@jupyter-widgets/controls",
            "layout": "IPY_MODEL_5714c0b58d78466c9983ea5e9062249b"
          }
        },
        "0b1eca40f31e4293b8d97d53de426e89": {
          "model_module": "@jupyter-widgets/controls",
          "model_name": "DescriptionStyleModel",
          "state": {
            "_view_name": "StyleView",
            "_model_name": "DescriptionStyleModel",
            "description_width": "",
            "_view_module": "@jupyter-widgets/base",
            "_model_module_version": "1.5.0",
            "_view_count": null,
            "_view_module_version": "1.2.0",
            "_model_module": "@jupyter-widgets/controls"
          }
        },
        "70c068ba645146539dbd76de8c3d0eda": {
          "model_module": "@jupyter-widgets/base",
          "model_name": "LayoutModel",
          "state": {
            "_view_name": "LayoutView",
            "grid_template_rows": null,
            "right": null,
            "justify_content": null,
            "_view_module": "@jupyter-widgets/base",
            "overflow": null,
            "_model_module_version": "1.2.0",
            "_view_count": null,
            "flex_flow": null,
            "width": null,
            "min_width": null,
            "border": null,
            "align_items": null,
            "bottom": null,
            "_model_module": "@jupyter-widgets/base",
            "top": null,
            "grid_column": null,
            "overflow_y": null,
            "overflow_x": null,
            "grid_auto_flow": null,
            "grid_area": null,
            "grid_template_columns": null,
            "flex": null,
            "_model_name": "LayoutModel",
            "justify_items": null,
            "grid_row": null,
            "max_height": null,
            "align_content": null,
            "visibility": null,
            "align_self": null,
            "height": null,
            "min_height": null,
            "padding": null,
            "grid_auto_rows": null,
            "grid_gap": null,
            "max_width": null,
            "order": null,
            "_view_module_version": "1.2.0",
            "grid_template_areas": null,
            "object_position": null,
            "object_fit": null,
            "grid_auto_columns": null,
            "margin": null,
            "display": null,
            "left": null
          }
        },
        "eca03323cfaa4f218ddfe86c5ace42c6": {
          "model_module": "@jupyter-widgets/controls",
          "model_name": "ProgressStyleModel",
          "state": {
            "_view_name": "StyleView",
            "_model_name": "ProgressStyleModel",
            "description_width": "",
            "_view_module": "@jupyter-widgets/base",
            "_model_module_version": "1.5.0",
            "_view_count": null,
            "_view_module_version": "1.2.0",
            "bar_color": null,
            "_model_module": "@jupyter-widgets/controls"
          }
        },
        "4525295d31714d9ba94644632e63f637": {
          "model_module": "@jupyter-widgets/base",
          "model_name": "LayoutModel",
          "state": {
            "_view_name": "LayoutView",
            "grid_template_rows": null,
            "right": null,
            "justify_content": null,
            "_view_module": "@jupyter-widgets/base",
            "overflow": null,
            "_model_module_version": "1.2.0",
            "_view_count": null,
            "flex_flow": null,
            "width": null,
            "min_width": null,
            "border": null,
            "align_items": null,
            "bottom": null,
            "_model_module": "@jupyter-widgets/base",
            "top": null,
            "grid_column": null,
            "overflow_y": null,
            "overflow_x": null,
            "grid_auto_flow": null,
            "grid_area": null,
            "grid_template_columns": null,
            "flex": null,
            "_model_name": "LayoutModel",
            "justify_items": null,
            "grid_row": null,
            "max_height": null,
            "align_content": null,
            "visibility": null,
            "align_self": null,
            "height": null,
            "min_height": null,
            "padding": null,
            "grid_auto_rows": null,
            "grid_gap": null,
            "max_width": null,
            "order": null,
            "_view_module_version": "1.2.0",
            "grid_template_areas": null,
            "object_position": null,
            "object_fit": null,
            "grid_auto_columns": null,
            "margin": null,
            "display": null,
            "left": null
          }
        },
        "d40d3d17a6ac4983a6f41aafcc64e8d5": {
          "model_module": "@jupyter-widgets/controls",
          "model_name": "DescriptionStyleModel",
          "state": {
            "_view_name": "StyleView",
            "_model_name": "DescriptionStyleModel",
            "description_width": "",
            "_view_module": "@jupyter-widgets/base",
            "_model_module_version": "1.5.0",
            "_view_count": null,
            "_view_module_version": "1.2.0",
            "_model_module": "@jupyter-widgets/controls"
          }
        },
        "5714c0b58d78466c9983ea5e9062249b": {
          "model_module": "@jupyter-widgets/base",
          "model_name": "LayoutModel",
          "state": {
            "_view_name": "LayoutView",
            "grid_template_rows": null,
            "right": null,
            "justify_content": null,
            "_view_module": "@jupyter-widgets/base",
            "overflow": null,
            "_model_module_version": "1.2.0",
            "_view_count": null,
            "flex_flow": null,
            "width": null,
            "min_width": null,
            "border": null,
            "align_items": null,
            "bottom": null,
            "_model_module": "@jupyter-widgets/base",
            "top": null,
            "grid_column": null,
            "overflow_y": null,
            "overflow_x": null,
            "grid_auto_flow": null,
            "grid_area": null,
            "grid_template_columns": null,
            "flex": null,
            "_model_name": "LayoutModel",
            "justify_items": null,
            "grid_row": null,
            "max_height": null,
            "align_content": null,
            "visibility": null,
            "align_self": null,
            "height": null,
            "min_height": null,
            "padding": null,
            "grid_auto_rows": null,
            "grid_gap": null,
            "max_width": null,
            "order": null,
            "_view_module_version": "1.2.0",
            "grid_template_areas": null,
            "object_position": null,
            "object_fit": null,
            "grid_auto_columns": null,
            "margin": null,
            "display": null,
            "left": null
          }
        },
        "920bff82182d49c7882d6ee3419a2bf9": {
          "model_module": "@jupyter-widgets/controls",
          "model_name": "HBoxModel",
          "state": {
            "_view_name": "HBoxView",
            "_dom_classes": [],
            "_model_name": "HBoxModel",
            "_view_module": "@jupyter-widgets/controls",
            "_model_module_version": "1.5.0",
            "_view_count": null,
            "_view_module_version": "1.5.0",
            "box_style": "",
            "layout": "IPY_MODEL_a111287038e24634852465533bbb0911",
            "_model_module": "@jupyter-widgets/controls",
            "children": [
              "IPY_MODEL_92be875a0c0a43bfb460b1ad2f43d60f",
              "IPY_MODEL_867d2d15597e45419e74cbf3d0c67f41",
              "IPY_MODEL_7407f48c8af648ee855f6e60457ca239"
            ]
          }
        },
        "a111287038e24634852465533bbb0911": {
          "model_module": "@jupyter-widgets/base",
          "model_name": "LayoutModel",
          "state": {
            "_view_name": "LayoutView",
            "grid_template_rows": null,
            "right": null,
            "justify_content": null,
            "_view_module": "@jupyter-widgets/base",
            "overflow": null,
            "_model_module_version": "1.2.0",
            "_view_count": null,
            "flex_flow": null,
            "width": null,
            "min_width": null,
            "border": null,
            "align_items": null,
            "bottom": null,
            "_model_module": "@jupyter-widgets/base",
            "top": null,
            "grid_column": null,
            "overflow_y": null,
            "overflow_x": null,
            "grid_auto_flow": null,
            "grid_area": null,
            "grid_template_columns": null,
            "flex": null,
            "_model_name": "LayoutModel",
            "justify_items": null,
            "grid_row": null,
            "max_height": null,
            "align_content": null,
            "visibility": null,
            "align_self": null,
            "height": null,
            "min_height": null,
            "padding": null,
            "grid_auto_rows": null,
            "grid_gap": null,
            "max_width": null,
            "order": null,
            "_view_module_version": "1.2.0",
            "grid_template_areas": null,
            "object_position": null,
            "object_fit": null,
            "grid_auto_columns": null,
            "margin": null,
            "display": null,
            "left": null
          }
        },
        "92be875a0c0a43bfb460b1ad2f43d60f": {
          "model_module": "@jupyter-widgets/controls",
          "model_name": "HTMLModel",
          "state": {
            "_view_name": "HTMLView",
            "style": "IPY_MODEL_9463c681afd74990976daafd5aebd881",
            "_dom_classes": [],
            "description": "",
            "_model_name": "HTMLModel",
            "placeholder": "​",
            "_view_module": "@jupyter-widgets/controls",
            "_model_module_version": "1.5.0",
            "value": "Running Prediction: 100%",
            "_view_count": null,
            "_view_module_version": "1.5.0",
            "description_tooltip": null,
            "_model_module": "@jupyter-widgets/controls",
            "layout": "IPY_MODEL_03733f9b2f814422a8aa9951f429905a"
          }
        },
        "867d2d15597e45419e74cbf3d0c67f41": {
          "model_module": "@jupyter-widgets/controls",
          "model_name": "FloatProgressModel",
          "state": {
            "_view_name": "ProgressView",
            "style": "IPY_MODEL_222136c0695e4fedac7d3bb8fa456e46",
            "_dom_classes": [],
            "description": "",
            "_model_name": "FloatProgressModel",
            "bar_style": "success",
            "max": 910,
            "_view_module": "@jupyter-widgets/controls",
            "_model_module_version": "1.5.0",
            "value": 910,
            "_view_count": null,
            "_view_module_version": "1.5.0",
            "orientation": "horizontal",
            "min": 0,
            "description_tooltip": null,
            "_model_module": "@jupyter-widgets/controls",
            "layout": "IPY_MODEL_d77e032f958e4bafb79c628cfcb72b3e"
          }
        },
        "7407f48c8af648ee855f6e60457ca239": {
          "model_module": "@jupyter-widgets/controls",
          "model_name": "HTMLModel",
          "state": {
            "_view_name": "HTMLView",
            "style": "IPY_MODEL_1d045a31a355434c9ed060e5759973d0",
            "_dom_classes": [],
            "description": "",
            "_model_name": "HTMLModel",
            "placeholder": "​",
            "_view_module": "@jupyter-widgets/controls",
            "_model_module_version": "1.5.0",
            "value": " 910/910 [02:41&lt;00:00,  6.29it/s]",
            "_view_count": null,
            "_view_module_version": "1.5.0",
            "description_tooltip": null,
            "_model_module": "@jupyter-widgets/controls",
            "layout": "IPY_MODEL_6d7c83c1506c45399d11acf59006764a"
          }
        },
        "9463c681afd74990976daafd5aebd881": {
          "model_module": "@jupyter-widgets/controls",
          "model_name": "DescriptionStyleModel",
          "state": {
            "_view_name": "StyleView",
            "_model_name": "DescriptionStyleModel",
            "description_width": "",
            "_view_module": "@jupyter-widgets/base",
            "_model_module_version": "1.5.0",
            "_view_count": null,
            "_view_module_version": "1.2.0",
            "_model_module": "@jupyter-widgets/controls"
          }
        },
        "03733f9b2f814422a8aa9951f429905a": {
          "model_module": "@jupyter-widgets/base",
          "model_name": "LayoutModel",
          "state": {
            "_view_name": "LayoutView",
            "grid_template_rows": null,
            "right": null,
            "justify_content": null,
            "_view_module": "@jupyter-widgets/base",
            "overflow": null,
            "_model_module_version": "1.2.0",
            "_view_count": null,
            "flex_flow": null,
            "width": null,
            "min_width": null,
            "border": null,
            "align_items": null,
            "bottom": null,
            "_model_module": "@jupyter-widgets/base",
            "top": null,
            "grid_column": null,
            "overflow_y": null,
            "overflow_x": null,
            "grid_auto_flow": null,
            "grid_area": null,
            "grid_template_columns": null,
            "flex": null,
            "_model_name": "LayoutModel",
            "justify_items": null,
            "grid_row": null,
            "max_height": null,
            "align_content": null,
            "visibility": null,
            "align_self": null,
            "height": null,
            "min_height": null,
            "padding": null,
            "grid_auto_rows": null,
            "grid_gap": null,
            "max_width": null,
            "order": null,
            "_view_module_version": "1.2.0",
            "grid_template_areas": null,
            "object_position": null,
            "object_fit": null,
            "grid_auto_columns": null,
            "margin": null,
            "display": null,
            "left": null
          }
        },
        "222136c0695e4fedac7d3bb8fa456e46": {
          "model_module": "@jupyter-widgets/controls",
          "model_name": "ProgressStyleModel",
          "state": {
            "_view_name": "StyleView",
            "_model_name": "ProgressStyleModel",
            "description_width": "",
            "_view_module": "@jupyter-widgets/base",
            "_model_module_version": "1.5.0",
            "_view_count": null,
            "_view_module_version": "1.2.0",
            "bar_color": null,
            "_model_module": "@jupyter-widgets/controls"
          }
        },
        "d77e032f958e4bafb79c628cfcb72b3e": {
          "model_module": "@jupyter-widgets/base",
          "model_name": "LayoutModel",
          "state": {
            "_view_name": "LayoutView",
            "grid_template_rows": null,
            "right": null,
            "justify_content": null,
            "_view_module": "@jupyter-widgets/base",
            "overflow": null,
            "_model_module_version": "1.2.0",
            "_view_count": null,
            "flex_flow": null,
            "width": null,
            "min_width": null,
            "border": null,
            "align_items": null,
            "bottom": null,
            "_model_module": "@jupyter-widgets/base",
            "top": null,
            "grid_column": null,
            "overflow_y": null,
            "overflow_x": null,
            "grid_auto_flow": null,
            "grid_area": null,
            "grid_template_columns": null,
            "flex": null,
            "_model_name": "LayoutModel",
            "justify_items": null,
            "grid_row": null,
            "max_height": null,
            "align_content": null,
            "visibility": null,
            "align_self": null,
            "height": null,
            "min_height": null,
            "padding": null,
            "grid_auto_rows": null,
            "grid_gap": null,
            "max_width": null,
            "order": null,
            "_view_module_version": "1.2.0",
            "grid_template_areas": null,
            "object_position": null,
            "object_fit": null,
            "grid_auto_columns": null,
            "margin": null,
            "display": null,
            "left": null
          }
        },
        "1d045a31a355434c9ed060e5759973d0": {
          "model_module": "@jupyter-widgets/controls",
          "model_name": "DescriptionStyleModel",
          "state": {
            "_view_name": "StyleView",
            "_model_name": "DescriptionStyleModel",
            "description_width": "",
            "_view_module": "@jupyter-widgets/base",
            "_model_module_version": "1.5.0",
            "_view_count": null,
            "_view_module_version": "1.2.0",
            "_model_module": "@jupyter-widgets/controls"
          }
        },
        "6d7c83c1506c45399d11acf59006764a": {
          "model_module": "@jupyter-widgets/base",
          "model_name": "LayoutModel",
          "state": {
            "_view_name": "LayoutView",
            "grid_template_rows": null,
            "right": null,
            "justify_content": null,
            "_view_module": "@jupyter-widgets/base",
            "overflow": null,
            "_model_module_version": "1.2.0",
            "_view_count": null,
            "flex_flow": null,
            "width": null,
            "min_width": null,
            "border": null,
            "align_items": null,
            "bottom": null,
            "_model_module": "@jupyter-widgets/base",
            "top": null,
            "grid_column": null,
            "overflow_y": null,
            "overflow_x": null,
            "grid_auto_flow": null,
            "grid_area": null,
            "grid_template_columns": null,
            "flex": null,
            "_model_name": "LayoutModel",
            "justify_items": null,
            "grid_row": null,
            "max_height": null,
            "align_content": null,
            "visibility": null,
            "align_self": null,
            "height": null,
            "min_height": null,
            "padding": null,
            "grid_auto_rows": null,
            "grid_gap": null,
            "max_width": null,
            "order": null,
            "_view_module_version": "1.2.0",
            "grid_template_areas": null,
            "object_position": null,
            "object_fit": null,
            "grid_auto_columns": null,
            "margin": null,
            "display": null,
            "left": null
          }
        },
        "81d15c3f7e2a4c7281036e2c0760c7f4": {
          "model_module": "@jupyter-widgets/controls",
          "model_name": "HBoxModel",
          "state": {
            "_view_name": "HBoxView",
            "_dom_classes": [],
            "_model_name": "HBoxModel",
            "_view_module": "@jupyter-widgets/controls",
            "_model_module_version": "1.5.0",
            "_view_count": null,
            "_view_module_version": "1.5.0",
            "box_style": "",
            "layout": "IPY_MODEL_1e8d1591ad4b4ca9b667d60200722672",
            "_model_module": "@jupyter-widgets/controls",
            "children": [
              "IPY_MODEL_ce1485ad3881423c9a988df298eca556",
              "IPY_MODEL_4bd5089351464cf9ac447adf454caf24",
              "IPY_MODEL_cc1031032004458f9c54dabf11245998"
            ]
          }
        },
        "1e8d1591ad4b4ca9b667d60200722672": {
          "model_module": "@jupyter-widgets/base",
          "model_name": "LayoutModel",
          "state": {
            "_view_name": "LayoutView",
            "grid_template_rows": null,
            "right": null,
            "justify_content": null,
            "_view_module": "@jupyter-widgets/base",
            "overflow": null,
            "_model_module_version": "1.2.0",
            "_view_count": null,
            "flex_flow": null,
            "width": null,
            "min_width": null,
            "border": null,
            "align_items": null,
            "bottom": null,
            "_model_module": "@jupyter-widgets/base",
            "top": null,
            "grid_column": null,
            "overflow_y": null,
            "overflow_x": null,
            "grid_auto_flow": null,
            "grid_area": null,
            "grid_template_columns": null,
            "flex": null,
            "_model_name": "LayoutModel",
            "justify_items": null,
            "grid_row": null,
            "max_height": null,
            "align_content": null,
            "visibility": null,
            "align_self": null,
            "height": null,
            "min_height": null,
            "padding": null,
            "grid_auto_rows": null,
            "grid_gap": null,
            "max_width": null,
            "order": null,
            "_view_module_version": "1.2.0",
            "grid_template_areas": null,
            "object_position": null,
            "object_fit": null,
            "grid_auto_columns": null,
            "margin": null,
            "display": null,
            "left": null
          }
        },
        "ce1485ad3881423c9a988df298eca556": {
          "model_module": "@jupyter-widgets/controls",
          "model_name": "HTMLModel",
          "state": {
            "_view_name": "HTMLView",
            "style": "IPY_MODEL_55b4a925437c4aabb9db7c48068e90b1",
            "_dom_classes": [],
            "description": "",
            "_model_name": "HTMLModel",
            "placeholder": "​",
            "_view_module": "@jupyter-widgets/controls",
            "_model_module_version": "1.5.0",
            "value": "Running Prediction: 100%",
            "_view_count": null,
            "_view_module_version": "1.5.0",
            "description_tooltip": null,
            "_model_module": "@jupyter-widgets/controls",
            "layout": "IPY_MODEL_aad7b817407b4bf28e18c3372c70ad2b"
          }
        },
        "4bd5089351464cf9ac447adf454caf24": {
          "model_module": "@jupyter-widgets/controls",
          "model_name": "FloatProgressModel",
          "state": {
            "_view_name": "ProgressView",
            "style": "IPY_MODEL_a16978d1c6904314b154d37d2536c83c",
            "_dom_classes": [],
            "description": "",
            "_model_name": "FloatProgressModel",
            "bar_style": "success",
            "max": 908,
            "_view_module": "@jupyter-widgets/controls",
            "_model_module_version": "1.5.0",
            "value": 908,
            "_view_count": null,
            "_view_module_version": "1.5.0",
            "orientation": "horizontal",
            "min": 0,
            "description_tooltip": null,
            "_model_module": "@jupyter-widgets/controls",
            "layout": "IPY_MODEL_b45e3be0bb2042ab946f58055cc0aec6"
          }
        },
        "cc1031032004458f9c54dabf11245998": {
          "model_module": "@jupyter-widgets/controls",
          "model_name": "HTMLModel",
          "state": {
            "_view_name": "HTMLView",
            "style": "IPY_MODEL_5cbdae528e984146990c99634fa7fcff",
            "_dom_classes": [],
            "description": "",
            "_model_name": "HTMLModel",
            "placeholder": "​",
            "_view_module": "@jupyter-widgets/controls",
            "_model_module_version": "1.5.0",
            "value": " 908/908 [02:41&lt;00:00,  5.63it/s]",
            "_view_count": null,
            "_view_module_version": "1.5.0",
            "description_tooltip": null,
            "_model_module": "@jupyter-widgets/controls",
            "layout": "IPY_MODEL_be877603edb64f7e9a5cb9fa327cf8a1"
          }
        },
        "55b4a925437c4aabb9db7c48068e90b1": {
          "model_module": "@jupyter-widgets/controls",
          "model_name": "DescriptionStyleModel",
          "state": {
            "_view_name": "StyleView",
            "_model_name": "DescriptionStyleModel",
            "description_width": "",
            "_view_module": "@jupyter-widgets/base",
            "_model_module_version": "1.5.0",
            "_view_count": null,
            "_view_module_version": "1.2.0",
            "_model_module": "@jupyter-widgets/controls"
          }
        },
        "aad7b817407b4bf28e18c3372c70ad2b": {
          "model_module": "@jupyter-widgets/base",
          "model_name": "LayoutModel",
          "state": {
            "_view_name": "LayoutView",
            "grid_template_rows": null,
            "right": null,
            "justify_content": null,
            "_view_module": "@jupyter-widgets/base",
            "overflow": null,
            "_model_module_version": "1.2.0",
            "_view_count": null,
            "flex_flow": null,
            "width": null,
            "min_width": null,
            "border": null,
            "align_items": null,
            "bottom": null,
            "_model_module": "@jupyter-widgets/base",
            "top": null,
            "grid_column": null,
            "overflow_y": null,
            "overflow_x": null,
            "grid_auto_flow": null,
            "grid_area": null,
            "grid_template_columns": null,
            "flex": null,
            "_model_name": "LayoutModel",
            "justify_items": null,
            "grid_row": null,
            "max_height": null,
            "align_content": null,
            "visibility": null,
            "align_self": null,
            "height": null,
            "min_height": null,
            "padding": null,
            "grid_auto_rows": null,
            "grid_gap": null,
            "max_width": null,
            "order": null,
            "_view_module_version": "1.2.0",
            "grid_template_areas": null,
            "object_position": null,
            "object_fit": null,
            "grid_auto_columns": null,
            "margin": null,
            "display": null,
            "left": null
          }
        },
        "a16978d1c6904314b154d37d2536c83c": {
          "model_module": "@jupyter-widgets/controls",
          "model_name": "ProgressStyleModel",
          "state": {
            "_view_name": "StyleView",
            "_model_name": "ProgressStyleModel",
            "description_width": "",
            "_view_module": "@jupyter-widgets/base",
            "_model_module_version": "1.5.0",
            "_view_count": null,
            "_view_module_version": "1.2.0",
            "bar_color": null,
            "_model_module": "@jupyter-widgets/controls"
          }
        },
        "b45e3be0bb2042ab946f58055cc0aec6": {
          "model_module": "@jupyter-widgets/base",
          "model_name": "LayoutModel",
          "state": {
            "_view_name": "LayoutView",
            "grid_template_rows": null,
            "right": null,
            "justify_content": null,
            "_view_module": "@jupyter-widgets/base",
            "overflow": null,
            "_model_module_version": "1.2.0",
            "_view_count": null,
            "flex_flow": null,
            "width": null,
            "min_width": null,
            "border": null,
            "align_items": null,
            "bottom": null,
            "_model_module": "@jupyter-widgets/base",
            "top": null,
            "grid_column": null,
            "overflow_y": null,
            "overflow_x": null,
            "grid_auto_flow": null,
            "grid_area": null,
            "grid_template_columns": null,
            "flex": null,
            "_model_name": "LayoutModel",
            "justify_items": null,
            "grid_row": null,
            "max_height": null,
            "align_content": null,
            "visibility": null,
            "align_self": null,
            "height": null,
            "min_height": null,
            "padding": null,
            "grid_auto_rows": null,
            "grid_gap": null,
            "max_width": null,
            "order": null,
            "_view_module_version": "1.2.0",
            "grid_template_areas": null,
            "object_position": null,
            "object_fit": null,
            "grid_auto_columns": null,
            "margin": null,
            "display": null,
            "left": null
          }
        },
        "5cbdae528e984146990c99634fa7fcff": {
          "model_module": "@jupyter-widgets/controls",
          "model_name": "DescriptionStyleModel",
          "state": {
            "_view_name": "StyleView",
            "_model_name": "DescriptionStyleModel",
            "description_width": "",
            "_view_module": "@jupyter-widgets/base",
            "_model_module_version": "1.5.0",
            "_view_count": null,
            "_view_module_version": "1.2.0",
            "_model_module": "@jupyter-widgets/controls"
          }
        },
        "be877603edb64f7e9a5cb9fa327cf8a1": {
          "model_module": "@jupyter-widgets/base",
          "model_name": "LayoutModel",
          "state": {
            "_view_name": "LayoutView",
            "grid_template_rows": null,
            "right": null,
            "justify_content": null,
            "_view_module": "@jupyter-widgets/base",
            "overflow": null,
            "_model_module_version": "1.2.0",
            "_view_count": null,
            "flex_flow": null,
            "width": null,
            "min_width": null,
            "border": null,
            "align_items": null,
            "bottom": null,
            "_model_module": "@jupyter-widgets/base",
            "top": null,
            "grid_column": null,
            "overflow_y": null,
            "overflow_x": null,
            "grid_auto_flow": null,
            "grid_area": null,
            "grid_template_columns": null,
            "flex": null,
            "_model_name": "LayoutModel",
            "justify_items": null,
            "grid_row": null,
            "max_height": null,
            "align_content": null,
            "visibility": null,
            "align_self": null,
            "height": null,
            "min_height": null,
            "padding": null,
            "grid_auto_rows": null,
            "grid_gap": null,
            "max_width": null,
            "order": null,
            "_view_module_version": "1.2.0",
            "grid_template_areas": null,
            "object_position": null,
            "object_fit": null,
            "grid_auto_columns": null,
            "margin": null,
            "display": null,
            "left": null
          }
        },
        "ce26b4c426ea4142b855812397f104f7": {
          "model_module": "@jupyter-widgets/controls",
          "model_name": "HBoxModel",
          "state": {
            "_view_name": "HBoxView",
            "_dom_classes": [],
            "_model_name": "HBoxModel",
            "_view_module": "@jupyter-widgets/controls",
            "_model_module_version": "1.5.0",
            "_view_count": null,
            "_view_module_version": "1.5.0",
            "box_style": "",
            "layout": "IPY_MODEL_64a6195a6fb743c9be455051d5507b91",
            "_model_module": "@jupyter-widgets/controls",
            "children": [
              "IPY_MODEL_5fa059fd305c4d92aee6dd316f42cbd8",
              "IPY_MODEL_5a10123b23b847d0af055a6352b6d229",
              "IPY_MODEL_d3bf216d95c54fbf835d3cb71af401fc"
            ]
          }
        },
        "64a6195a6fb743c9be455051d5507b91": {
          "model_module": "@jupyter-widgets/base",
          "model_name": "LayoutModel",
          "state": {
            "_view_name": "LayoutView",
            "grid_template_rows": null,
            "right": null,
            "justify_content": null,
            "_view_module": "@jupyter-widgets/base",
            "overflow": null,
            "_model_module_version": "1.2.0",
            "_view_count": null,
            "flex_flow": null,
            "width": null,
            "min_width": null,
            "border": null,
            "align_items": null,
            "bottom": null,
            "_model_module": "@jupyter-widgets/base",
            "top": null,
            "grid_column": null,
            "overflow_y": null,
            "overflow_x": null,
            "grid_auto_flow": null,
            "grid_area": null,
            "grid_template_columns": null,
            "flex": null,
            "_model_name": "LayoutModel",
            "justify_items": null,
            "grid_row": null,
            "max_height": null,
            "align_content": null,
            "visibility": null,
            "align_self": null,
            "height": null,
            "min_height": null,
            "padding": null,
            "grid_auto_rows": null,
            "grid_gap": null,
            "max_width": null,
            "order": null,
            "_view_module_version": "1.2.0",
            "grid_template_areas": null,
            "object_position": null,
            "object_fit": null,
            "grid_auto_columns": null,
            "margin": null,
            "display": null,
            "left": null
          }
        },
        "5fa059fd305c4d92aee6dd316f42cbd8": {
          "model_module": "@jupyter-widgets/controls",
          "model_name": "HTMLModel",
          "state": {
            "_view_name": "HTMLView",
            "style": "IPY_MODEL_1db962512fa54e83b65d037b9d7425cf",
            "_dom_classes": [],
            "description": "",
            "_model_name": "HTMLModel",
            "placeholder": "​",
            "_view_module": "@jupyter-widgets/controls",
            "_model_module_version": "1.5.0",
            "value": "Running Prediction: 100%",
            "_view_count": null,
            "_view_module_version": "1.5.0",
            "description_tooltip": null,
            "_model_module": "@jupyter-widgets/controls",
            "layout": "IPY_MODEL_edb2e7ab10a34347b2ca27e0ceafab31"
          }
        },
        "5a10123b23b847d0af055a6352b6d229": {
          "model_module": "@jupyter-widgets/controls",
          "model_name": "FloatProgressModel",
          "state": {
            "_view_name": "ProgressView",
            "style": "IPY_MODEL_a214c047d9624af3b37c0ce5f37cee78",
            "_dom_classes": [],
            "description": "",
            "_model_name": "FloatProgressModel",
            "bar_style": "success",
            "max": 908,
            "_view_module": "@jupyter-widgets/controls",
            "_model_module_version": "1.5.0",
            "value": 908,
            "_view_count": null,
            "_view_module_version": "1.5.0",
            "orientation": "horizontal",
            "min": 0,
            "description_tooltip": null,
            "_model_module": "@jupyter-widgets/controls",
            "layout": "IPY_MODEL_97f712259c4349a0b598160226082f71"
          }
        },
        "d3bf216d95c54fbf835d3cb71af401fc": {
          "model_module": "@jupyter-widgets/controls",
          "model_name": "HTMLModel",
          "state": {
            "_view_name": "HTMLView",
            "style": "IPY_MODEL_3a8d9e19a12045f4a4149ec6d7cd4f64",
            "_dom_classes": [],
            "description": "",
            "_model_name": "HTMLModel",
            "placeholder": "​",
            "_view_module": "@jupyter-widgets/controls",
            "_model_module_version": "1.5.0",
            "value": " 908/908 [02:41&lt;00:00,  5.60it/s]",
            "_view_count": null,
            "_view_module_version": "1.5.0",
            "description_tooltip": null,
            "_model_module": "@jupyter-widgets/controls",
            "layout": "IPY_MODEL_734cc01e55de4dc08b160f4008a802e5"
          }
        },
        "1db962512fa54e83b65d037b9d7425cf": {
          "model_module": "@jupyter-widgets/controls",
          "model_name": "DescriptionStyleModel",
          "state": {
            "_view_name": "StyleView",
            "_model_name": "DescriptionStyleModel",
            "description_width": "",
            "_view_module": "@jupyter-widgets/base",
            "_model_module_version": "1.5.0",
            "_view_count": null,
            "_view_module_version": "1.2.0",
            "_model_module": "@jupyter-widgets/controls"
          }
        },
        "edb2e7ab10a34347b2ca27e0ceafab31": {
          "model_module": "@jupyter-widgets/base",
          "model_name": "LayoutModel",
          "state": {
            "_view_name": "LayoutView",
            "grid_template_rows": null,
            "right": null,
            "justify_content": null,
            "_view_module": "@jupyter-widgets/base",
            "overflow": null,
            "_model_module_version": "1.2.0",
            "_view_count": null,
            "flex_flow": null,
            "width": null,
            "min_width": null,
            "border": null,
            "align_items": null,
            "bottom": null,
            "_model_module": "@jupyter-widgets/base",
            "top": null,
            "grid_column": null,
            "overflow_y": null,
            "overflow_x": null,
            "grid_auto_flow": null,
            "grid_area": null,
            "grid_template_columns": null,
            "flex": null,
            "_model_name": "LayoutModel",
            "justify_items": null,
            "grid_row": null,
            "max_height": null,
            "align_content": null,
            "visibility": null,
            "align_self": null,
            "height": null,
            "min_height": null,
            "padding": null,
            "grid_auto_rows": null,
            "grid_gap": null,
            "max_width": null,
            "order": null,
            "_view_module_version": "1.2.0",
            "grid_template_areas": null,
            "object_position": null,
            "object_fit": null,
            "grid_auto_columns": null,
            "margin": null,
            "display": null,
            "left": null
          }
        },
        "a214c047d9624af3b37c0ce5f37cee78": {
          "model_module": "@jupyter-widgets/controls",
          "model_name": "ProgressStyleModel",
          "state": {
            "_view_name": "StyleView",
            "_model_name": "ProgressStyleModel",
            "description_width": "",
            "_view_module": "@jupyter-widgets/base",
            "_model_module_version": "1.5.0",
            "_view_count": null,
            "_view_module_version": "1.2.0",
            "bar_color": null,
            "_model_module": "@jupyter-widgets/controls"
          }
        },
        "97f712259c4349a0b598160226082f71": {
          "model_module": "@jupyter-widgets/base",
          "model_name": "LayoutModel",
          "state": {
            "_view_name": "LayoutView",
            "grid_template_rows": null,
            "right": null,
            "justify_content": null,
            "_view_module": "@jupyter-widgets/base",
            "overflow": null,
            "_model_module_version": "1.2.0",
            "_view_count": null,
            "flex_flow": null,
            "width": null,
            "min_width": null,
            "border": null,
            "align_items": null,
            "bottom": null,
            "_model_module": "@jupyter-widgets/base",
            "top": null,
            "grid_column": null,
            "overflow_y": null,
            "overflow_x": null,
            "grid_auto_flow": null,
            "grid_area": null,
            "grid_template_columns": null,
            "flex": null,
            "_model_name": "LayoutModel",
            "justify_items": null,
            "grid_row": null,
            "max_height": null,
            "align_content": null,
            "visibility": null,
            "align_self": null,
            "height": null,
            "min_height": null,
            "padding": null,
            "grid_auto_rows": null,
            "grid_gap": null,
            "max_width": null,
            "order": null,
            "_view_module_version": "1.2.0",
            "grid_template_areas": null,
            "object_position": null,
            "object_fit": null,
            "grid_auto_columns": null,
            "margin": null,
            "display": null,
            "left": null
          }
        },
        "3a8d9e19a12045f4a4149ec6d7cd4f64": {
          "model_module": "@jupyter-widgets/controls",
          "model_name": "DescriptionStyleModel",
          "state": {
            "_view_name": "StyleView",
            "_model_name": "DescriptionStyleModel",
            "description_width": "",
            "_view_module": "@jupyter-widgets/base",
            "_model_module_version": "1.5.0",
            "_view_count": null,
            "_view_module_version": "1.2.0",
            "_model_module": "@jupyter-widgets/controls"
          }
        },
        "734cc01e55de4dc08b160f4008a802e5": {
          "model_module": "@jupyter-widgets/base",
          "model_name": "LayoutModel",
          "state": {
            "_view_name": "LayoutView",
            "grid_template_rows": null,
            "right": null,
            "justify_content": null,
            "_view_module": "@jupyter-widgets/base",
            "overflow": null,
            "_model_module_version": "1.2.0",
            "_view_count": null,
            "flex_flow": null,
            "width": null,
            "min_width": null,
            "border": null,
            "align_items": null,
            "bottom": null,
            "_model_module": "@jupyter-widgets/base",
            "top": null,
            "grid_column": null,
            "overflow_y": null,
            "overflow_x": null,
            "grid_auto_flow": null,
            "grid_area": null,
            "grid_template_columns": null,
            "flex": null,
            "_model_name": "LayoutModel",
            "justify_items": null,
            "grid_row": null,
            "max_height": null,
            "align_content": null,
            "visibility": null,
            "align_self": null,
            "height": null,
            "min_height": null,
            "padding": null,
            "grid_auto_rows": null,
            "grid_gap": null,
            "max_width": null,
            "order": null,
            "_view_module_version": "1.2.0",
            "grid_template_areas": null,
            "object_position": null,
            "object_fit": null,
            "grid_auto_columns": null,
            "margin": null,
            "display": null,
            "left": null
          }
        },
        "12f485972e8f41dab3213ba5534f9d53": {
          "model_module": "@jupyter-widgets/controls",
          "model_name": "HBoxModel",
          "state": {
            "_view_name": "HBoxView",
            "_dom_classes": [],
            "_model_name": "HBoxModel",
            "_view_module": "@jupyter-widgets/controls",
            "_model_module_version": "1.5.0",
            "_view_count": null,
            "_view_module_version": "1.5.0",
            "box_style": "",
            "layout": "IPY_MODEL_906ab606e5cf47e7ae54ef022a85ff65",
            "_model_module": "@jupyter-widgets/controls",
            "children": [
              "IPY_MODEL_afe529afe9994497a78adee4a89f739b",
              "IPY_MODEL_0d8abc042a6549978f9e4b69b862b702",
              "IPY_MODEL_1480fe7f25d7445788f90fb403598818"
            ]
          }
        },
        "906ab606e5cf47e7ae54ef022a85ff65": {
          "model_module": "@jupyter-widgets/base",
          "model_name": "LayoutModel",
          "state": {
            "_view_name": "LayoutView",
            "grid_template_rows": null,
            "right": null,
            "justify_content": null,
            "_view_module": "@jupyter-widgets/base",
            "overflow": null,
            "_model_module_version": "1.2.0",
            "_view_count": null,
            "flex_flow": null,
            "width": null,
            "min_width": null,
            "border": null,
            "align_items": null,
            "bottom": null,
            "_model_module": "@jupyter-widgets/base",
            "top": null,
            "grid_column": null,
            "overflow_y": null,
            "overflow_x": null,
            "grid_auto_flow": null,
            "grid_area": null,
            "grid_template_columns": null,
            "flex": null,
            "_model_name": "LayoutModel",
            "justify_items": null,
            "grid_row": null,
            "max_height": null,
            "align_content": null,
            "visibility": null,
            "align_self": null,
            "height": null,
            "min_height": null,
            "padding": null,
            "grid_auto_rows": null,
            "grid_gap": null,
            "max_width": null,
            "order": null,
            "_view_module_version": "1.2.0",
            "grid_template_areas": null,
            "object_position": null,
            "object_fit": null,
            "grid_auto_columns": null,
            "margin": null,
            "display": null,
            "left": null
          }
        },
        "afe529afe9994497a78adee4a89f739b": {
          "model_module": "@jupyter-widgets/controls",
          "model_name": "HTMLModel",
          "state": {
            "_view_name": "HTMLView",
            "style": "IPY_MODEL_8bf28ac3af3e4979a433a4527470ae0c",
            "_dom_classes": [],
            "description": "",
            "_model_name": "HTMLModel",
            "placeholder": "​",
            "_view_module": "@jupyter-widgets/controls",
            "_model_module_version": "1.5.0",
            "value": "Running Prediction: 100%",
            "_view_count": null,
            "_view_module_version": "1.5.0",
            "description_tooltip": null,
            "_model_module": "@jupyter-widgets/controls",
            "layout": "IPY_MODEL_c7c87ff116d743cd88f295a5dba08eaa"
          }
        },
        "0d8abc042a6549978f9e4b69b862b702": {
          "model_module": "@jupyter-widgets/controls",
          "model_name": "FloatProgressModel",
          "state": {
            "_view_name": "ProgressView",
            "style": "IPY_MODEL_6ef8378f9c2b4d319c45f32e54822ef2",
            "_dom_classes": [],
            "description": "",
            "_model_name": "FloatProgressModel",
            "bar_style": "success",
            "max": 908,
            "_view_module": "@jupyter-widgets/controls",
            "_model_module_version": "1.5.0",
            "value": 908,
            "_view_count": null,
            "_view_module_version": "1.5.0",
            "orientation": "horizontal",
            "min": 0,
            "description_tooltip": null,
            "_model_module": "@jupyter-widgets/controls",
            "layout": "IPY_MODEL_8701e1b0eb8142faa41b02404459e002"
          }
        },
        "1480fe7f25d7445788f90fb403598818": {
          "model_module": "@jupyter-widgets/controls",
          "model_name": "HTMLModel",
          "state": {
            "_view_name": "HTMLView",
            "style": "IPY_MODEL_a40cd90555814efd8323f27856fde4c9",
            "_dom_classes": [],
            "description": "",
            "_model_name": "HTMLModel",
            "placeholder": "​",
            "_view_module": "@jupyter-widgets/controls",
            "_model_module_version": "1.5.0",
            "value": " 908/908 [02:41&lt;00:00,  5.62it/s]",
            "_view_count": null,
            "_view_module_version": "1.5.0",
            "description_tooltip": null,
            "_model_module": "@jupyter-widgets/controls",
            "layout": "IPY_MODEL_9394481d0a9945e686e53cbe3a8c8095"
          }
        },
        "8bf28ac3af3e4979a433a4527470ae0c": {
          "model_module": "@jupyter-widgets/controls",
          "model_name": "DescriptionStyleModel",
          "state": {
            "_view_name": "StyleView",
            "_model_name": "DescriptionStyleModel",
            "description_width": "",
            "_view_module": "@jupyter-widgets/base",
            "_model_module_version": "1.5.0",
            "_view_count": null,
            "_view_module_version": "1.2.0",
            "_model_module": "@jupyter-widgets/controls"
          }
        },
        "c7c87ff116d743cd88f295a5dba08eaa": {
          "model_module": "@jupyter-widgets/base",
          "model_name": "LayoutModel",
          "state": {
            "_view_name": "LayoutView",
            "grid_template_rows": null,
            "right": null,
            "justify_content": null,
            "_view_module": "@jupyter-widgets/base",
            "overflow": null,
            "_model_module_version": "1.2.0",
            "_view_count": null,
            "flex_flow": null,
            "width": null,
            "min_width": null,
            "border": null,
            "align_items": null,
            "bottom": null,
            "_model_module": "@jupyter-widgets/base",
            "top": null,
            "grid_column": null,
            "overflow_y": null,
            "overflow_x": null,
            "grid_auto_flow": null,
            "grid_area": null,
            "grid_template_columns": null,
            "flex": null,
            "_model_name": "LayoutModel",
            "justify_items": null,
            "grid_row": null,
            "max_height": null,
            "align_content": null,
            "visibility": null,
            "align_self": null,
            "height": null,
            "min_height": null,
            "padding": null,
            "grid_auto_rows": null,
            "grid_gap": null,
            "max_width": null,
            "order": null,
            "_view_module_version": "1.2.0",
            "grid_template_areas": null,
            "object_position": null,
            "object_fit": null,
            "grid_auto_columns": null,
            "margin": null,
            "display": null,
            "left": null
          }
        },
        "6ef8378f9c2b4d319c45f32e54822ef2": {
          "model_module": "@jupyter-widgets/controls",
          "model_name": "ProgressStyleModel",
          "state": {
            "_view_name": "StyleView",
            "_model_name": "ProgressStyleModel",
            "description_width": "",
            "_view_module": "@jupyter-widgets/base",
            "_model_module_version": "1.5.0",
            "_view_count": null,
            "_view_module_version": "1.2.0",
            "bar_color": null,
            "_model_module": "@jupyter-widgets/controls"
          }
        },
        "8701e1b0eb8142faa41b02404459e002": {
          "model_module": "@jupyter-widgets/base",
          "model_name": "LayoutModel",
          "state": {
            "_view_name": "LayoutView",
            "grid_template_rows": null,
            "right": null,
            "justify_content": null,
            "_view_module": "@jupyter-widgets/base",
            "overflow": null,
            "_model_module_version": "1.2.0",
            "_view_count": null,
            "flex_flow": null,
            "width": null,
            "min_width": null,
            "border": null,
            "align_items": null,
            "bottom": null,
            "_model_module": "@jupyter-widgets/base",
            "top": null,
            "grid_column": null,
            "overflow_y": null,
            "overflow_x": null,
            "grid_auto_flow": null,
            "grid_area": null,
            "grid_template_columns": null,
            "flex": null,
            "_model_name": "LayoutModel",
            "justify_items": null,
            "grid_row": null,
            "max_height": null,
            "align_content": null,
            "visibility": null,
            "align_self": null,
            "height": null,
            "min_height": null,
            "padding": null,
            "grid_auto_rows": null,
            "grid_gap": null,
            "max_width": null,
            "order": null,
            "_view_module_version": "1.2.0",
            "grid_template_areas": null,
            "object_position": null,
            "object_fit": null,
            "grid_auto_columns": null,
            "margin": null,
            "display": null,
            "left": null
          }
        },
        "a40cd90555814efd8323f27856fde4c9": {
          "model_module": "@jupyter-widgets/controls",
          "model_name": "DescriptionStyleModel",
          "state": {
            "_view_name": "StyleView",
            "_model_name": "DescriptionStyleModel",
            "description_width": "",
            "_view_module": "@jupyter-widgets/base",
            "_model_module_version": "1.5.0",
            "_view_count": null,
            "_view_module_version": "1.2.0",
            "_model_module": "@jupyter-widgets/controls"
          }
        },
        "9394481d0a9945e686e53cbe3a8c8095": {
          "model_module": "@jupyter-widgets/base",
          "model_name": "LayoutModel",
          "state": {
            "_view_name": "LayoutView",
            "grid_template_rows": null,
            "right": null,
            "justify_content": null,
            "_view_module": "@jupyter-widgets/base",
            "overflow": null,
            "_model_module_version": "1.2.0",
            "_view_count": null,
            "flex_flow": null,
            "width": null,
            "min_width": null,
            "border": null,
            "align_items": null,
            "bottom": null,
            "_model_module": "@jupyter-widgets/base",
            "top": null,
            "grid_column": null,
            "overflow_y": null,
            "overflow_x": null,
            "grid_auto_flow": null,
            "grid_area": null,
            "grid_template_columns": null,
            "flex": null,
            "_model_name": "LayoutModel",
            "justify_items": null,
            "grid_row": null,
            "max_height": null,
            "align_content": null,
            "visibility": null,
            "align_self": null,
            "height": null,
            "min_height": null,
            "padding": null,
            "grid_auto_rows": null,
            "grid_gap": null,
            "max_width": null,
            "order": null,
            "_view_module_version": "1.2.0",
            "grid_template_areas": null,
            "object_position": null,
            "object_fit": null,
            "grid_auto_columns": null,
            "margin": null,
            "display": null,
            "left": null
          }
        },
        "2c940d627adf40e3ba3d0983bfdd5d6f": {
          "model_module": "@jupyter-widgets/controls",
          "model_name": "HBoxModel",
          "state": {
            "_view_name": "HBoxView",
            "_dom_classes": [],
            "_model_name": "HBoxModel",
            "_view_module": "@jupyter-widgets/controls",
            "_model_module_version": "1.5.0",
            "_view_count": null,
            "_view_module_version": "1.5.0",
            "box_style": "",
            "layout": "IPY_MODEL_ce88bd15af924f46a29e1d645d2e3bf5",
            "_model_module": "@jupyter-widgets/controls",
            "children": [
              "IPY_MODEL_f0c25275648c433e987cf9aa8109c71c",
              "IPY_MODEL_9b39ec8a3bff48b0ba043d4fd5c23eb6",
              "IPY_MODEL_b27783123b5a4ec3906ed1e63316b681"
            ]
          }
        },
        "ce88bd15af924f46a29e1d645d2e3bf5": {
          "model_module": "@jupyter-widgets/base",
          "model_name": "LayoutModel",
          "state": {
            "_view_name": "LayoutView",
            "grid_template_rows": null,
            "right": null,
            "justify_content": null,
            "_view_module": "@jupyter-widgets/base",
            "overflow": null,
            "_model_module_version": "1.2.0",
            "_view_count": null,
            "flex_flow": null,
            "width": null,
            "min_width": null,
            "border": null,
            "align_items": null,
            "bottom": null,
            "_model_module": "@jupyter-widgets/base",
            "top": null,
            "grid_column": null,
            "overflow_y": null,
            "overflow_x": null,
            "grid_auto_flow": null,
            "grid_area": null,
            "grid_template_columns": null,
            "flex": null,
            "_model_name": "LayoutModel",
            "justify_items": null,
            "grid_row": null,
            "max_height": null,
            "align_content": null,
            "visibility": null,
            "align_self": null,
            "height": null,
            "min_height": null,
            "padding": null,
            "grid_auto_rows": null,
            "grid_gap": null,
            "max_width": null,
            "order": null,
            "_view_module_version": "1.2.0",
            "grid_template_areas": null,
            "object_position": null,
            "object_fit": null,
            "grid_auto_columns": null,
            "margin": null,
            "display": null,
            "left": null
          }
        },
        "f0c25275648c433e987cf9aa8109c71c": {
          "model_module": "@jupyter-widgets/controls",
          "model_name": "HTMLModel",
          "state": {
            "_view_name": "HTMLView",
            "style": "IPY_MODEL_b5674d0d016442c4b6944df477afa617",
            "_dom_classes": [],
            "description": "",
            "_model_name": "HTMLModel",
            "placeholder": "​",
            "_view_module": "@jupyter-widgets/controls",
            "_model_module_version": "1.5.0",
            "value": "Running Prediction: 100%",
            "_view_count": null,
            "_view_module_version": "1.5.0",
            "description_tooltip": null,
            "_model_module": "@jupyter-widgets/controls",
            "layout": "IPY_MODEL_4a5cbc3226914f5492c9b020ac0216ef"
          }
        },
        "9b39ec8a3bff48b0ba043d4fd5c23eb6": {
          "model_module": "@jupyter-widgets/controls",
          "model_name": "FloatProgressModel",
          "state": {
            "_view_name": "ProgressView",
            "style": "IPY_MODEL_df4b0a5316a441109890ddad172a894a",
            "_dom_classes": [],
            "description": "",
            "_model_name": "FloatProgressModel",
            "bar_style": "success",
            "max": 908,
            "_view_module": "@jupyter-widgets/controls",
            "_model_module_version": "1.5.0",
            "value": 908,
            "_view_count": null,
            "_view_module_version": "1.5.0",
            "orientation": "horizontal",
            "min": 0,
            "description_tooltip": null,
            "_model_module": "@jupyter-widgets/controls",
            "layout": "IPY_MODEL_1499cfaac1a242098030a2f9311c4e38"
          }
        },
        "b27783123b5a4ec3906ed1e63316b681": {
          "model_module": "@jupyter-widgets/controls",
          "model_name": "HTMLModel",
          "state": {
            "_view_name": "HTMLView",
            "style": "IPY_MODEL_70e31a3512b34762bd5baad5cd2aad96",
            "_dom_classes": [],
            "description": "",
            "_model_name": "HTMLModel",
            "placeholder": "​",
            "_view_module": "@jupyter-widgets/controls",
            "_model_module_version": "1.5.0",
            "value": " 908/908 [02:42&lt;00:00,  5.49it/s]",
            "_view_count": null,
            "_view_module_version": "1.5.0",
            "description_tooltip": null,
            "_model_module": "@jupyter-widgets/controls",
            "layout": "IPY_MODEL_30a14ad3d30440de90396a8c848ae07c"
          }
        },
        "b5674d0d016442c4b6944df477afa617": {
          "model_module": "@jupyter-widgets/controls",
          "model_name": "DescriptionStyleModel",
          "state": {
            "_view_name": "StyleView",
            "_model_name": "DescriptionStyleModel",
            "description_width": "",
            "_view_module": "@jupyter-widgets/base",
            "_model_module_version": "1.5.0",
            "_view_count": null,
            "_view_module_version": "1.2.0",
            "_model_module": "@jupyter-widgets/controls"
          }
        },
        "4a5cbc3226914f5492c9b020ac0216ef": {
          "model_module": "@jupyter-widgets/base",
          "model_name": "LayoutModel",
          "state": {
            "_view_name": "LayoutView",
            "grid_template_rows": null,
            "right": null,
            "justify_content": null,
            "_view_module": "@jupyter-widgets/base",
            "overflow": null,
            "_model_module_version": "1.2.0",
            "_view_count": null,
            "flex_flow": null,
            "width": null,
            "min_width": null,
            "border": null,
            "align_items": null,
            "bottom": null,
            "_model_module": "@jupyter-widgets/base",
            "top": null,
            "grid_column": null,
            "overflow_y": null,
            "overflow_x": null,
            "grid_auto_flow": null,
            "grid_area": null,
            "grid_template_columns": null,
            "flex": null,
            "_model_name": "LayoutModel",
            "justify_items": null,
            "grid_row": null,
            "max_height": null,
            "align_content": null,
            "visibility": null,
            "align_self": null,
            "height": null,
            "min_height": null,
            "padding": null,
            "grid_auto_rows": null,
            "grid_gap": null,
            "max_width": null,
            "order": null,
            "_view_module_version": "1.2.0",
            "grid_template_areas": null,
            "object_position": null,
            "object_fit": null,
            "grid_auto_columns": null,
            "margin": null,
            "display": null,
            "left": null
          }
        },
        "df4b0a5316a441109890ddad172a894a": {
          "model_module": "@jupyter-widgets/controls",
          "model_name": "ProgressStyleModel",
          "state": {
            "_view_name": "StyleView",
            "_model_name": "ProgressStyleModel",
            "description_width": "",
            "_view_module": "@jupyter-widgets/base",
            "_model_module_version": "1.5.0",
            "_view_count": null,
            "_view_module_version": "1.2.0",
            "bar_color": null,
            "_model_module": "@jupyter-widgets/controls"
          }
        },
        "1499cfaac1a242098030a2f9311c4e38": {
          "model_module": "@jupyter-widgets/base",
          "model_name": "LayoutModel",
          "state": {
            "_view_name": "LayoutView",
            "grid_template_rows": null,
            "right": null,
            "justify_content": null,
            "_view_module": "@jupyter-widgets/base",
            "overflow": null,
            "_model_module_version": "1.2.0",
            "_view_count": null,
            "flex_flow": null,
            "width": null,
            "min_width": null,
            "border": null,
            "align_items": null,
            "bottom": null,
            "_model_module": "@jupyter-widgets/base",
            "top": null,
            "grid_column": null,
            "overflow_y": null,
            "overflow_x": null,
            "grid_auto_flow": null,
            "grid_area": null,
            "grid_template_columns": null,
            "flex": null,
            "_model_name": "LayoutModel",
            "justify_items": null,
            "grid_row": null,
            "max_height": null,
            "align_content": null,
            "visibility": null,
            "align_self": null,
            "height": null,
            "min_height": null,
            "padding": null,
            "grid_auto_rows": null,
            "grid_gap": null,
            "max_width": null,
            "order": null,
            "_view_module_version": "1.2.0",
            "grid_template_areas": null,
            "object_position": null,
            "object_fit": null,
            "grid_auto_columns": null,
            "margin": null,
            "display": null,
            "left": null
          }
        },
        "70e31a3512b34762bd5baad5cd2aad96": {
          "model_module": "@jupyter-widgets/controls",
          "model_name": "DescriptionStyleModel",
          "state": {
            "_view_name": "StyleView",
            "_model_name": "DescriptionStyleModel",
            "description_width": "",
            "_view_module": "@jupyter-widgets/base",
            "_model_module_version": "1.5.0",
            "_view_count": null,
            "_view_module_version": "1.2.0",
            "_model_module": "@jupyter-widgets/controls"
          }
        },
        "30a14ad3d30440de90396a8c848ae07c": {
          "model_module": "@jupyter-widgets/base",
          "model_name": "LayoutModel",
          "state": {
            "_view_name": "LayoutView",
            "grid_template_rows": null,
            "right": null,
            "justify_content": null,
            "_view_module": "@jupyter-widgets/base",
            "overflow": null,
            "_model_module_version": "1.2.0",
            "_view_count": null,
            "flex_flow": null,
            "width": null,
            "min_width": null,
            "border": null,
            "align_items": null,
            "bottom": null,
            "_model_module": "@jupyter-widgets/base",
            "top": null,
            "grid_column": null,
            "overflow_y": null,
            "overflow_x": null,
            "grid_auto_flow": null,
            "grid_area": null,
            "grid_template_columns": null,
            "flex": null,
            "_model_name": "LayoutModel",
            "justify_items": null,
            "grid_row": null,
            "max_height": null,
            "align_content": null,
            "visibility": null,
            "align_self": null,
            "height": null,
            "min_height": null,
            "padding": null,
            "grid_auto_rows": null,
            "grid_gap": null,
            "max_width": null,
            "order": null,
            "_view_module_version": "1.2.0",
            "grid_template_areas": null,
            "object_position": null,
            "object_fit": null,
            "grid_auto_columns": null,
            "margin": null,
            "display": null,
            "left": null
          }
        },
        "62291f72f4f54945bbc4a52a7c04fcd2": {
          "model_module": "@jupyter-widgets/controls",
          "model_name": "HBoxModel",
          "state": {
            "_view_name": "HBoxView",
            "_dom_classes": [],
            "_model_name": "HBoxModel",
            "_view_module": "@jupyter-widgets/controls",
            "_model_module_version": "1.5.0",
            "_view_count": null,
            "_view_module_version": "1.5.0",
            "box_style": "",
            "layout": "IPY_MODEL_3cf7520f0b894a0eb94aaf6a79ce51e9",
            "_model_module": "@jupyter-widgets/controls",
            "children": [
              "IPY_MODEL_fa5ccfafe08046d1a889cf2e767a840b",
              "IPY_MODEL_7bac5062a7934a4b889d6dae0e42c159",
              "IPY_MODEL_7de1b40cbdb5450baa27c24572ff26d4"
            ]
          }
        },
        "3cf7520f0b894a0eb94aaf6a79ce51e9": {
          "model_module": "@jupyter-widgets/base",
          "model_name": "LayoutModel",
          "state": {
            "_view_name": "LayoutView",
            "grid_template_rows": null,
            "right": null,
            "justify_content": null,
            "_view_module": "@jupyter-widgets/base",
            "overflow": null,
            "_model_module_version": "1.2.0",
            "_view_count": null,
            "flex_flow": null,
            "width": null,
            "min_width": null,
            "border": null,
            "align_items": null,
            "bottom": null,
            "_model_module": "@jupyter-widgets/base",
            "top": null,
            "grid_column": null,
            "overflow_y": null,
            "overflow_x": null,
            "grid_auto_flow": null,
            "grid_area": null,
            "grid_template_columns": null,
            "flex": null,
            "_model_name": "LayoutModel",
            "justify_items": null,
            "grid_row": null,
            "max_height": null,
            "align_content": null,
            "visibility": null,
            "align_self": null,
            "height": null,
            "min_height": null,
            "padding": null,
            "grid_auto_rows": null,
            "grid_gap": null,
            "max_width": null,
            "order": null,
            "_view_module_version": "1.2.0",
            "grid_template_areas": null,
            "object_position": null,
            "object_fit": null,
            "grid_auto_columns": null,
            "margin": null,
            "display": null,
            "left": null
          }
        },
        "fa5ccfafe08046d1a889cf2e767a840b": {
          "model_module": "@jupyter-widgets/controls",
          "model_name": "HTMLModel",
          "state": {
            "_view_name": "HTMLView",
            "style": "IPY_MODEL_0e34a8bf9fce4b56ae6ad1206e011a01",
            "_dom_classes": [],
            "description": "",
            "_model_name": "HTMLModel",
            "placeholder": "​",
            "_view_module": "@jupyter-widgets/controls",
            "_model_module_version": "1.5.0",
            "value": "Running Prediction: 100%",
            "_view_count": null,
            "_view_module_version": "1.5.0",
            "description_tooltip": null,
            "_model_module": "@jupyter-widgets/controls",
            "layout": "IPY_MODEL_6b7d6fe8de4e4f089eb6282f6ef8eb46"
          }
        },
        "7bac5062a7934a4b889d6dae0e42c159": {
          "model_module": "@jupyter-widgets/controls",
          "model_name": "FloatProgressModel",
          "state": {
            "_view_name": "ProgressView",
            "style": "IPY_MODEL_5b72851c530640218770824bbfd18ef0",
            "_dom_classes": [],
            "description": "",
            "_model_name": "FloatProgressModel",
            "bar_style": "success",
            "max": 908,
            "_view_module": "@jupyter-widgets/controls",
            "_model_module_version": "1.5.0",
            "value": 908,
            "_view_count": null,
            "_view_module_version": "1.5.0",
            "orientation": "horizontal",
            "min": 0,
            "description_tooltip": null,
            "_model_module": "@jupyter-widgets/controls",
            "layout": "IPY_MODEL_c33a2eae984d4b3998f75d02a2242f96"
          }
        },
        "7de1b40cbdb5450baa27c24572ff26d4": {
          "model_module": "@jupyter-widgets/controls",
          "model_name": "HTMLModel",
          "state": {
            "_view_name": "HTMLView",
            "style": "IPY_MODEL_1390c4938cc442d0984c1d4f530c558a",
            "_dom_classes": [],
            "description": "",
            "_model_name": "HTMLModel",
            "placeholder": "​",
            "_view_module": "@jupyter-widgets/controls",
            "_model_module_version": "1.5.0",
            "value": " 908/908 [02:42&lt;00:00,  5.62it/s]",
            "_view_count": null,
            "_view_module_version": "1.5.0",
            "description_tooltip": null,
            "_model_module": "@jupyter-widgets/controls",
            "layout": "IPY_MODEL_30247f32f4d740ce83a57043b8768c1a"
          }
        },
        "0e34a8bf9fce4b56ae6ad1206e011a01": {
          "model_module": "@jupyter-widgets/controls",
          "model_name": "DescriptionStyleModel",
          "state": {
            "_view_name": "StyleView",
            "_model_name": "DescriptionStyleModel",
            "description_width": "",
            "_view_module": "@jupyter-widgets/base",
            "_model_module_version": "1.5.0",
            "_view_count": null,
            "_view_module_version": "1.2.0",
            "_model_module": "@jupyter-widgets/controls"
          }
        },
        "6b7d6fe8de4e4f089eb6282f6ef8eb46": {
          "model_module": "@jupyter-widgets/base",
          "model_name": "LayoutModel",
          "state": {
            "_view_name": "LayoutView",
            "grid_template_rows": null,
            "right": null,
            "justify_content": null,
            "_view_module": "@jupyter-widgets/base",
            "overflow": null,
            "_model_module_version": "1.2.0",
            "_view_count": null,
            "flex_flow": null,
            "width": null,
            "min_width": null,
            "border": null,
            "align_items": null,
            "bottom": null,
            "_model_module": "@jupyter-widgets/base",
            "top": null,
            "grid_column": null,
            "overflow_y": null,
            "overflow_x": null,
            "grid_auto_flow": null,
            "grid_area": null,
            "grid_template_columns": null,
            "flex": null,
            "_model_name": "LayoutModel",
            "justify_items": null,
            "grid_row": null,
            "max_height": null,
            "align_content": null,
            "visibility": null,
            "align_self": null,
            "height": null,
            "min_height": null,
            "padding": null,
            "grid_auto_rows": null,
            "grid_gap": null,
            "max_width": null,
            "order": null,
            "_view_module_version": "1.2.0",
            "grid_template_areas": null,
            "object_position": null,
            "object_fit": null,
            "grid_auto_columns": null,
            "margin": null,
            "display": null,
            "left": null
          }
        },
        "5b72851c530640218770824bbfd18ef0": {
          "model_module": "@jupyter-widgets/controls",
          "model_name": "ProgressStyleModel",
          "state": {
            "_view_name": "StyleView",
            "_model_name": "ProgressStyleModel",
            "description_width": "",
            "_view_module": "@jupyter-widgets/base",
            "_model_module_version": "1.5.0",
            "_view_count": null,
            "_view_module_version": "1.2.0",
            "bar_color": null,
            "_model_module": "@jupyter-widgets/controls"
          }
        },
        "c33a2eae984d4b3998f75d02a2242f96": {
          "model_module": "@jupyter-widgets/base",
          "model_name": "LayoutModel",
          "state": {
            "_view_name": "LayoutView",
            "grid_template_rows": null,
            "right": null,
            "justify_content": null,
            "_view_module": "@jupyter-widgets/base",
            "overflow": null,
            "_model_module_version": "1.2.0",
            "_view_count": null,
            "flex_flow": null,
            "width": null,
            "min_width": null,
            "border": null,
            "align_items": null,
            "bottom": null,
            "_model_module": "@jupyter-widgets/base",
            "top": null,
            "grid_column": null,
            "overflow_y": null,
            "overflow_x": null,
            "grid_auto_flow": null,
            "grid_area": null,
            "grid_template_columns": null,
            "flex": null,
            "_model_name": "LayoutModel",
            "justify_items": null,
            "grid_row": null,
            "max_height": null,
            "align_content": null,
            "visibility": null,
            "align_self": null,
            "height": null,
            "min_height": null,
            "padding": null,
            "grid_auto_rows": null,
            "grid_gap": null,
            "max_width": null,
            "order": null,
            "_view_module_version": "1.2.0",
            "grid_template_areas": null,
            "object_position": null,
            "object_fit": null,
            "grid_auto_columns": null,
            "margin": null,
            "display": null,
            "left": null
          }
        },
        "1390c4938cc442d0984c1d4f530c558a": {
          "model_module": "@jupyter-widgets/controls",
          "model_name": "DescriptionStyleModel",
          "state": {
            "_view_name": "StyleView",
            "_model_name": "DescriptionStyleModel",
            "description_width": "",
            "_view_module": "@jupyter-widgets/base",
            "_model_module_version": "1.5.0",
            "_view_count": null,
            "_view_module_version": "1.2.0",
            "_model_module": "@jupyter-widgets/controls"
          }
        },
        "30247f32f4d740ce83a57043b8768c1a": {
          "model_module": "@jupyter-widgets/base",
          "model_name": "LayoutModel",
          "state": {
            "_view_name": "LayoutView",
            "grid_template_rows": null,
            "right": null,
            "justify_content": null,
            "_view_module": "@jupyter-widgets/base",
            "overflow": null,
            "_model_module_version": "1.2.0",
            "_view_count": null,
            "flex_flow": null,
            "width": null,
            "min_width": null,
            "border": null,
            "align_items": null,
            "bottom": null,
            "_model_module": "@jupyter-widgets/base",
            "top": null,
            "grid_column": null,
            "overflow_y": null,
            "overflow_x": null,
            "grid_auto_flow": null,
            "grid_area": null,
            "grid_template_columns": null,
            "flex": null,
            "_model_name": "LayoutModel",
            "justify_items": null,
            "grid_row": null,
            "max_height": null,
            "align_content": null,
            "visibility": null,
            "align_self": null,
            "height": null,
            "min_height": null,
            "padding": null,
            "grid_auto_rows": null,
            "grid_gap": null,
            "max_width": null,
            "order": null,
            "_view_module_version": "1.2.0",
            "grid_template_areas": null,
            "object_position": null,
            "object_fit": null,
            "grid_auto_columns": null,
            "margin": null,
            "display": null,
            "left": null
          }
        },
        "d1ae1c937cae46a0a44254f2973a79d7": {
          "model_module": "@jupyter-widgets/controls",
          "model_name": "HBoxModel",
          "state": {
            "_view_name": "HBoxView",
            "_dom_classes": [],
            "_model_name": "HBoxModel",
            "_view_module": "@jupyter-widgets/controls",
            "_model_module_version": "1.5.0",
            "_view_count": null,
            "_view_module_version": "1.5.0",
            "box_style": "",
            "layout": "IPY_MODEL_7130d0b7609f44c99110c97fd5fa8656",
            "_model_module": "@jupyter-widgets/controls",
            "children": [
              "IPY_MODEL_d4fcbe3a5c2c403ea9e32bcf7e065877",
              "IPY_MODEL_7a2e3e1144c64e61ac760f01aa098360",
              "IPY_MODEL_41ce0804c9904ca59fe857388db10998"
            ]
          }
        },
        "7130d0b7609f44c99110c97fd5fa8656": {
          "model_module": "@jupyter-widgets/base",
          "model_name": "LayoutModel",
          "state": {
            "_view_name": "LayoutView",
            "grid_template_rows": null,
            "right": null,
            "justify_content": null,
            "_view_module": "@jupyter-widgets/base",
            "overflow": null,
            "_model_module_version": "1.2.0",
            "_view_count": null,
            "flex_flow": null,
            "width": null,
            "min_width": null,
            "border": null,
            "align_items": null,
            "bottom": null,
            "_model_module": "@jupyter-widgets/base",
            "top": null,
            "grid_column": null,
            "overflow_y": null,
            "overflow_x": null,
            "grid_auto_flow": null,
            "grid_area": null,
            "grid_template_columns": null,
            "flex": null,
            "_model_name": "LayoutModel",
            "justify_items": null,
            "grid_row": null,
            "max_height": null,
            "align_content": null,
            "visibility": null,
            "align_self": null,
            "height": null,
            "min_height": null,
            "padding": null,
            "grid_auto_rows": null,
            "grid_gap": null,
            "max_width": null,
            "order": null,
            "_view_module_version": "1.2.0",
            "grid_template_areas": null,
            "object_position": null,
            "object_fit": null,
            "grid_auto_columns": null,
            "margin": null,
            "display": null,
            "left": null
          }
        },
        "d4fcbe3a5c2c403ea9e32bcf7e065877": {
          "model_module": "@jupyter-widgets/controls",
          "model_name": "HTMLModel",
          "state": {
            "_view_name": "HTMLView",
            "style": "IPY_MODEL_ebe3e8b601c143fe819f4ec9cd0042e6",
            "_dom_classes": [],
            "description": "",
            "_model_name": "HTMLModel",
            "placeholder": "​",
            "_view_module": "@jupyter-widgets/controls",
            "_model_module_version": "1.5.0",
            "value": "Running Prediction: 100%",
            "_view_count": null,
            "_view_module_version": "1.5.0",
            "description_tooltip": null,
            "_model_module": "@jupyter-widgets/controls",
            "layout": "IPY_MODEL_e991a5b5631c4c47b4dfa9c032df0cf5"
          }
        },
        "7a2e3e1144c64e61ac760f01aa098360": {
          "model_module": "@jupyter-widgets/controls",
          "model_name": "FloatProgressModel",
          "state": {
            "_view_name": "ProgressView",
            "style": "IPY_MODEL_edea69f6056a467bbe6d55a0d557f3b5",
            "_dom_classes": [],
            "description": "",
            "_model_name": "FloatProgressModel",
            "bar_style": "success",
            "max": 910,
            "_view_module": "@jupyter-widgets/controls",
            "_model_module_version": "1.5.0",
            "value": 910,
            "_view_count": null,
            "_view_module_version": "1.5.0",
            "orientation": "horizontal",
            "min": 0,
            "description_tooltip": null,
            "_model_module": "@jupyter-widgets/controls",
            "layout": "IPY_MODEL_a004a26d4fb540a8847284ee6a145968"
          }
        },
        "41ce0804c9904ca59fe857388db10998": {
          "model_module": "@jupyter-widgets/controls",
          "model_name": "HTMLModel",
          "state": {
            "_view_name": "HTMLView",
            "style": "IPY_MODEL_2ec2b254a17846ac9bca28a37e621a1c",
            "_dom_classes": [],
            "description": "",
            "_model_name": "HTMLModel",
            "placeholder": "​",
            "_view_module": "@jupyter-widgets/controls",
            "_model_module_version": "1.5.0",
            "value": " 910/910 [02:42&lt;00:00,  6.28it/s]",
            "_view_count": null,
            "_view_module_version": "1.5.0",
            "description_tooltip": null,
            "_model_module": "@jupyter-widgets/controls",
            "layout": "IPY_MODEL_66b000738b65465c9e04ccd113365f1e"
          }
        },
        "ebe3e8b601c143fe819f4ec9cd0042e6": {
          "model_module": "@jupyter-widgets/controls",
          "model_name": "DescriptionStyleModel",
          "state": {
            "_view_name": "StyleView",
            "_model_name": "DescriptionStyleModel",
            "description_width": "",
            "_view_module": "@jupyter-widgets/base",
            "_model_module_version": "1.5.0",
            "_view_count": null,
            "_view_module_version": "1.2.0",
            "_model_module": "@jupyter-widgets/controls"
          }
        },
        "e991a5b5631c4c47b4dfa9c032df0cf5": {
          "model_module": "@jupyter-widgets/base",
          "model_name": "LayoutModel",
          "state": {
            "_view_name": "LayoutView",
            "grid_template_rows": null,
            "right": null,
            "justify_content": null,
            "_view_module": "@jupyter-widgets/base",
            "overflow": null,
            "_model_module_version": "1.2.0",
            "_view_count": null,
            "flex_flow": null,
            "width": null,
            "min_width": null,
            "border": null,
            "align_items": null,
            "bottom": null,
            "_model_module": "@jupyter-widgets/base",
            "top": null,
            "grid_column": null,
            "overflow_y": null,
            "overflow_x": null,
            "grid_auto_flow": null,
            "grid_area": null,
            "grid_template_columns": null,
            "flex": null,
            "_model_name": "LayoutModel",
            "justify_items": null,
            "grid_row": null,
            "max_height": null,
            "align_content": null,
            "visibility": null,
            "align_self": null,
            "height": null,
            "min_height": null,
            "padding": null,
            "grid_auto_rows": null,
            "grid_gap": null,
            "max_width": null,
            "order": null,
            "_view_module_version": "1.2.0",
            "grid_template_areas": null,
            "object_position": null,
            "object_fit": null,
            "grid_auto_columns": null,
            "margin": null,
            "display": null,
            "left": null
          }
        },
        "edea69f6056a467bbe6d55a0d557f3b5": {
          "model_module": "@jupyter-widgets/controls",
          "model_name": "ProgressStyleModel",
          "state": {
            "_view_name": "StyleView",
            "_model_name": "ProgressStyleModel",
            "description_width": "",
            "_view_module": "@jupyter-widgets/base",
            "_model_module_version": "1.5.0",
            "_view_count": null,
            "_view_module_version": "1.2.0",
            "bar_color": null,
            "_model_module": "@jupyter-widgets/controls"
          }
        },
        "a004a26d4fb540a8847284ee6a145968": {
          "model_module": "@jupyter-widgets/base",
          "model_name": "LayoutModel",
          "state": {
            "_view_name": "LayoutView",
            "grid_template_rows": null,
            "right": null,
            "justify_content": null,
            "_view_module": "@jupyter-widgets/base",
            "overflow": null,
            "_model_module_version": "1.2.0",
            "_view_count": null,
            "flex_flow": null,
            "width": null,
            "min_width": null,
            "border": null,
            "align_items": null,
            "bottom": null,
            "_model_module": "@jupyter-widgets/base",
            "top": null,
            "grid_column": null,
            "overflow_y": null,
            "overflow_x": null,
            "grid_auto_flow": null,
            "grid_area": null,
            "grid_template_columns": null,
            "flex": null,
            "_model_name": "LayoutModel",
            "justify_items": null,
            "grid_row": null,
            "max_height": null,
            "align_content": null,
            "visibility": null,
            "align_self": null,
            "height": null,
            "min_height": null,
            "padding": null,
            "grid_auto_rows": null,
            "grid_gap": null,
            "max_width": null,
            "order": null,
            "_view_module_version": "1.2.0",
            "grid_template_areas": null,
            "object_position": null,
            "object_fit": null,
            "grid_auto_columns": null,
            "margin": null,
            "display": null,
            "left": null
          }
        },
        "2ec2b254a17846ac9bca28a37e621a1c": {
          "model_module": "@jupyter-widgets/controls",
          "model_name": "DescriptionStyleModel",
          "state": {
            "_view_name": "StyleView",
            "_model_name": "DescriptionStyleModel",
            "description_width": "",
            "_view_module": "@jupyter-widgets/base",
            "_model_module_version": "1.5.0",
            "_view_count": null,
            "_view_module_version": "1.2.0",
            "_model_module": "@jupyter-widgets/controls"
          }
        },
        "66b000738b65465c9e04ccd113365f1e": {
          "model_module": "@jupyter-widgets/base",
          "model_name": "LayoutModel",
          "state": {
            "_view_name": "LayoutView",
            "grid_template_rows": null,
            "right": null,
            "justify_content": null,
            "_view_module": "@jupyter-widgets/base",
            "overflow": null,
            "_model_module_version": "1.2.0",
            "_view_count": null,
            "flex_flow": null,
            "width": null,
            "min_width": null,
            "border": null,
            "align_items": null,
            "bottom": null,
            "_model_module": "@jupyter-widgets/base",
            "top": null,
            "grid_column": null,
            "overflow_y": null,
            "overflow_x": null,
            "grid_auto_flow": null,
            "grid_area": null,
            "grid_template_columns": null,
            "flex": null,
            "_model_name": "LayoutModel",
            "justify_items": null,
            "grid_row": null,
            "max_height": null,
            "align_content": null,
            "visibility": null,
            "align_self": null,
            "height": null,
            "min_height": null,
            "padding": null,
            "grid_auto_rows": null,
            "grid_gap": null,
            "max_width": null,
            "order": null,
            "_view_module_version": "1.2.0",
            "grid_template_areas": null,
            "object_position": null,
            "object_fit": null,
            "grid_auto_columns": null,
            "margin": null,
            "display": null,
            "left": null
          }
        },
        "802dbf822f524da890b4d45f436bd1c0": {
          "model_module": "@jupyter-widgets/controls",
          "model_name": "HBoxModel",
          "state": {
            "_view_name": "HBoxView",
            "_dom_classes": [],
            "_model_name": "HBoxModel",
            "_view_module": "@jupyter-widgets/controls",
            "_model_module_version": "1.5.0",
            "_view_count": null,
            "_view_module_version": "1.5.0",
            "box_style": "",
            "layout": "IPY_MODEL_759ad3d3f48549008ab0bdd53c093454",
            "_model_module": "@jupyter-widgets/controls",
            "children": [
              "IPY_MODEL_8c116eb1a8474fdba948294e34d93858",
              "IPY_MODEL_dbf313887a3c4d4bafdae96958fe2272",
              "IPY_MODEL_84beecc713b74de1a7b539a1451d8dc6"
            ]
          }
        },
        "759ad3d3f48549008ab0bdd53c093454": {
          "model_module": "@jupyter-widgets/base",
          "model_name": "LayoutModel",
          "state": {
            "_view_name": "LayoutView",
            "grid_template_rows": null,
            "right": null,
            "justify_content": null,
            "_view_module": "@jupyter-widgets/base",
            "overflow": null,
            "_model_module_version": "1.2.0",
            "_view_count": null,
            "flex_flow": null,
            "width": null,
            "min_width": null,
            "border": null,
            "align_items": null,
            "bottom": null,
            "_model_module": "@jupyter-widgets/base",
            "top": null,
            "grid_column": null,
            "overflow_y": null,
            "overflow_x": null,
            "grid_auto_flow": null,
            "grid_area": null,
            "grid_template_columns": null,
            "flex": null,
            "_model_name": "LayoutModel",
            "justify_items": null,
            "grid_row": null,
            "max_height": null,
            "align_content": null,
            "visibility": null,
            "align_self": null,
            "height": null,
            "min_height": null,
            "padding": null,
            "grid_auto_rows": null,
            "grid_gap": null,
            "max_width": null,
            "order": null,
            "_view_module_version": "1.2.0",
            "grid_template_areas": null,
            "object_position": null,
            "object_fit": null,
            "grid_auto_columns": null,
            "margin": null,
            "display": null,
            "left": null
          }
        },
        "8c116eb1a8474fdba948294e34d93858": {
          "model_module": "@jupyter-widgets/controls",
          "model_name": "HTMLModel",
          "state": {
            "_view_name": "HTMLView",
            "style": "IPY_MODEL_c708038f841346b59deb4da05aa355ec",
            "_dom_classes": [],
            "description": "",
            "_model_name": "HTMLModel",
            "placeholder": "​",
            "_view_module": "@jupyter-widgets/controls",
            "_model_module_version": "1.5.0",
            "value": "Running Prediction: 100%",
            "_view_count": null,
            "_view_module_version": "1.5.0",
            "description_tooltip": null,
            "_model_module": "@jupyter-widgets/controls",
            "layout": "IPY_MODEL_ab7c386d5f5a4ddbb9ed9443b6b32544"
          }
        },
        "dbf313887a3c4d4bafdae96958fe2272": {
          "model_module": "@jupyter-widgets/controls",
          "model_name": "FloatProgressModel",
          "state": {
            "_view_name": "ProgressView",
            "style": "IPY_MODEL_2c21ad4f09264ed8b32d9b586e9c4e47",
            "_dom_classes": [],
            "description": "",
            "_model_name": "FloatProgressModel",
            "bar_style": "success",
            "max": 908,
            "_view_module": "@jupyter-widgets/controls",
            "_model_module_version": "1.5.0",
            "value": 908,
            "_view_count": null,
            "_view_module_version": "1.5.0",
            "orientation": "horizontal",
            "min": 0,
            "description_tooltip": null,
            "_model_module": "@jupyter-widgets/controls",
            "layout": "IPY_MODEL_3bd5d7f4123845e8880a32a20a15f22c"
          }
        },
        "84beecc713b74de1a7b539a1451d8dc6": {
          "model_module": "@jupyter-widgets/controls",
          "model_name": "HTMLModel",
          "state": {
            "_view_name": "HTMLView",
            "style": "IPY_MODEL_3fec7fab65af44cdb7cc3fa878ee20f0",
            "_dom_classes": [],
            "description": "",
            "_model_name": "HTMLModel",
            "placeholder": "​",
            "_view_module": "@jupyter-widgets/controls",
            "_model_module_version": "1.5.0",
            "value": " 908/908 [02:41&lt;00:00,  5.61it/s]",
            "_view_count": null,
            "_view_module_version": "1.5.0",
            "description_tooltip": null,
            "_model_module": "@jupyter-widgets/controls",
            "layout": "IPY_MODEL_15dc29c792ae407abb014da6b94cde41"
          }
        },
        "c708038f841346b59deb4da05aa355ec": {
          "model_module": "@jupyter-widgets/controls",
          "model_name": "DescriptionStyleModel",
          "state": {
            "_view_name": "StyleView",
            "_model_name": "DescriptionStyleModel",
            "description_width": "",
            "_view_module": "@jupyter-widgets/base",
            "_model_module_version": "1.5.0",
            "_view_count": null,
            "_view_module_version": "1.2.0",
            "_model_module": "@jupyter-widgets/controls"
          }
        },
        "ab7c386d5f5a4ddbb9ed9443b6b32544": {
          "model_module": "@jupyter-widgets/base",
          "model_name": "LayoutModel",
          "state": {
            "_view_name": "LayoutView",
            "grid_template_rows": null,
            "right": null,
            "justify_content": null,
            "_view_module": "@jupyter-widgets/base",
            "overflow": null,
            "_model_module_version": "1.2.0",
            "_view_count": null,
            "flex_flow": null,
            "width": null,
            "min_width": null,
            "border": null,
            "align_items": null,
            "bottom": null,
            "_model_module": "@jupyter-widgets/base",
            "top": null,
            "grid_column": null,
            "overflow_y": null,
            "overflow_x": null,
            "grid_auto_flow": null,
            "grid_area": null,
            "grid_template_columns": null,
            "flex": null,
            "_model_name": "LayoutModel",
            "justify_items": null,
            "grid_row": null,
            "max_height": null,
            "align_content": null,
            "visibility": null,
            "align_self": null,
            "height": null,
            "min_height": null,
            "padding": null,
            "grid_auto_rows": null,
            "grid_gap": null,
            "max_width": null,
            "order": null,
            "_view_module_version": "1.2.0",
            "grid_template_areas": null,
            "object_position": null,
            "object_fit": null,
            "grid_auto_columns": null,
            "margin": null,
            "display": null,
            "left": null
          }
        },
        "2c21ad4f09264ed8b32d9b586e9c4e47": {
          "model_module": "@jupyter-widgets/controls",
          "model_name": "ProgressStyleModel",
          "state": {
            "_view_name": "StyleView",
            "_model_name": "ProgressStyleModel",
            "description_width": "",
            "_view_module": "@jupyter-widgets/base",
            "_model_module_version": "1.5.0",
            "_view_count": null,
            "_view_module_version": "1.2.0",
            "bar_color": null,
            "_model_module": "@jupyter-widgets/controls"
          }
        },
        "3bd5d7f4123845e8880a32a20a15f22c": {
          "model_module": "@jupyter-widgets/base",
          "model_name": "LayoutModel",
          "state": {
            "_view_name": "LayoutView",
            "grid_template_rows": null,
            "right": null,
            "justify_content": null,
            "_view_module": "@jupyter-widgets/base",
            "overflow": null,
            "_model_module_version": "1.2.0",
            "_view_count": null,
            "flex_flow": null,
            "width": null,
            "min_width": null,
            "border": null,
            "align_items": null,
            "bottom": null,
            "_model_module": "@jupyter-widgets/base",
            "top": null,
            "grid_column": null,
            "overflow_y": null,
            "overflow_x": null,
            "grid_auto_flow": null,
            "grid_area": null,
            "grid_template_columns": null,
            "flex": null,
            "_model_name": "LayoutModel",
            "justify_items": null,
            "grid_row": null,
            "max_height": null,
            "align_content": null,
            "visibility": null,
            "align_self": null,
            "height": null,
            "min_height": null,
            "padding": null,
            "grid_auto_rows": null,
            "grid_gap": null,
            "max_width": null,
            "order": null,
            "_view_module_version": "1.2.0",
            "grid_template_areas": null,
            "object_position": null,
            "object_fit": null,
            "grid_auto_columns": null,
            "margin": null,
            "display": null,
            "left": null
          }
        },
        "3fec7fab65af44cdb7cc3fa878ee20f0": {
          "model_module": "@jupyter-widgets/controls",
          "model_name": "DescriptionStyleModel",
          "state": {
            "_view_name": "StyleView",
            "_model_name": "DescriptionStyleModel",
            "description_width": "",
            "_view_module": "@jupyter-widgets/base",
            "_model_module_version": "1.5.0",
            "_view_count": null,
            "_view_module_version": "1.2.0",
            "_model_module": "@jupyter-widgets/controls"
          }
        },
        "15dc29c792ae407abb014da6b94cde41": {
          "model_module": "@jupyter-widgets/base",
          "model_name": "LayoutModel",
          "state": {
            "_view_name": "LayoutView",
            "grid_template_rows": null,
            "right": null,
            "justify_content": null,
            "_view_module": "@jupyter-widgets/base",
            "overflow": null,
            "_model_module_version": "1.2.0",
            "_view_count": null,
            "flex_flow": null,
            "width": null,
            "min_width": null,
            "border": null,
            "align_items": null,
            "bottom": null,
            "_model_module": "@jupyter-widgets/base",
            "top": null,
            "grid_column": null,
            "overflow_y": null,
            "overflow_x": null,
            "grid_auto_flow": null,
            "grid_area": null,
            "grid_template_columns": null,
            "flex": null,
            "_model_name": "LayoutModel",
            "justify_items": null,
            "grid_row": null,
            "max_height": null,
            "align_content": null,
            "visibility": null,
            "align_self": null,
            "height": null,
            "min_height": null,
            "padding": null,
            "grid_auto_rows": null,
            "grid_gap": null,
            "max_width": null,
            "order": null,
            "_view_module_version": "1.2.0",
            "grid_template_areas": null,
            "object_position": null,
            "object_fit": null,
            "grid_auto_columns": null,
            "margin": null,
            "display": null,
            "left": null
          }
        },
        "65f1485523a14cb2b824ff6ce4b1f14f": {
          "model_module": "@jupyter-widgets/controls",
          "model_name": "HBoxModel",
          "state": {
            "_view_name": "HBoxView",
            "_dom_classes": [],
            "_model_name": "HBoxModel",
            "_view_module": "@jupyter-widgets/controls",
            "_model_module_version": "1.5.0",
            "_view_count": null,
            "_view_module_version": "1.5.0",
            "box_style": "",
            "layout": "IPY_MODEL_0039ee0a29ae4cda81a0b28dab3a8916",
            "_model_module": "@jupyter-widgets/controls",
            "children": [
              "IPY_MODEL_63f68232a6aa46f48db05c2eaacb4d7e",
              "IPY_MODEL_b2004f03c96c476bbd07106138af594c",
              "IPY_MODEL_e8fb687fb2d74d589f30308ac7c98623"
            ]
          }
        },
        "0039ee0a29ae4cda81a0b28dab3a8916": {
          "model_module": "@jupyter-widgets/base",
          "model_name": "LayoutModel",
          "state": {
            "_view_name": "LayoutView",
            "grid_template_rows": null,
            "right": null,
            "justify_content": null,
            "_view_module": "@jupyter-widgets/base",
            "overflow": null,
            "_model_module_version": "1.2.0",
            "_view_count": null,
            "flex_flow": null,
            "width": null,
            "min_width": null,
            "border": null,
            "align_items": null,
            "bottom": null,
            "_model_module": "@jupyter-widgets/base",
            "top": null,
            "grid_column": null,
            "overflow_y": null,
            "overflow_x": null,
            "grid_auto_flow": null,
            "grid_area": null,
            "grid_template_columns": null,
            "flex": null,
            "_model_name": "LayoutModel",
            "justify_items": null,
            "grid_row": null,
            "max_height": null,
            "align_content": null,
            "visibility": null,
            "align_self": null,
            "height": null,
            "min_height": null,
            "padding": null,
            "grid_auto_rows": null,
            "grid_gap": null,
            "max_width": null,
            "order": null,
            "_view_module_version": "1.2.0",
            "grid_template_areas": null,
            "object_position": null,
            "object_fit": null,
            "grid_auto_columns": null,
            "margin": null,
            "display": null,
            "left": null
          }
        },
        "63f68232a6aa46f48db05c2eaacb4d7e": {
          "model_module": "@jupyter-widgets/controls",
          "model_name": "HTMLModel",
          "state": {
            "_view_name": "HTMLView",
            "style": "IPY_MODEL_95ae03b0fa134fb38ee99ebb34869d1e",
            "_dom_classes": [],
            "description": "",
            "_model_name": "HTMLModel",
            "placeholder": "​",
            "_view_module": "@jupyter-widgets/controls",
            "_model_module_version": "1.5.0",
            "value": "Running Prediction: 100%",
            "_view_count": null,
            "_view_module_version": "1.5.0",
            "description_tooltip": null,
            "_model_module": "@jupyter-widgets/controls",
            "layout": "IPY_MODEL_905add2b0d544d85ad206630750dc734"
          }
        },
        "b2004f03c96c476bbd07106138af594c": {
          "model_module": "@jupyter-widgets/controls",
          "model_name": "FloatProgressModel",
          "state": {
            "_view_name": "ProgressView",
            "style": "IPY_MODEL_f3d0f04eb7a64a76ab5bffccbeb7761e",
            "_dom_classes": [],
            "description": "",
            "_model_name": "FloatProgressModel",
            "bar_style": "success",
            "max": 908,
            "_view_module": "@jupyter-widgets/controls",
            "_model_module_version": "1.5.0",
            "value": 908,
            "_view_count": null,
            "_view_module_version": "1.5.0",
            "orientation": "horizontal",
            "min": 0,
            "description_tooltip": null,
            "_model_module": "@jupyter-widgets/controls",
            "layout": "IPY_MODEL_7cae5cc2de604db4a2d20744d7f51007"
          }
        },
        "e8fb687fb2d74d589f30308ac7c98623": {
          "model_module": "@jupyter-widgets/controls",
          "model_name": "HTMLModel",
          "state": {
            "_view_name": "HTMLView",
            "style": "IPY_MODEL_dba6b21b86584f0b86444d5c927ab251",
            "_dom_classes": [],
            "description": "",
            "_model_name": "HTMLModel",
            "placeholder": "​",
            "_view_module": "@jupyter-widgets/controls",
            "_model_module_version": "1.5.0",
            "value": " 908/908 [02:41&lt;00:00,  5.62it/s]",
            "_view_count": null,
            "_view_module_version": "1.5.0",
            "description_tooltip": null,
            "_model_module": "@jupyter-widgets/controls",
            "layout": "IPY_MODEL_f636a257e16245b6be32cb49c8b2d51d"
          }
        },
        "95ae03b0fa134fb38ee99ebb34869d1e": {
          "model_module": "@jupyter-widgets/controls",
          "model_name": "DescriptionStyleModel",
          "state": {
            "_view_name": "StyleView",
            "_model_name": "DescriptionStyleModel",
            "description_width": "",
            "_view_module": "@jupyter-widgets/base",
            "_model_module_version": "1.5.0",
            "_view_count": null,
            "_view_module_version": "1.2.0",
            "_model_module": "@jupyter-widgets/controls"
          }
        },
        "905add2b0d544d85ad206630750dc734": {
          "model_module": "@jupyter-widgets/base",
          "model_name": "LayoutModel",
          "state": {
            "_view_name": "LayoutView",
            "grid_template_rows": null,
            "right": null,
            "justify_content": null,
            "_view_module": "@jupyter-widgets/base",
            "overflow": null,
            "_model_module_version": "1.2.0",
            "_view_count": null,
            "flex_flow": null,
            "width": null,
            "min_width": null,
            "border": null,
            "align_items": null,
            "bottom": null,
            "_model_module": "@jupyter-widgets/base",
            "top": null,
            "grid_column": null,
            "overflow_y": null,
            "overflow_x": null,
            "grid_auto_flow": null,
            "grid_area": null,
            "grid_template_columns": null,
            "flex": null,
            "_model_name": "LayoutModel",
            "justify_items": null,
            "grid_row": null,
            "max_height": null,
            "align_content": null,
            "visibility": null,
            "align_self": null,
            "height": null,
            "min_height": null,
            "padding": null,
            "grid_auto_rows": null,
            "grid_gap": null,
            "max_width": null,
            "order": null,
            "_view_module_version": "1.2.0",
            "grid_template_areas": null,
            "object_position": null,
            "object_fit": null,
            "grid_auto_columns": null,
            "margin": null,
            "display": null,
            "left": null
          }
        },
        "f3d0f04eb7a64a76ab5bffccbeb7761e": {
          "model_module": "@jupyter-widgets/controls",
          "model_name": "ProgressStyleModel",
          "state": {
            "_view_name": "StyleView",
            "_model_name": "ProgressStyleModel",
            "description_width": "",
            "_view_module": "@jupyter-widgets/base",
            "_model_module_version": "1.5.0",
            "_view_count": null,
            "_view_module_version": "1.2.0",
            "bar_color": null,
            "_model_module": "@jupyter-widgets/controls"
          }
        },
        "7cae5cc2de604db4a2d20744d7f51007": {
          "model_module": "@jupyter-widgets/base",
          "model_name": "LayoutModel",
          "state": {
            "_view_name": "LayoutView",
            "grid_template_rows": null,
            "right": null,
            "justify_content": null,
            "_view_module": "@jupyter-widgets/base",
            "overflow": null,
            "_model_module_version": "1.2.0",
            "_view_count": null,
            "flex_flow": null,
            "width": null,
            "min_width": null,
            "border": null,
            "align_items": null,
            "bottom": null,
            "_model_module": "@jupyter-widgets/base",
            "top": null,
            "grid_column": null,
            "overflow_y": null,
            "overflow_x": null,
            "grid_auto_flow": null,
            "grid_area": null,
            "grid_template_columns": null,
            "flex": null,
            "_model_name": "LayoutModel",
            "justify_items": null,
            "grid_row": null,
            "max_height": null,
            "align_content": null,
            "visibility": null,
            "align_self": null,
            "height": null,
            "min_height": null,
            "padding": null,
            "grid_auto_rows": null,
            "grid_gap": null,
            "max_width": null,
            "order": null,
            "_view_module_version": "1.2.0",
            "grid_template_areas": null,
            "object_position": null,
            "object_fit": null,
            "grid_auto_columns": null,
            "margin": null,
            "display": null,
            "left": null
          }
        },
        "dba6b21b86584f0b86444d5c927ab251": {
          "model_module": "@jupyter-widgets/controls",
          "model_name": "DescriptionStyleModel",
          "state": {
            "_view_name": "StyleView",
            "_model_name": "DescriptionStyleModel",
            "description_width": "",
            "_view_module": "@jupyter-widgets/base",
            "_model_module_version": "1.5.0",
            "_view_count": null,
            "_view_module_version": "1.2.0",
            "_model_module": "@jupyter-widgets/controls"
          }
        },
        "f636a257e16245b6be32cb49c8b2d51d": {
          "model_module": "@jupyter-widgets/base",
          "model_name": "LayoutModel",
          "state": {
            "_view_name": "LayoutView",
            "grid_template_rows": null,
            "right": null,
            "justify_content": null,
            "_view_module": "@jupyter-widgets/base",
            "overflow": null,
            "_model_module_version": "1.2.0",
            "_view_count": null,
            "flex_flow": null,
            "width": null,
            "min_width": null,
            "border": null,
            "align_items": null,
            "bottom": null,
            "_model_module": "@jupyter-widgets/base",
            "top": null,
            "grid_column": null,
            "overflow_y": null,
            "overflow_x": null,
            "grid_auto_flow": null,
            "grid_area": null,
            "grid_template_columns": null,
            "flex": null,
            "_model_name": "LayoutModel",
            "justify_items": null,
            "grid_row": null,
            "max_height": null,
            "align_content": null,
            "visibility": null,
            "align_self": null,
            "height": null,
            "min_height": null,
            "padding": null,
            "grid_auto_rows": null,
            "grid_gap": null,
            "max_width": null,
            "order": null,
            "_view_module_version": "1.2.0",
            "grid_template_areas": null,
            "object_position": null,
            "object_fit": null,
            "grid_auto_columns": null,
            "margin": null,
            "display": null,
            "left": null
          }
        }
      }
    }
  },
  "cells": [
    {
      "cell_type": "markdown",
      "metadata": {
        "id": "YsRT1EuPmMoR"
      },
      "source": [
        "# Начало"
      ]
    },
    {
      "cell_type": "code",
      "metadata": {
        "colab": {
          "base_uri": "https://localhost:8080/"
        },
        "id": "q9fUBnMZlJpr",
        "outputId": "e80d95c7-4f10-4f2c-85ab-8d46a1388ff0"
      },
      "source": [
        "from google.colab import drive\n",
        "drive.mount('/content/drive')\n",
        "\n"
      ],
      "execution_count": null,
      "outputs": [
        {
          "output_type": "stream",
          "text": [
            "Mounted at /content/drive\n"
          ],
          "name": "stdout"
        }
      ]
    },
    {
      "cell_type": "markdown",
      "metadata": {
        "id": "hxqvTx4cmSGt"
      },
      "source": [
        "# Импорт библиотек"
      ]
    },
    {
      "cell_type": "code",
      "metadata": {
        "id": "vWger8-FumQa"
      },
      "source": [
        "!pip install simpletransformers transformers\n",
        "!pip install jsonlines"
      ],
      "execution_count": null,
      "outputs": []
    },
    {
      "cell_type": "code",
      "metadata": {
        "id": "RmbJGNwHu5L8"
      },
      "source": [
        "from simpletransformers.question_answering import QuestionAnsweringModel, QuestionAnsweringArgs\n",
        "import json\n",
        "import pickle\n",
        "import difflib\n",
        "import pandas as pd\n",
        "import numpy as np\n",
        "import torch\n",
        "from collections import Counter\n",
        "from sklearn.metrics import *\n",
        "import jsonlines"
      ],
      "execution_count": null,
      "outputs": []
    },
    {
      "cell_type": "code",
      "metadata": {
        "colab": {
          "base_uri": "https://localhost:8080/",
          "height": 113,
          "referenced_widgets": [
            "8127d4dabae5490780bc7570081d1ad7",
            "b5b05faf2d4249059832926592eaae28",
            "e507de05e2744b839923178325bbc7df",
            "c126f50094444b608f56d4f52d568c41",
            "f1ead4feacb04c438f8f85016bd475bd",
            "aea3a8768ac7414bb2f46909d2f05475",
            "d083fa342b2f41c391520f9b2ed14a72",
            "6acff4ee04454712b8d3954a2973f32d",
            "d8e1d862353b47559b33037f5f8e611f",
            "181304e9429e4d7aa8866be82a268c51",
            "b3542106855c40c6b7c349cdd1ff7293",
            "2fd9ee1fed2b420e822031aa4cb977bc",
            "88b0cb741a20445c80a79a096a97d606",
            "19ada3ba5dd14954a9c52cf052079fb6",
            "e53d2f717f3849d6a878c28484081bc0",
            "a8e1256eb7314f7a964198bd80deb020",
            "952eeda52faa48a491f9d96b0eec918b",
            "fe5cc58d1c4544ec89f8183613f4ff2d",
            "5dd3f94413b74b318441f0c0312d7383",
            "aa06c347da684cbca353421a017e6779",
            "7e9fad739e6c4bb6a59dca7bec7aff25",
            "30a897869fe046228d4fe96f5e45d1c2",
            "d7912d0d74534e6d989db5ed6996f112",
            "b971fdbc71684941b15ed981856df0e3",
            "886882d7c0144d79971243ea44ab8437",
            "a10c49aa44c94a3b8e4358d6780c1a3a",
            "3e05fbd4153b446db2ee646bad9a1d59",
            "bd8714f3dd4b4903bca3383258a76424",
            "aedc3703a7134809a47917d1c17eccdc",
            "8c20388828f54bf09dc4afc229d6fd9a",
            "f1a6e942f2654e7584dd4ece723f5c98",
            "6776935ac2a24993920a2e2e7ea7f74a",
            "9896dffc67254d72ba9898433aad0f8e"
          ]
        },
        "id": "yFLDKM3Nuvbk",
        "outputId": "460580bb-bd03-4419-948a-2de20beddc71"
      },
      "source": [
        "from transformers import BertTokenizer\n",
        "tokenizer = BertTokenizer.from_pretrained('DeepPavlov/rubert-base-cased')"
      ],
      "execution_count": null,
      "outputs": [
        {
          "output_type": "display_data",
          "data": {
            "application/vnd.jupyter.widget-view+json": {
              "model_id": "8127d4dabae5490780bc7570081d1ad7",
              "version_minor": 0,
              "version_major": 2
            },
            "text/plain": [
              "Downloading:   0%|          | 0.00/1.65M [00:00<?, ?B/s]"
            ]
          },
          "metadata": {
            "tags": []
          }
        },
        {
          "output_type": "display_data",
          "data": {
            "application/vnd.jupyter.widget-view+json": {
              "model_id": "2fd9ee1fed2b420e822031aa4cb977bc",
              "version_minor": 0,
              "version_major": 2
            },
            "text/plain": [
              "Downloading:   0%|          | 0.00/112 [00:00<?, ?B/s]"
            ]
          },
          "metadata": {
            "tags": []
          }
        },
        {
          "output_type": "display_data",
          "data": {
            "application/vnd.jupyter.widget-view+json": {
              "model_id": "d7912d0d74534e6d989db5ed6996f112",
              "version_minor": 0,
              "version_major": 2
            },
            "text/plain": [
              "Downloading:   0%|          | 0.00/2.00 [00:00<?, ?B/s]"
            ]
          },
          "metadata": {
            "tags": []
          }
        }
      ]
    },
    {
      "cell_type": "markdown",
      "metadata": {
        "id": "LvHGJrl0mwUS"
      },
      "source": [
        "# Загрузка данных"
      ]
    },
    {
      "cell_type": "code",
      "metadata": {
        "id": "msihF3JkmzVY"
      },
      "source": [
        "train = []\n",
        "with open('/content/drive/MyDrive/rucos_train.jsonl', \"r\") as fhe:\n",
        "    for i,fh in enumerate(fhe):\n",
        "        source = json.loads(fh)\n",
        "        text = source[\"passage\"][\"text\"]\n",
        "        text = text.lower()\n",
        "        entities = []\n",
        "        for l in source['passage']['entities']:\n",
        "            entities.append(text[l['start']:l['end']].lower())\n",
        "        for q in source[\"qas\"]:\n",
        "                query = q[\"query\"]\n",
        "                idx = q[\"idx\"]\n",
        "                query = query.lower()\n",
        "                answers = [x[\"text\"] for x in q[\"answers\"]]\n",
        "                start = [x['start'] for x in q['answers']]\n",
        "                end = [x['end'] for x in q['answers']]\n",
        "                answersa = []\n",
        "                for s in range(len(answers)):\n",
        "                    answersa = [{'text': answers[s].lower(), 'answer_start':start[s]}]\n",
        "                    qasa = [{'is_impossible':False,'question':query,'answers':answersa,'id':idx }]\n",
        "                    train.append({'context':text, 'qas': qasa})\n",
        "\n",
        "train_notlower = []\n",
        "with open('/content/drive/MyDrive/rucos_train.jsonl', \"r\") as fhe:\n",
        "    for i,fh in enumerate(fhe):\n",
        "        source = json.loads(fh)\n",
        "        text = source[\"passage\"][\"text\"]\n",
        "        text = text\n",
        "        entities = []\n",
        "        for l in source['passage']['entities']:\n",
        "            entities.append(text[l['start']:l['end']].lower())\n",
        "        for q in source[\"qas\"]:\n",
        "                query = q[\"query\"]\n",
        "                idx = q[\"idx\"]\n",
        "                query = query\n",
        "                answers = [x[\"text\"] for x in q[\"answers\"]]\n",
        "                start = [x['start'] for x in q['answers']]\n",
        "                end = [x['end'] for x in q['answers']]\n",
        "                answersa = []\n",
        "                for s in range(len(answers)):\n",
        "                    answersa = [{'text': answers[s], 'answer_start':start[s]}]\n",
        "                    qasa = [{'is_impossible':False,'question':query,'answers':answersa,'id':idx }]\n",
        "                    train_notlower.append({'context':text, 'qas': qasa})\n",
        "\n",
        "test = []\n",
        "with open('/content/drive/MyDrive/rucos_test.jsonl', \"r\") as fhe:\n",
        "    for i,fh in enumerate(fhe):\n",
        "        source = json.loads(fh)\n",
        "        text = source[\"passage\"][\"text\"]\n",
        "        text = text.lower()\n",
        "        for q in source[\"qas\"]:\n",
        "                query = q[\"query\"]\n",
        "                idx = q[\"idx\"]\n",
        "                query = query.lower()\n",
        "                answersa = []\n",
        "                qasa = [{'is_impossible':False,'question':query,'id':idx }]\n",
        "                test.append({'context':text, 'qas': qasa})\n",
        "\n",
        "test_notlower = []\n",
        "with open('/content/drive/MyDrive/rucos_test.jsonl', \"r\") as fhe:\n",
        "    for i,fh in enumerate(fhe):\n",
        "        source = json.loads(fh)\n",
        "        text = source[\"passage\"][\"text\"]\n",
        "        text = text\n",
        "        for q in source[\"qas\"]:\n",
        "                query = q[\"query\"]\n",
        "                idx = q[\"idx\"]\n",
        "                query = query\n",
        "                answersa = []\n",
        "                qasa = [{'is_impossible':False,'question':query,'id':idx }]\n",
        "                test.append({'context':text, 'qas': qasa})\n",
        "\n",
        "dev_notlower = []\n",
        "with open('/content/drive/MyDrive/rucos_val.jsonl', \"r\") as fhe:\n",
        "    for i,fh in enumerate(fhe):\n",
        "        source = json.loads(fh)\n",
        "        text = source[\"passage\"][\"text\"]\n",
        "        text = text\n",
        "        for q in source[\"qas\"]:\n",
        "                query = q[\"query\"]\n",
        "                idx = q[\"idx\"]\n",
        "                query = query\n",
        "                answers = [x[\"text\"] for x in q[\"answers\"]]\n",
        "                start = [x['start'] for x in q['answers']]\n",
        "                end = [x['end'] for x in q['answers']]\n",
        "                answersa = []\n",
        "                answersa = [{'text': answers[0], 'answer_start':start[0]}]\n",
        "                qasa = [{'is_impossible':False,'question':query,'answers':answersa,'id':idx }]\n",
        "                dev_notlower.append({'context':text, 'qas': qasa})\n",
        "\n",
        "dev = []\n",
        "with open('/content/drive/MyDrive/rucos_val.jsonl', \"r\") as fhe:\n",
        "    for i,fh in enumerate(fhe):\n",
        "        source = json.loads(fh)\n",
        "        text = source[\"passage\"][\"text\"]\n",
        "        text = text.lower()\n",
        "        for q in source[\"qas\"]:\n",
        "                query = q[\"query\"]\n",
        "                idx = q[\"idx\"]\n",
        "                query = query.lower()\n",
        "                answers = [x[\"text\"] for x in q[\"answers\"]]\n",
        "                start = [x['start'] for x in q['answers']]\n",
        "                end = [x['end'] for x in q['answers']]\n",
        "                answersa = []\n",
        "                answersa = [{'text': answers[0], 'answer_start':start[0]}]\n",
        "                qasa = [{'is_impossible':False,'question':query,'answers':answersa,'id':idx }]\n",
        "                dev.append({'context':text, 'qas': qasa})"
      ],
      "execution_count": null,
      "outputs": []
    },
    {
      "cell_type": "code",
      "metadata": {
        "id": "iKUD0bi9tWxS"
      },
      "source": [
        "def compute_f1(true, pred):\n",
        "    tr = tokenizer.tokenize(str(true).lower())\n",
        "    pr = tokenizer.tokenize(str(pred).lower())\n",
        "    # f1 = int(tr == pr)\n",
        "    common = Counter(tr) & Counter(pr)\n",
        "    num_same = sum(common.values())\n",
        "    if len(tr) == 0 or len(pr) ==0:\n",
        "        return int(tr == pr)\n",
        "    if num_same == 0:\n",
        "        return 0\n",
        "    presicion = 1 * num_same / len(pr)\n",
        "    recall = 1 * num_same / len(tr)\n",
        "    f1 = (2 * presicion * recall) / (presicion + recall) \n",
        "    return f1"
      ],
      "execution_count": null,
      "outputs": []
    },
    {
      "cell_type": "markdown",
      "metadata": {
        "id": "Kxb-hxbumi-K"
      },
      "source": [
        "# Обучение моделей (у нас тут пачка бертов из simple transformers, поэтому оно очень разнообразное :) но если хотите - можете запустить; а так можете посмотреть и перейти к следующему пункту, где мы загружаем все эти модели (уже обученные))"
      ]
    },
    {
      "cell_type": "markdown",
      "metadata": {
        "id": "KA-yuQ2fnd2s"
      },
      "source": [
        "Модель №1 (он же - model_rubert_low ): "
      ]
    },
    {
      "cell_type": "code",
      "metadata": {
        "id": "fsqkEw7tnTH-"
      },
      "source": [
        "model_args = QuestionAnsweringArgs()\n",
        "model_args.train_batch_size = 10\n",
        "model_args.num_train_epochs=5\n",
        "model_args.max_seq_length = 512\n",
        "model_args.evaluate_during_training = False\n",
        "model_args.use_cuda = True\n",
        "model_args.no_cache = True\n",
        "model_args.save_steps = 25000"
      ],
      "execution_count": null,
      "outputs": []
    },
    {
      "cell_type": "code",
      "metadata": {
        "id": "coZutr7_niiO"
      },
      "source": [
        "model = QuestionAnsweringModel(\n",
        "    \"bert\", \"DeepPavlov/rubert-base-cased-sentence\", args=model_args\n",
        ")"
      ],
      "execution_count": null,
      "outputs": []
    },
    {
      "cell_type": "code",
      "metadata": {
        "id": "pVtYjZQ9nleJ"
      },
      "source": [
        "model.train_model(train)"
      ],
      "execution_count": null,
      "outputs": []
    },
    {
      "cell_type": "code",
      "metadata": {
        "id": "l4bobL5vnrV2"
      },
      "source": [
        "filename = '/content/drive/MyDrive/New_models/model_rubert_low.pkl'\n",
        "pickle.dump(model, open(filename, 'wb'))"
      ],
      "execution_count": null,
      "outputs": []
    },
    {
      "cell_type": "markdown",
      "metadata": {
        "id": "-1I_gSQ-oKFD"
      },
      "source": [
        "Модель №2 (он же - bert_dp_lower):"
      ]
    },
    {
      "cell_type": "code",
      "metadata": {
        "id": "G-a4aepZoNmG"
      },
      "source": [
        "model_args = QuestionAnsweringArgs()\n",
        "model_args.train_batch_size = 10\n",
        "model_args.num_train_epochs=3\n",
        "model_args.max_seq_length = 512\n",
        "model_args.evaluate_during_training = False\n",
        "model_args.use_cuda = True\n",
        "model_args.use_multiprocessing = False\n",
        "model_args.overwrite_output_dir = True"
      ],
      "execution_count": null,
      "outputs": []
    },
    {
      "cell_type": "code",
      "metadata": {
        "id": "gbyPyJYIoNcu"
      },
      "source": [
        "model = QuestionAnsweringModel(\n",
        "    \"bert\", \"DeepPavlov/bert-base-multilingual-cased-sentence\", args=model_args\n",
        ")\n"
      ],
      "execution_count": null,
      "outputs": []
    },
    {
      "cell_type": "code",
      "metadata": {
        "id": "KkwrzCenoNTW"
      },
      "source": [
        "model.train_model(train)\n"
      ],
      "execution_count": null,
      "outputs": []
    },
    {
      "cell_type": "code",
      "metadata": {
        "id": "BW5H-Rn9oNJO"
      },
      "source": [
        "import pickle\n",
        "with open('dpmlbert_cased_lower.pkl', 'wb') as f:\n",
        "    pickle.dump(model, f)"
      ],
      "execution_count": null,
      "outputs": []
    },
    {
      "cell_type": "markdown",
      "metadata": {
        "id": "bQ63Z4I6qRda"
      },
      "source": [
        "Модель №3 (он же - distilbert_lower ):"
      ]
    },
    {
      "cell_type": "code",
      "metadata": {
        "id": "mWigkVA8qUVB"
      },
      "source": [
        "model_args = QuestionAnsweringArgs()\n",
        "model_args.train_batch_size = 10\n",
        "model_args.num_train_epochs=3\n",
        "model_args.max_seq_length = 512\n",
        "model_args.evaluate_during_training = False\n",
        "model_args.use_cuda = True\n",
        "model_args.overwrite_output_dir = True"
      ],
      "execution_count": null,
      "outputs": []
    },
    {
      "cell_type": "code",
      "metadata": {
        "id": "EQkKHhUtqUPr"
      },
      "source": [
        "model = QuestionAnsweringModel(\n",
        "    \"distilbert\", \"distilbert-base-multilingual-cased\", args=model_args\n",
        ")"
      ],
      "execution_count": null,
      "outputs": []
    },
    {
      "cell_type": "code",
      "metadata": {
        "id": "TPeTRlsPqUIx"
      },
      "source": [
        "model.train_model(train)"
      ],
      "execution_count": null,
      "outputs": []
    },
    {
      "cell_type": "code",
      "metadata": {
        "id": "OHsZWEd4qT_N"
      },
      "source": [
        "import pickle\n",
        "with open('distilbert_cased_lower.pkl', 'wb') as f:\n",
        "    pickle.dump(model, f)"
      ],
      "execution_count": null,
      "outputs": []
    },
    {
      "cell_type": "markdown",
      "metadata": {
        "id": "JiUefvjgqx-M"
      },
      "source": [
        "Модель №4 (он же - distilbert_notlower):"
      ]
    },
    {
      "cell_type": "code",
      "metadata": {
        "id": "3ek4ufPkq02X"
      },
      "source": [
        "model_args = QuestionAnsweringArgs()\n",
        "model_args.train_batch_size = 10\n",
        "model_args.num_train_epochs=3\n",
        "model_args.max_seq_length = 512\n",
        "model_args.evaluate_during_training = False\n",
        "model_args.use_cuda = True\n",
        "model_args.overwrite_output_dir = True"
      ],
      "execution_count": null,
      "outputs": []
    },
    {
      "cell_type": "code",
      "metadata": {
        "id": "QqrliVgEq00c"
      },
      "source": [
        "model = QuestionAnsweringModel(\n",
        "    \"distilbert\", \"distilbert-base-multilingual-cased\", args=model_args\n",
        ")"
      ],
      "execution_count": null,
      "outputs": []
    },
    {
      "cell_type": "code",
      "metadata": {
        "id": "ZCSXL3N-q0tM"
      },
      "source": [
        "model.train_model(train_notlower)"
      ],
      "execution_count": null,
      "outputs": []
    },
    {
      "cell_type": "code",
      "metadata": {
        "id": "itjkmppcq0qO"
      },
      "source": [
        "import pickle\n",
        "with open('distilbert_cased_notlower.pkl', 'wb') as f:\n",
        "    pickle.dump(model, f)"
      ],
      "execution_count": null,
      "outputs": []
    },
    {
      "cell_type": "markdown",
      "metadata": {
        "id": "eLLsSb0lq9J4"
      },
      "source": [
        "Модель №5 (он же - dprubertconv_cased_lower):"
      ]
    },
    {
      "cell_type": "code",
      "metadata": {
        "id": "tHIAi17krM4u"
      },
      "source": [
        "model_args = QuestionAnsweringArgs()\n",
        "model_args.train_batch_size = 10\n",
        "model_args.num_train_epochs=3\n",
        "model_args.max_seq_length = 512\n",
        "model_args.evaluate_during_training = False\n",
        "model_args.use_cuda = True\n",
        "model_args.overwrite_output_dir = True"
      ],
      "execution_count": null,
      "outputs": []
    },
    {
      "cell_type": "code",
      "metadata": {
        "id": "JOa8nPgrrM0g"
      },
      "source": [
        "model = QuestionAnsweringModel(\n",
        "    \"bert\", \"DeepPavlov/rubert-base-cased-conversational\", args=model_args\n",
        ")"
      ],
      "execution_count": null,
      "outputs": []
    },
    {
      "cell_type": "code",
      "metadata": {
        "id": "ME4yaRnqrMv1"
      },
      "source": [
        "model.train_model(train)"
      ],
      "execution_count": null,
      "outputs": []
    },
    {
      "cell_type": "code",
      "metadata": {
        "id": "WbBJ_wiLrMqe"
      },
      "source": [
        "import pickle\n",
        "with open('dprubertconv_cased_lower.pkl', 'wb') as f:\n",
        "    pickle.dump(model, f)"
      ],
      "execution_count": null,
      "outputs": []
    },
    {
      "cell_type": "markdown",
      "metadata": {
        "id": "SOTc0gFurfm_"
      },
      "source": [
        "Модель №6 (он же - dprubertconv_cased_notlower):"
      ]
    },
    {
      "cell_type": "code",
      "metadata": {
        "id": "A1K_cGPtrlqe"
      },
      "source": [
        "model_args = QuestionAnsweringArgs()\n",
        "model_args.train_batch_size = 10\n",
        "model_args.num_train_epochs=3\n",
        "model_args.max_seq_length = 512\n",
        "model_args.evaluate_during_training = False\n",
        "model_args.use_cuda = True\n",
        "model_args.overwrite_output_dir = True"
      ],
      "execution_count": null,
      "outputs": []
    },
    {
      "cell_type": "code",
      "metadata": {
        "id": "5gKktfc7rln2"
      },
      "source": [
        "model = QuestionAnsweringModel(\n",
        "    \"bert\", \"DeepPavlov/rubert-base-cased-conversational\", args=model_args\n",
        ")"
      ],
      "execution_count": null,
      "outputs": []
    },
    {
      "cell_type": "code",
      "metadata": {
        "id": "_0Ssp5XPrlk1"
      },
      "source": [
        "model.train_model(train_notlower)"
      ],
      "execution_count": null,
      "outputs": []
    },
    {
      "cell_type": "code",
      "metadata": {
        "id": "qJ-XThuKrliA"
      },
      "source": [
        "import pickle\n",
        "with open('dprubertconv_cased_notlower.pkl', 'wb') as f:\n",
        "    pickle.dump(model, f)"
      ],
      "execution_count": null,
      "outputs": []
    },
    {
      "cell_type": "markdown",
      "metadata": {
        "id": "R_u4WPMNr3Ha"
      },
      "source": [
        "Модель №7 (он же - finalized_model_bert):"
      ]
    },
    {
      "cell_type": "code",
      "metadata": {
        "id": "L0mLqj6Jr8QA"
      },
      "source": [
        "model_args = QuestionAnsweringArgs()\n",
        "model_args.train_batch_size = 10\n",
        "model_args.num_train_epochs=3\n",
        "model_args.max_seq_length = 512\n",
        "model_args.evaluate_during_training = False\n",
        "model_args.use_cuda = True"
      ],
      "execution_count": null,
      "outputs": []
    },
    {
      "cell_type": "code",
      "metadata": {
        "id": "ZBdx2o9Dr8Ko"
      },
      "source": [
        "model = QuestionAnsweringModel(\n",
        "    \"bert\", \"DeepPavlov/rubert-base-cased-sentence\", args=model_args\n",
        ")"
      ],
      "execution_count": null,
      "outputs": []
    },
    {
      "cell_type": "code",
      "metadata": {
        "id": "tUv9I-BSr8GI"
      },
      "source": [
        "model.train_model(train)"
      ],
      "execution_count": null,
      "outputs": []
    },
    {
      "cell_type": "code",
      "metadata": {
        "id": "iuQK1HZ7r8A3"
      },
      "source": [
        "filename = '/content/drive/MyDrive/New_models/finalized_model_bert.pkl'\n",
        "pickle.dump(model, open(filename, 'wb'))"
      ],
      "execution_count": null,
      "outputs": []
    },
    {
      "cell_type": "markdown",
      "metadata": {
        "id": "42N8Ry7psUd_"
      },
      "source": [
        "Модель №8 (он же bert_f_xquad):\n",
        "её тренил мой сокомандник, и так как её скор сильно хуже других (0.6 всего лишь) - мы решили её не использовать в ансамбле и мой сокомандник не кинул мне её код (просто чтобы потом не было вопрос а что это за закоменченная штуковина)"
      ]
    },
    {
      "cell_type": "markdown",
      "metadata": {
        "id": "cY9sSITys5wn"
      },
      "source": [
        "На этом вроде бы все \n",
        "(но если вдруг я что-то пропустил - пишите, я мог что-то пропустить)"
      ]
    },
    {
      "cell_type": "markdown",
      "metadata": {
        "id": "os-6nu93mXHw"
      },
      "source": [
        "# Загрузка обученных нами моделей (для ансамблирования)"
      ]
    },
    {
      "cell_type": "code",
      "metadata": {
        "id": "Bz8GVX0-vBcw"
      },
      "source": [
        "# with open('/content/drive/MyDrive/New_models/bert_f_xquad.pkl', 'rb') as f:\n",
        "#     bert_xquad_notlower = pickle.load(f)\n",
        "# with open('/content/drive/MyDrive/New_models/distilbert_cased_notlower.pkl', 'rb') as f:\n",
        "#     distilbert_notlower = pickle.load(f)\n",
        "with open('/content/drive/MyDrive/dpmlbert_cased_lower.pkl', 'rb') as f:\n",
        "    bert_dp_lower = pickle.load(f)\n",
        "with open('/content/drive/MyDrive/dprubertconv_cased_lower.pkl', 'rb') as f:\n",
        "    rubert_conv_dp_lower = pickle.load(f)\n",
        "with open('/content/drive/MyDrive/dprubertconv_cased_notlower.pkl', 'rb') as f:\n",
        "    rubert_conv_dp_notlower = pickle.load(f)\n",
        "with open('/content/drive/MyDrive/model_rubert_low.pkl', 'rb') as f:\n",
        "    rubert_lower = pickle.load(f)\n",
        "with open('/content/drive/MyDrive/model_rubert_sentence_low.pkl', 'rb') as f:\n",
        "    rubert_sen_lower = pickle.load(f)\n",
        "\n",
        "\n",
        "with open('/content/drive/MyDrive/model_rubert_no.pkl', 'rb') as f:\n",
        "    rubert_sen_dp_lower = pickle.load(f)\n",
        "\n",
        "with open('/content/drive/MyDrive/finalized_model_bert.pkl', 'rb') as f:\n",
        "    bert_fin = pickle.load(f)\n",
        "\n",
        "\n",
        "with open('/content/drive/MyDrive/model_bert_multi_low.pkl', 'rb') as f:\n",
        "    bert_multi = pickle.load(f)\n",
        "\n",
        "    # /content/drive/MyDrive/New_models/finalized_model_bert.pkl\n",
        "# /content/drive/MyDrive/New_models/dpmlbert_cased_notlower.pkl"
      ],
      "execution_count": null,
      "outputs": []
    },
    {
      "cell_type": "markdown",
      "metadata": {
        "id": "fgXph6uxtjt0"
      },
      "source": [
        "# А дальше начинается сущий ад и куча методов ансамблирования предиктов бертов, которые мы придумали"
      ]
    },
    {
      "cell_type": "code",
      "metadata": {
        "colab": {
          "base_uri": "https://localhost:8080/",
          "height": 611,
          "referenced_widgets": [
            "d22cb958a4ca47828da141876630afef",
            "19f78f9f8d1f4147bc063947e687e549",
            "feb5ba0e25d54abbaacba2372e303a8b",
            "75bf5473f5504702be4da6667676311b",
            "0e401da5e027451282ccb5a4c4196b18",
            "cba7564ade304165a81c5ffc1a55a2d4",
            "9b3330fb4d7a46819e904d45e095972e",
            "b699e6676d5148fb9754e2f0384e6798",
            "334a1523f3df45baa9974d5e952dc249",
            "8dd4b275a6554c7fbefadc4e14d78b3b",
            "efd39a1d3e5a49e8908c11deef48d373",
            "411b07ba7f734984b11351a6cbedb0eb",
            "f9bfe989ea8944f7805cbd4a060fd98c",
            "1f0f4b72d99d4ecfabd0bcf399a96cb0",
            "2f7de7541a7c40518926c073954c8d5f",
            "6901a6978def4d9e883e83f56a1b9713",
            "d7662c68c53943dcbd9fe0123cd6130e",
            "3038b96ae4d34989a67c5e5a6cb98bcc",
            "652fb7f9a54549e9a562a53c3bf3a879",
            "37edeaee8e514229ad6c65d7469b1392",
            "db6d8493fcf9448eafd5a885e9cbcd40",
            "2f18080096024133849276539f5059e1",
            "65b30d1647034820b11fcbcb8faee5cb",
            "2a3f4e69272d4e22b482660f2fded34e",
            "1adcb50031004ffeb490e34878c2039a",
            "0054c171499e427aaee41705130695d8",
            "88d0d9d5547c49e3be61f7117faca714",
            "8a15c6abd28242f3a1e5ec18fcab58a8",
            "04a04383865943699fd4e02225583a34",
            "6e9a23c781544fe7aae3051a6da05893",
            "99077b3a0bb348cc8517eda809f2ee02",
            "fdaf406021c54997bfdc9dc40b016328",
            "5f91ad22008e4a16a8727b8acf6d8d44",
            "fc8852d039fd4079b9ea0b6621474365",
            "adbe6764fbc04dc690ae4fc9b8f68e7a",
            "484a623bccd0417caa4adc55a00cb368",
            "3f902dba2214402c956a7917a19ee49e",
            "0209c20b5fcc4fd7b482944456eb77b7",
            "ff4cc8c4a782450d87df7df0416a4f07",
            "fc276a538491453490019627017d124d",
            "7937ac5f22044148b84d100536b0a0ec",
            "3fb4246e99d140c0bfb14f65d0d933b2",
            "f7555e536cf743cc8d0ea11e871afc40",
            "b9568b87a8fb4ed9a83267627cfd336e",
            "07aba36c58f7422aa377f05e3e626904",
            "ef0120ea7b1f4d94bc00c2717d8fd395",
            "6fafec4d1dcc483088243923470fc7c2",
            "7d610009902f454a93d1ebe612f7ebc4",
            "9f201e9434e04b4fbeb37bd358f8b27c",
            "2f7d9fda89634f9cb3c8446a0a6d1a94",
            "0515027bb7464ca48e67870442a82208",
            "bc06c70869eb4128bacd339a4e016b96",
            "2808111fe79c445995ad5d412563ae2b",
            "17a2aea4f1124687997ae09b6b949dff",
            "b7ff6befee4042358f9992ab1eaef1bf",
            "d8ca2603cdbf47e7bb43228333058f91",
            "0b6ee07aa6b54653b7d3d2de1602f555",
            "87e92279292e43be946490a5e3807460",
            "4e7843aea7074ee39ea23f088c8a0b2d",
            "85aafaf0c4f942ae9f558437020f3576",
            "81255b1c342840d9be41331f11ac3c4c",
            "51043293e07a4119bee470391ccfa845",
            "04936b3fa47d4b83b8d1ac19cb5589c9",
            "bf80f4642be2471185ece1eef005e99c",
            "466bc3ffd23841f78aa3a4ac20b32051",
            "89b36b9715d34affbe78345de58eda5c",
            "58f2e7bd7ca84ac0a264ba7a57ed6425",
            "15b1c37d171949c5936127cb0e67945b",
            "a91c0bad056f460cbe4a3923a39d550b",
            "fdd26eb8e5944d6e86492bd3713e7c5d",
            "2d1312c22fbd4386929cfbc9e198b6b2",
            "793ed2b9396743f990f38e0776da8fa0",
            "6239ef3e3b6a47798b648b18719e8263",
            "9039358160c9469bbba2c4775b13694c",
            "6f803ead44794a6290e6702c797424ef",
            "caf7f514073744139fa6cea590a06651",
            "d8f48bd0b53c43c9b6d35226493fc2db",
            "c1f3fc32688a48a79365be3be7b2e6a8",
            "3eab1c6b565d46ce898bb3e11dd9a21a",
            "4a40b72901d045958b67445e664007c2",
            "33210196101141a283904bea3245ac94",
            "683efe88c2424f71b7206a2373f2cf62",
            "b0ac3c21d1894f6ea8c7c260ffb9f7c0",
            "25828a26e67e42399388d14271a3a5ce",
            "d84591b52172482eae90da264a3a394b",
            "36a54e77f46d4d6f9025b816e3770fab",
            "4d73c8e8e533467da28c4855838917ad",
            "b25989406e6f4df0b9f5e8ccc03dea93",
            "ea73d812c06649898e0ce3e12ccd79ac",
            "7eeb376b63cc4efdabe6359fa09e4063",
            "97d04b8ba0784809929e516a3aaab6f4",
            "074142200c124fa78adf867266bddfc0",
            "2e7db20975654cba814b8f2057d6c685",
            "0b1eca40f31e4293b8d97d53de426e89",
            "70c068ba645146539dbd76de8c3d0eda",
            "eca03323cfaa4f218ddfe86c5ace42c6",
            "4525295d31714d9ba94644632e63f637",
            "d40d3d17a6ac4983a6f41aafcc64e8d5",
            "5714c0b58d78466c9983ea5e9062249b"
          ]
        },
        "id": "bBnq2P0l9iIG",
        "outputId": "0a4f973c-3865-4cbe-815a-1da4d8499b30"
      },
      "source": [
        "# получение предиктов каждого берта\n",
        "\n",
        "\n",
        "# preds_bert_xquad_notlower = bert_xquad_notlower.predict(test)\n",
        "# preds_distilbert_notlower = distilbert_notlower.predict(test)\n",
        "preds_bert_dp_lower = bert_dp_lower.predict(dev)\n",
        "preds_rubert_conv_dp_lower = rubert_conv_dp_lower.predict(dev)\n",
        "preds_rubert_conv_dp_notlower = rubert_conv_dp_notlower.predict(dev)\n",
        "preds_rubert_lower = rubert_lower.predict(dev)\n",
        "preds_rubert_sen_lower = rubert_sen_lower.predict(dev)\n",
        "preds_bert_fin = bert_fin.predict(dev)\n",
        "preds_bert_multi = bert_multi.predict(dev)\n",
        "preds_bert_fin = bert_fin.predict(dev)\n",
        "preds_rubert_sen_dp_lower = rubert_sen_dp_lower.predict(dev)"
      ],
      "execution_count": null,
      "outputs": [
        {
          "output_type": "stream",
          "text": [
            "100%|██████████| 7577/7577 [01:45<00:00, 72.09it/s]\n",
            "add example index and unique id: 100%|██████████| 7577/7577 [00:00<00:00, 737651.54it/s]\n"
          ],
          "name": "stderr"
        },
        {
          "output_type": "display_data",
          "data": {
            "application/vnd.jupyter.widget-view+json": {
              "model_id": "d22cb958a4ca47828da141876630afef",
              "version_minor": 0,
              "version_major": 2
            },
            "text/plain": [
              "Running Prediction:   0%|          | 0/949 [00:00<?, ?it/s]"
            ]
          },
          "metadata": {
            "tags": []
          }
        },
        {
          "output_type": "stream",
          "text": [
            "100%|██████████| 7577/7577 [01:34<00:00, 80.52it/s]\n",
            "add example index and unique id: 100%|██████████| 7577/7577 [00:00<00:00, 766509.28it/s]\n"
          ],
          "name": "stderr"
        },
        {
          "output_type": "display_data",
          "data": {
            "application/vnd.jupyter.widget-view+json": {
              "model_id": "411b07ba7f734984b11351a6cbedb0eb",
              "version_minor": 0,
              "version_major": 2
            },
            "text/plain": [
              "Running Prediction:   0%|          | 0/948 [00:00<?, ?it/s]"
            ]
          },
          "metadata": {
            "tags": []
          }
        },
        {
          "output_type": "stream",
          "text": [
            "100%|██████████| 7577/7577 [01:33<00:00, 81.41it/s]\n",
            "add example index and unique id: 100%|██████████| 7577/7577 [00:00<00:00, 782013.37it/s]\n"
          ],
          "name": "stderr"
        },
        {
          "output_type": "display_data",
          "data": {
            "application/vnd.jupyter.widget-view+json": {
              "model_id": "65b30d1647034820b11fcbcb8faee5cb",
              "version_minor": 0,
              "version_major": 2
            },
            "text/plain": [
              "Running Prediction:   0%|          | 0/948 [00:00<?, ?it/s]"
            ]
          },
          "metadata": {
            "tags": []
          }
        },
        {
          "output_type": "stream",
          "text": [
            "100%|██████████| 7577/7577 [01:32<00:00, 82.34it/s]\n",
            "add example index and unique id: 100%|██████████| 7577/7577 [00:00<00:00, 565867.34it/s]\n"
          ],
          "name": "stderr"
        },
        {
          "output_type": "display_data",
          "data": {
            "application/vnd.jupyter.widget-view+json": {
              "model_id": "fc8852d039fd4079b9ea0b6621474365",
              "version_minor": 0,
              "version_major": 2
            },
            "text/plain": [
              "Running Prediction:   0%|          | 0/948 [00:00<?, ?it/s]"
            ]
          },
          "metadata": {
            "tags": []
          }
        },
        {
          "output_type": "stream",
          "text": [
            "100%|██████████| 7577/7577 [01:35<00:00, 79.09it/s]\n",
            "add example index and unique id: 100%|██████████| 7577/7577 [00:00<00:00, 600261.43it/s]\n"
          ],
          "name": "stderr"
        },
        {
          "output_type": "display_data",
          "data": {
            "application/vnd.jupyter.widget-view+json": {
              "model_id": "07aba36c58f7422aa377f05e3e626904",
              "version_minor": 0,
              "version_major": 2
            },
            "text/plain": [
              "Running Prediction:   0%|          | 0/948 [00:00<?, ?it/s]"
            ]
          },
          "metadata": {
            "tags": []
          }
        },
        {
          "output_type": "stream",
          "text": [
            "100%|██████████| 7577/7577 [01:32<00:00, 81.72it/s]\n",
            "add example index and unique id: 100%|██████████| 7577/7577 [00:00<00:00, 750365.77it/s]\n"
          ],
          "name": "stderr"
        },
        {
          "output_type": "display_data",
          "data": {
            "application/vnd.jupyter.widget-view+json": {
              "model_id": "d8ca2603cdbf47e7bb43228333058f91",
              "version_minor": 0,
              "version_major": 2
            },
            "text/plain": [
              "Running Prediction:   0%|          | 0/948 [00:00<?, ?it/s]"
            ]
          },
          "metadata": {
            "tags": []
          }
        },
        {
          "output_type": "stream",
          "text": [
            "100%|██████████| 7577/7577 [01:43<00:00, 73.11it/s]\n",
            "add example index and unique id: 100%|██████████| 7577/7577 [00:00<00:00, 615454.84it/s]\n"
          ],
          "name": "stderr"
        },
        {
          "output_type": "display_data",
          "data": {
            "application/vnd.jupyter.widget-view+json": {
              "model_id": "58f2e7bd7ca84ac0a264ba7a57ed6425",
              "version_minor": 0,
              "version_major": 2
            },
            "text/plain": [
              "Running Prediction:   0%|          | 0/949 [00:00<?, ?it/s]"
            ]
          },
          "metadata": {
            "tags": []
          }
        },
        {
          "output_type": "stream",
          "text": [
            "100%|██████████| 7577/7577 [01:33<00:00, 81.02it/s]\n",
            "add example index and unique id: 100%|██████████| 7577/7577 [00:00<00:00, 765438.51it/s]\n"
          ],
          "name": "stderr"
        },
        {
          "output_type": "display_data",
          "data": {
            "application/vnd.jupyter.widget-view+json": {
              "model_id": "c1f3fc32688a48a79365be3be7b2e6a8",
              "version_minor": 0,
              "version_major": 2
            },
            "text/plain": [
              "Running Prediction:   0%|          | 0/948 [00:00<?, ?it/s]"
            ]
          },
          "metadata": {
            "tags": []
          }
        },
        {
          "output_type": "stream",
          "text": [
            "100%|██████████| 7577/7577 [01:32<00:00, 82.04it/s]\n",
            "add example index and unique id: 100%|██████████| 7577/7577 [00:00<00:00, 754731.68it/s]\n"
          ],
          "name": "stderr"
        },
        {
          "output_type": "display_data",
          "data": {
            "application/vnd.jupyter.widget-view+json": {
              "model_id": "ea73d812c06649898e0ce3e12ccd79ac",
              "version_minor": 0,
              "version_major": 2
            },
            "text/plain": [
              "Running Prediction:   0%|          | 0/948 [00:00<?, ?it/s]"
            ]
          },
          "metadata": {
            "tags": []
          }
        }
      ]
    },
    {
      "cell_type": "code",
      "metadata": {
        "id": "xn9xmsQeygVH"
      },
      "source": [
        "# получение вариантов ответа и самих ответов для проверки точности модели/ансамбля на валидации\n",
        "\n",
        "entities_m = []\n",
        "with open('/content/drive/MyDrive/rucos_val.jsonl', \"r\") as fhe:\n",
        "    for i,fh in enumerate(fhe):\n",
        "        source = json.loads(fh)\n",
        "        text = source[\"passage\"][\"text\"]\n",
        "        text = text.lower()\n",
        "        entities = []\n",
        "        for l in source['passage']['entities']:\n",
        "            entities.append(text[l['start']:l['end']].lower())\n",
        "        entities_m.append(entities)                   \n",
        "\n",
        "real_answ_m = []\n",
        "with open('/content/drive/MyDrive/rucos_val.jsonl', \"r\") as fhe:\n",
        "    for i,fh in enumerate(fhe):\n",
        "        source = json.loads(fh)\n",
        "        text = source[\"passage\"][\"text\"]\n",
        "        text = text.lower()\n",
        "        for q in source[\"qas\"]:\n",
        "            answers = [x[\"text\"] for x in q[\"answers\"]]\n",
        "        real_answ_m.append(answers[0].lower())"
      ],
      "execution_count": null,
      "outputs": []
    },
    {
      "cell_type": "code",
      "metadata": {
        "id": "PLIl5sYrzB2_"
      },
      "source": [
        "# форматирование предиктов чтобы потом впихнуть их в довольно удобный pd.DataFrame\n",
        "answers_bert_dp_lower = []\n",
        "for i in range(len(preds_bert_dp_lower[0])):\n",
        "    # print(answ[0][i]['answer'][0])\n",
        "    answers_bert_dp_lower.append([preds_bert_dp_lower[0][i]['answer'][0], preds_bert_dp_lower[1][i]['probability'][0]])\n",
        "\n",
        "answers_rubert_conv_dp_lower = []\n",
        "for i in range(len(preds_rubert_conv_dp_lower[0])):\n",
        "    # print(answ[0][i]['answer'][0])\n",
        "    answers_rubert_conv_dp_lower.append([preds_rubert_conv_dp_lower[0][i]['answer'][0], preds_rubert_conv_dp_lower[1][i]['probability'][0]])\n",
        "\n",
        "answers_rubert_conv_dp_notlower = []\n",
        "for i in range(len(preds_rubert_conv_dp_notlower[0])):\n",
        "    # print(answ[0][i]['answer'][0])\n",
        "    answers_rubert_conv_dp_notlower.append([preds_rubert_conv_dp_notlower[0][i]['answer'][0], preds_rubert_conv_dp_notlower[1][i]['probability'][0]])\n",
        "\n",
        "answers_rubert_lower = []\n",
        "for i in range(len(preds_rubert_lower[0])):\n",
        "    # print(answ[0][i]['answer'][0])\n",
        "    answers_rubert_lower.append([preds_rubert_lower[0][i]['answer'][0], preds_rubert_lower[1][i]['probability'][0]])\n",
        "\n",
        "answers_rubert_sen_lower = []\n",
        "for i in range(len(preds_bert_dp_lower[0])):\n",
        "    # print(answ[0][i]['answer'][0])\n",
        "    answers_rubert_sen_lower.append([preds_rubert_sen_lower[0][i]['answer'][0], preds_rubert_sen_lower[1][i]['probability'][0]])\n",
        "\n",
        "answers_bert_fin = []\n",
        "for i in range(len(preds_bert_fin[0])):\n",
        "    # print(answ[0][i]['answer'][0])\n",
        "    answers_bert_fin.append([preds_bert_fin[0][i]['answer'][0], preds_bert_fin[1][i]['probability'][0]])\n",
        "\n",
        "answers_bert_multi = []\n",
        "for i in range(len(preds_bert_multi[0])):\n",
        "    # print(answ[0][i]['answer'][0])\n",
        "    answers_bert_multi.append([preds_bert_multi[0][i]['answer'][0], preds_bert_multi[1][i]['probability'][0]])\n",
        "\n",
        "answers_bert_fin = []\n",
        "for i in range(len(preds_bert_fin[0])):\n",
        "    # print(answ[0][i]['answer'][0])\n",
        "    answers_bert_fin.append([preds_bert_fin[0][i]['answer'][0], preds_bert_fin[1][i]['probability'][0]])\n",
        "\n",
        "answers_rubert_sen_dp_lower = []\n",
        "for i in range(len(preds_rubert_sen_dp_lower[0])):\n",
        "    # print(answ[0][i]['answer'][0])\n",
        "    answers_rubert_sen_dp_lower.append([preds_rubert_sen_dp_lower[0][i]['answer'][0], preds_rubert_sen_dp_lower[1][i]['probability'][0]])"
      ],
      "execution_count": null,
      "outputs": []
    },
    {
      "cell_type": "code",
      "metadata": {
        "id": "bXQbJS5N97DF"
      },
      "source": [
        "# обработка предиктов бертов (что они непосредственно предсказали)\n",
        "def get_answers(ans):\n",
        "    rets = []\n",
        "    for i,k in enumerate(entities_m[:]):\n",
        "        matches = difflib.get_close_matches(ans[i], k, cutoff=0.4)\n",
        "        if matches:\n",
        "            rets.append(matches[0])\n",
        "        else:\n",
        "            rets.append(ans[i])\n",
        "    return rets\n",
        "\n",
        "\n",
        "\n",
        "real_answers_bert_dp_lower = get_answers(answers_bert_dp_lower)\n",
        "real_answers_rubert_conv_dp_lower = get_answers(answers_rubert_conv_dp_lower)\n",
        "real_answers_rubert_conv_dp_notlower =  get_answers(answers_rubert_conv_dp_notlower)\n",
        "real_answers_rubert_lower = get_answers(answers_rubert_lower)\n",
        "real_answers_rubert_sen_lower = get_answers(answers_rubert_sen_lower)\n",
        "real_answers_bert_fin = get_answers(answers_bert_fin)\n",
        "real_answers_bert_multi = get_answers(answers_bert_multi)\n",
        "real_answers_bert_fin = get_answers(answers_bert_fin)\n",
        "real_answers_rubert_sen_dp_lower = get_answers(answers_rubert_sen_dp_lower)\n"
      ],
      "execution_count": null,
      "outputs": []
    },
    {
      "cell_type": "code",
      "metadata": {
        "id": "Q8RG9lch1n89"
      },
      "source": [
        "# создание удобного датафрейма\n",
        "answers__ = pd.DataFrame({\n",
        "                          'bert_dp_lower':real_answers_bert_dp_lower, 'rubert_conv_dp_lower':real_answers_rubert_conv_dp_lower,\n",
        "                           'rubert_conv_dp_notlower':real_answers_rubert_conv_dp_notlower,'rubert_lower':real_answers_rubert_lower,\n",
        "                           'rubert_sen_lower':real_answers_rubert_sen_lower,'bert_fin':real_answers_bert_fin,\n",
        "                          'bert_multi':real_answers_bert_multi,'bert_fin':real_answers_bert_fin, 'rubert_sen_dp_lower':real_answers_rubert_sen_dp_lower})"
      ],
      "execution_count": null,
      "outputs": []
    },
    {
      "cell_type": "code",
      "metadata": {
        "id": "_ngsr5IG3Z6m"
      },
      "source": [
        "#сохранение его в отдельный файл, чтобы не запускать 10 раз в день те 5 ячеек, которые выше\n",
        "answers__.to_csv('Answers_from_every_model.csv')"
      ],
      "execution_count": null,
      "outputs": []
    },
    {
      "cell_type": "code",
      "metadata": {
        "id": "jtgtXnEb-c9O"
      },
      "source": [
        "answers__ = pd.read_csv('Answers_from_every_model.csv')"
      ],
      "execution_count": null,
      "outputs": []
    },
    {
      "cell_type": "code",
      "metadata": {
        "id": "62mk9aM83b5a",
        "colab": {
          "base_uri": "https://localhost:8080/",
          "height": 419
        },
        "outputId": "095ba671-36b0-466d-842a-e6c3368a49b1"
      },
      "source": [
        "answers__"
      ],
      "execution_count": null,
      "outputs": [
        {
          "output_type": "execute_result",
          "data": {
            "text/html": [
              "<div>\n",
              "<style scoped>\n",
              "    .dataframe tbody tr th:only-of-type {\n",
              "        vertical-align: middle;\n",
              "    }\n",
              "\n",
              "    .dataframe tbody tr th {\n",
              "        vertical-align: top;\n",
              "    }\n",
              "\n",
              "    .dataframe thead th {\n",
              "        text-align: right;\n",
              "    }\n",
              "</style>\n",
              "<table border=\"1\" class=\"dataframe\">\n",
              "  <thead>\n",
              "    <tr style=\"text-align: right;\">\n",
              "      <th></th>\n",
              "      <th>Unnamed: 0</th>\n",
              "      <th>bert_xquad_notlower</th>\n",
              "      <th>distilbert_notlower</th>\n",
              "      <th>bert_dp_lower</th>\n",
              "      <th>rubert_conv_dp_lower</th>\n",
              "      <th>rubert_conv_dp_notlower</th>\n",
              "      <th>rubert_sen_dp_lower</th>\n",
              "    </tr>\n",
              "  </thead>\n",
              "  <tbody>\n",
              "    <tr>\n",
              "      <th>0</th>\n",
              "      <td>0</td>\n",
              "      <td>германии</td>\n",
              "      <td>германии</td>\n",
              "      <td>германии</td>\n",
              "      <td>германии</td>\n",
              "      <td>германии</td>\n",
              "      <td>германии</td>\n",
              "    </tr>\n",
              "    <tr>\n",
              "      <th>1</th>\n",
              "      <td>1</td>\n",
              "      <td>хамас</td>\n",
              "      <td>хамас</td>\n",
              "      <td>рф</td>\n",
              "      <td>рф</td>\n",
              "      <td>хамас</td>\n",
              "      <td>рф</td>\n",
              "    </tr>\n",
              "    <tr>\n",
              "      <th>2</th>\n",
              "      <td>2</td>\n",
              "      <td>ташкента</td>\n",
              "      <td>ташкента</td>\n",
              "      <td>ташкента</td>\n",
              "      <td>ташкента</td>\n",
              "      <td>ташкента</td>\n",
              "      <td>ташкента</td>\n",
              "    </tr>\n",
              "    <tr>\n",
              "      <th>3</th>\n",
              "      <td>3</td>\n",
              "      <td>heckler &amp; koch</td>\n",
              "      <td>heckler &amp; koch</td>\n",
              "      <td>heckler &amp; koch</td>\n",
              "      <td>heckler &amp; koch</td>\n",
              "      <td>сми</td>\n",
              "      <td>heckler &amp; koch</td>\n",
              "    </tr>\n",
              "    <tr>\n",
              "      <th>4</th>\n",
              "      <td>4</td>\n",
              "      <td>франк-вальтер штайнмайер</td>\n",
              "      <td>франк-вальтер штайнмайер</td>\n",
              "      <td>франк-вальтер штайнмайер</td>\n",
              "      <td>франк-вальтер штайнмайер</td>\n",
              "      <td>франк-вальтер штайнмайер</td>\n",
              "      <td>франк-вальтер штайнмайер</td>\n",
              "    </tr>\n",
              "    <tr>\n",
              "      <th>...</th>\n",
              "      <td>...</td>\n",
              "      <td>...</td>\n",
              "      <td>...</td>\n",
              "      <td>...</td>\n",
              "      <td>...</td>\n",
              "      <td>...</td>\n",
              "      <td>...</td>\n",
              "    </tr>\n",
              "    <tr>\n",
              "      <th>7572</th>\n",
              "      <td>7572</td>\n",
              "      <td>ирана</td>\n",
              "      <td>ближнем востоке</td>\n",
              "      <td>ирана</td>\n",
              "      <td>иран</td>\n",
              "      <td>ирана</td>\n",
              "      <td>ирана</td>\n",
              "    </tr>\n",
              "    <tr>\n",
              "      <th>7573</th>\n",
              "      <td>7573</td>\n",
              "      <td>николаенко</td>\n",
              "      <td>николаенко</td>\n",
              "      <td>николаенко</td>\n",
              "      <td>николаенко</td>\n",
              "      <td>николаенко</td>\n",
              "      <td>николаенко</td>\n",
              "    </tr>\n",
              "    <tr>\n",
              "      <th>7574</th>\n",
              "      <td>7574</td>\n",
              "      <td>халифа хафтар</td>\n",
              "      <td>халифа хафтар</td>\n",
              "      <td>халифа хафтар</td>\n",
              "      <td>халифа хафтар</td>\n",
              "      <td>хафтар</td>\n",
              "      <td>халифа хафтар</td>\n",
              "    </tr>\n",
              "    <tr>\n",
              "      <th>7575</th>\n",
              "      <td>7575</td>\n",
              "      <td>халифы хафтара</td>\n",
              "      <td>халифы хафтара</td>\n",
              "      <td>халифы хафтара</td>\n",
              "      <td>хафтара</td>\n",
              "      <td>россии</td>\n",
              "      <td>хафтара</td>\n",
              "    </tr>\n",
              "    <tr>\n",
              "      <th>7576</th>\n",
              "      <td>7576</td>\n",
              "      <td>мазиной</td>\n",
              "      <td>мазиной</td>\n",
              "      <td>мазиной</td>\n",
              "      <td>мазиной</td>\n",
              "      <td>мазиной</td>\n",
              "      <td>мазиной</td>\n",
              "    </tr>\n",
              "  </tbody>\n",
              "</table>\n",
              "<p>7577 rows × 7 columns</p>\n",
              "</div>"
            ],
            "text/plain": [
              "      Unnamed: 0  ...       rubert_sen_dp_lower\n",
              "0              0  ...                  германии\n",
              "1              1  ...                        рф\n",
              "2              2  ...                  ташкента\n",
              "3              3  ...            heckler & koch\n",
              "4              4  ...  франк-вальтер штайнмайер\n",
              "...          ...  ...                       ...\n",
              "7572        7572  ...                     ирана\n",
              "7573        7573  ...                николаенко\n",
              "7574        7574  ...             халифа хафтар\n",
              "7575        7575  ...                   хафтара\n",
              "7576        7576  ...                   мазиной\n",
              "\n",
              "[7577 rows x 7 columns]"
            ]
          },
          "metadata": {
            "tags": []
          },
          "execution_count": 15
        }
      ]
    },
    {
      "cell_type": "code",
      "metadata": {
        "id": "tc8jMCsp8aFj",
        "colab": {
          "base_uri": "https://localhost:8080/",
          "height": 350
        },
        "outputId": "bc394be6-280c-4fcb-9e19-e6fda92548bd"
      },
      "source": [
        "# это один из наших методов ансамблирования \n",
        "# P.S. уважаемые программисты, не делайте сразу фейспалмы при виде сие творения\n",
        "# согласен, это сложно назвать нормальным ансамблем\n",
        "# но оно повышает точность и использует несколько моделей :)\n",
        "real_an = []\n",
        "for i in range(len(answers__)):\n",
        "    st = answers__.iloc[i]\n",
        "    s = Counter([x[0].lower() for x in st])\n",
        "    for x in s:\n",
        "        if s[x] >= 4:\n",
        "            real_an.append(x)\n",
        "            break\n",
        "    else:\n",
        "        real_an.append(sorted(answers__.iloc[i], key=lambda x: -x[1])[0][0].lower())"
      ],
      "execution_count": null,
      "outputs": [
        {
          "output_type": "error",
          "ename": "IndexError",
          "evalue": "ignored",
          "traceback": [
            "\u001b[0;31m---------------------------------------------------------------------------\u001b[0m",
            "\u001b[0;31mIndexError\u001b[0m                                Traceback (most recent call last)",
            "\u001b[0;32m<ipython-input-10-0820c7c2205a>\u001b[0m in \u001b[0;36m<module>\u001b[0;34m()\u001b[0m\n\u001b[1;32m      6\u001b[0m \u001b[0;32mfor\u001b[0m \u001b[0mi\u001b[0m \u001b[0;32min\u001b[0m \u001b[0mrange\u001b[0m\u001b[0;34m(\u001b[0m\u001b[0mlen\u001b[0m\u001b[0;34m(\u001b[0m\u001b[0manswers__\u001b[0m\u001b[0;34m)\u001b[0m\u001b[0;34m)\u001b[0m\u001b[0;34m:\u001b[0m\u001b[0;34m\u001b[0m\u001b[0;34m\u001b[0m\u001b[0m\n\u001b[1;32m      7\u001b[0m     \u001b[0mst\u001b[0m \u001b[0;34m=\u001b[0m \u001b[0manswers__\u001b[0m\u001b[0;34m.\u001b[0m\u001b[0miloc\u001b[0m\u001b[0;34m[\u001b[0m\u001b[0mi\u001b[0m\u001b[0;34m]\u001b[0m\u001b[0;34m\u001b[0m\u001b[0;34m\u001b[0m\u001b[0m\n\u001b[0;32m----> 8\u001b[0;31m     \u001b[0ms\u001b[0m \u001b[0;34m=\u001b[0m \u001b[0mCounter\u001b[0m\u001b[0;34m(\u001b[0m\u001b[0;34m[\u001b[0m\u001b[0mx\u001b[0m\u001b[0;34m[\u001b[0m\u001b[0;36m0\u001b[0m\u001b[0;34m]\u001b[0m\u001b[0;34m.\u001b[0m\u001b[0mlower\u001b[0m\u001b[0;34m(\u001b[0m\u001b[0;34m)\u001b[0m \u001b[0;32mfor\u001b[0m \u001b[0mx\u001b[0m \u001b[0;32min\u001b[0m \u001b[0mst\u001b[0m\u001b[0;34m]\u001b[0m\u001b[0;34m)\u001b[0m\u001b[0;34m\u001b[0m\u001b[0;34m\u001b[0m\u001b[0m\n\u001b[0m\u001b[1;32m      9\u001b[0m     \u001b[0;32mfor\u001b[0m \u001b[0mx\u001b[0m \u001b[0;32min\u001b[0m \u001b[0ms\u001b[0m\u001b[0;34m:\u001b[0m\u001b[0;34m\u001b[0m\u001b[0;34m\u001b[0m\u001b[0m\n\u001b[1;32m     10\u001b[0m         \u001b[0;32mif\u001b[0m \u001b[0ms\u001b[0m\u001b[0;34m[\u001b[0m\u001b[0mx\u001b[0m\u001b[0;34m]\u001b[0m \u001b[0;34m>=\u001b[0m \u001b[0;36m4\u001b[0m\u001b[0;34m:\u001b[0m\u001b[0;34m\u001b[0m\u001b[0;34m\u001b[0m\u001b[0m\n",
            "\u001b[0;32m<ipython-input-10-0820c7c2205a>\u001b[0m in \u001b[0;36m<listcomp>\u001b[0;34m(.0)\u001b[0m\n\u001b[1;32m      6\u001b[0m \u001b[0;32mfor\u001b[0m \u001b[0mi\u001b[0m \u001b[0;32min\u001b[0m \u001b[0mrange\u001b[0m\u001b[0;34m(\u001b[0m\u001b[0mlen\u001b[0m\u001b[0;34m(\u001b[0m\u001b[0manswers__\u001b[0m\u001b[0;34m)\u001b[0m\u001b[0;34m)\u001b[0m\u001b[0;34m:\u001b[0m\u001b[0;34m\u001b[0m\u001b[0;34m\u001b[0m\u001b[0m\n\u001b[1;32m      7\u001b[0m     \u001b[0mst\u001b[0m \u001b[0;34m=\u001b[0m \u001b[0manswers__\u001b[0m\u001b[0;34m.\u001b[0m\u001b[0miloc\u001b[0m\u001b[0;34m[\u001b[0m\u001b[0mi\u001b[0m\u001b[0;34m]\u001b[0m\u001b[0;34m\u001b[0m\u001b[0;34m\u001b[0m\u001b[0m\n\u001b[0;32m----> 8\u001b[0;31m     \u001b[0ms\u001b[0m \u001b[0;34m=\u001b[0m \u001b[0mCounter\u001b[0m\u001b[0;34m(\u001b[0m\u001b[0;34m[\u001b[0m\u001b[0mx\u001b[0m\u001b[0;34m[\u001b[0m\u001b[0;36m0\u001b[0m\u001b[0;34m]\u001b[0m\u001b[0;34m.\u001b[0m\u001b[0mlower\u001b[0m\u001b[0;34m(\u001b[0m\u001b[0;34m)\u001b[0m \u001b[0;32mfor\u001b[0m \u001b[0mx\u001b[0m \u001b[0;32min\u001b[0m \u001b[0mst\u001b[0m\u001b[0;34m]\u001b[0m\u001b[0;34m)\u001b[0m\u001b[0;34m\u001b[0m\u001b[0;34m\u001b[0m\u001b[0m\n\u001b[0m\u001b[1;32m      9\u001b[0m     \u001b[0;32mfor\u001b[0m \u001b[0mx\u001b[0m \u001b[0;32min\u001b[0m \u001b[0ms\u001b[0m\u001b[0;34m:\u001b[0m\u001b[0;34m\u001b[0m\u001b[0;34m\u001b[0m\u001b[0m\n\u001b[1;32m     10\u001b[0m         \u001b[0;32mif\u001b[0m \u001b[0ms\u001b[0m\u001b[0;34m[\u001b[0m\u001b[0mx\u001b[0m\u001b[0;34m]\u001b[0m \u001b[0;34m>=\u001b[0m \u001b[0;36m4\u001b[0m\u001b[0;34m:\u001b[0m\u001b[0;34m\u001b[0m\u001b[0;34m\u001b[0m\u001b[0m\n",
            "\u001b[0;31mIndexError\u001b[0m: invalid index to scalar variable."
          ]
        }
      ]
    },
    {
      "cell_type": "code",
      "metadata": {
        "id": "h8YGOZjp7HM3",
        "colab": {
          "base_uri": "https://localhost:8080/"
        },
        "outputId": "eeb7b752-4efb-4181-9212-2c132c064b99"
      },
      "source": [
        "# валидация 1го ансамбля (подсчет f1 у нас кривой, в системе всегда на 0.03-0.09 выше)\n",
        "f1s = []\n",
        "for i in range(len(real_an)):\n",
        "    f1s.append(compute_f1(real_answ_m[i],list(real_an)[i]))\n",
        "print(sum(f1s) / len(f1s))"
      ],
      "execution_count": null,
      "outputs": [
        {
          "output_type": "stream",
          "text": [
            "0.7607328566613303\n"
          ],
          "name": "stdout"
        }
      ]
    },
    {
      "cell_type": "code",
      "metadata": {
        "id": "xyD8heA2AQy3"
      },
      "source": [
        "# формирование 1го сабмита (если не ошибаюсь - этот на 0.8143 примерно)\n",
        "answq = []\n",
        "\n",
        "for i,l in enumerate(answers_mul):\n",
        "    a = {'idx': i, 'text':str(l)}\n",
        "    answq.append(a)\n",
        "\n",
        "with jsonlines.open('res.jsonl', mode='w') as writer:\n",
        "    writer.write_all(a)\n"
      ],
      "execution_count": null,
      "outputs": []
    },
    {
      "cell_type": "code",
      "metadata": {
        "id": "-lwf3XiMA7oe"
      },
      "source": [
        "# загрузка сабмита\n",
        "from google.colab import files\n",
        "files.download('res.jsonl')"
      ],
      "execution_count": null,
      "outputs": []
    },
    {
      "cell_type": "code",
      "metadata": {
        "colab": {
          "base_uri": "https://localhost:8080/"
        },
        "id": "8pVYAzj399q4",
        "outputId": "01ed76d8-6a3e-4ab6-8e97-becc65173732"
      },
      "source": [
        "f1s = []\n",
        "for i in range(len(real_an)):\n",
        "    f1s.append(compute_f1(real_answ_m[i],list(real_an)[i]))\n",
        "print(sum(f1s) / len(answers_mul))"
      ],
      "execution_count": null,
      "outputs": [
        {
          "output_type": "stream",
          "text": [
            "0.7561203402168413\n"
          ],
          "name": "stdout"
        }
      ]
    },
    {
      "cell_type": "code",
      "metadata": {
        "colab": {
          "base_uri": "https://localhost:8080/"
        },
        "id": "xVStUZcA9-BH",
        "outputId": "77837f90-8312-4cae-94cd-622144fb2132"
      },
      "source": [
        "# еще один импорт моделей, не знаю зачем\n",
        "# но моему сокоманднику так было удобнее\n",
        "\n",
        "\n",
        "# with open('/content/drive/MyDrive/New_models/bert_f_xquad.pkl', 'rb') as f:\n",
        "#     bert_xquad_notlower = pickle.load(f)\n",
        "# with open('/content/drive/MyDrive/New_models/distilbert_cased_notlower.pkl', 'rb') as f:\n",
        "#     distilbert_notlower = pickle.load(f)\n",
        "with open('/content/drive/MyDrive/New_models/dpmlbert_cased_notlower.pkl', 'rb') as f:\n",
        "    bert_dp_lower = pickle.load(f)\n",
        "with open('/content/drive/MyDrive/New_models/dprubertconv_cased_lower.pkl', 'rb') as f:\n",
        "    rubert_conv_dp_lower = pickle.load(f)\n",
        "with open('/content/drive/MyDrive/New_models/dprubertconv_cased_notlower.pkl', 'rb') as f:\n",
        "    rubert_conv_dp_notlower = pickle.load(f)\n",
        "with open('/content/drive/MyDrive/New_models/model_rubert_low.pkl', 'rb') as f:\n",
        "    rubert_lower = pickle.load(f)\n",
        "with open('/content/drive/MyDrive/New_models/model_rubert_sentence_low.pkl', 'rb') as f:\n",
        "    rubert_sen_lower = pickle.load(f)\n",
        "\n",
        "\n",
        "with open('/content/drive/MyDrive/New_models/model_rubert_no.pkl', 'rb') as f:\n",
        "    rubert_sen_dp_lower = pickle.load(f)\n",
        "\n",
        "with open('/content/drive/MyDrive/New_models/finalized_model_bert.pkl', 'rb') as f:\n",
        "    bert_fin = pickle.load(f)\n",
        "\n",
        "\n",
        "with open('/content/drive/MyDrive/New_models/model_bert_multi_low.pkl', 'rb') as f:\n",
        "    bert_multi = pickle.load(f)\n",
        "\n",
        "    \n",
        "with open('/content/drive/MyDrive/New_models/finalized_model_bert.pkl', 'rb') as f:\n",
        "    bert_fin = pickle.load(f)\n",
        "\n",
        "\n",
        "    # /content/drive/MyDrive/New_models/finalized_model_bert.pkl\n",
        "# /content/drive/MyDrive/New_models/dpmlbert_cased_notlower.pkl"
      ],
      "execution_count": null,
      "outputs": [
        {
          "output_type": "stream",
          "text": [
            "0.7343612065203743\n"
          ],
          "name": "stdout"
        }
      ]
    },
    {
      "cell_type": "code",
      "metadata": {
        "id": "pYwNbP-o-ESa",
        "colab": {
          "base_uri": "https://localhost:8080/",
          "height": 611,
          "referenced_widgets": [
            "920bff82182d49c7882d6ee3419a2bf9",
            "a111287038e24634852465533bbb0911",
            "92be875a0c0a43bfb460b1ad2f43d60f",
            "867d2d15597e45419e74cbf3d0c67f41",
            "7407f48c8af648ee855f6e60457ca239",
            "9463c681afd74990976daafd5aebd881",
            "03733f9b2f814422a8aa9951f429905a",
            "222136c0695e4fedac7d3bb8fa456e46",
            "d77e032f958e4bafb79c628cfcb72b3e",
            "1d045a31a355434c9ed060e5759973d0",
            "6d7c83c1506c45399d11acf59006764a",
            "81d15c3f7e2a4c7281036e2c0760c7f4",
            "1e8d1591ad4b4ca9b667d60200722672",
            "ce1485ad3881423c9a988df298eca556",
            "4bd5089351464cf9ac447adf454caf24",
            "cc1031032004458f9c54dabf11245998",
            "55b4a925437c4aabb9db7c48068e90b1",
            "aad7b817407b4bf28e18c3372c70ad2b",
            "a16978d1c6904314b154d37d2536c83c",
            "b45e3be0bb2042ab946f58055cc0aec6",
            "5cbdae528e984146990c99634fa7fcff",
            "be877603edb64f7e9a5cb9fa327cf8a1",
            "ce26b4c426ea4142b855812397f104f7",
            "64a6195a6fb743c9be455051d5507b91",
            "5fa059fd305c4d92aee6dd316f42cbd8",
            "5a10123b23b847d0af055a6352b6d229",
            "d3bf216d95c54fbf835d3cb71af401fc",
            "1db962512fa54e83b65d037b9d7425cf",
            "edb2e7ab10a34347b2ca27e0ceafab31",
            "a214c047d9624af3b37c0ce5f37cee78",
            "97f712259c4349a0b598160226082f71",
            "3a8d9e19a12045f4a4149ec6d7cd4f64",
            "734cc01e55de4dc08b160f4008a802e5",
            "12f485972e8f41dab3213ba5534f9d53",
            "906ab606e5cf47e7ae54ef022a85ff65",
            "afe529afe9994497a78adee4a89f739b",
            "0d8abc042a6549978f9e4b69b862b702",
            "1480fe7f25d7445788f90fb403598818",
            "8bf28ac3af3e4979a433a4527470ae0c",
            "c7c87ff116d743cd88f295a5dba08eaa",
            "6ef8378f9c2b4d319c45f32e54822ef2",
            "8701e1b0eb8142faa41b02404459e002",
            "a40cd90555814efd8323f27856fde4c9",
            "9394481d0a9945e686e53cbe3a8c8095",
            "2c940d627adf40e3ba3d0983bfdd5d6f",
            "ce88bd15af924f46a29e1d645d2e3bf5",
            "f0c25275648c433e987cf9aa8109c71c",
            "9b39ec8a3bff48b0ba043d4fd5c23eb6",
            "b27783123b5a4ec3906ed1e63316b681",
            "b5674d0d016442c4b6944df477afa617",
            "4a5cbc3226914f5492c9b020ac0216ef",
            "df4b0a5316a441109890ddad172a894a",
            "1499cfaac1a242098030a2f9311c4e38",
            "70e31a3512b34762bd5baad5cd2aad96",
            "30a14ad3d30440de90396a8c848ae07c",
            "62291f72f4f54945bbc4a52a7c04fcd2",
            "3cf7520f0b894a0eb94aaf6a79ce51e9",
            "fa5ccfafe08046d1a889cf2e767a840b",
            "7bac5062a7934a4b889d6dae0e42c159",
            "7de1b40cbdb5450baa27c24572ff26d4",
            "0e34a8bf9fce4b56ae6ad1206e011a01",
            "6b7d6fe8de4e4f089eb6282f6ef8eb46",
            "5b72851c530640218770824bbfd18ef0",
            "c33a2eae984d4b3998f75d02a2242f96",
            "1390c4938cc442d0984c1d4f530c558a",
            "30247f32f4d740ce83a57043b8768c1a",
            "d1ae1c937cae46a0a44254f2973a79d7",
            "7130d0b7609f44c99110c97fd5fa8656",
            "d4fcbe3a5c2c403ea9e32bcf7e065877",
            "7a2e3e1144c64e61ac760f01aa098360",
            "41ce0804c9904ca59fe857388db10998",
            "ebe3e8b601c143fe819f4ec9cd0042e6",
            "e991a5b5631c4c47b4dfa9c032df0cf5",
            "edea69f6056a467bbe6d55a0d557f3b5",
            "a004a26d4fb540a8847284ee6a145968",
            "2ec2b254a17846ac9bca28a37e621a1c",
            "66b000738b65465c9e04ccd113365f1e",
            "802dbf822f524da890b4d45f436bd1c0",
            "759ad3d3f48549008ab0bdd53c093454",
            "8c116eb1a8474fdba948294e34d93858",
            "dbf313887a3c4d4bafdae96958fe2272",
            "84beecc713b74de1a7b539a1451d8dc6",
            "c708038f841346b59deb4da05aa355ec",
            "ab7c386d5f5a4ddbb9ed9443b6b32544",
            "2c21ad4f09264ed8b32d9b586e9c4e47",
            "3bd5d7f4123845e8880a32a20a15f22c",
            "3fec7fab65af44cdb7cc3fa878ee20f0",
            "15dc29c792ae407abb014da6b94cde41",
            "65f1485523a14cb2b824ff6ce4b1f14f",
            "0039ee0a29ae4cda81a0b28dab3a8916",
            "63f68232a6aa46f48db05c2eaacb4d7e",
            "b2004f03c96c476bbd07106138af594c",
            "e8fb687fb2d74d589f30308ac7c98623",
            "95ae03b0fa134fb38ee99ebb34869d1e",
            "905add2b0d544d85ad206630750dc734",
            "f3d0f04eb7a64a76ab5bffccbeb7761e",
            "7cae5cc2de604db4a2d20744d7f51007",
            "dba6b21b86584f0b86444d5c927ab251",
            "f636a257e16245b6be32cb49c8b2d51d"
          ]
        },
        "outputId": "797a5fbf-2f1b-49c4-ac7b-970dda4d3fac"
      },
      "source": [
        "# preds_bert_xquad_notlower = bert_xquad_notlower.predict(test)\n",
        "# preds_distilbert_notlower = distilbert_notlower.predict(test)\n",
        "preds_bert_dp_lower = bert_dp_lower.predict(test)\n",
        "preds_rubert_conv_dp_lower = rubert_conv_dp_lower.predict(test)\n",
        "preds_rubert_conv_dp_notlower = rubert_conv_dp_notlower.predict(test)\n",
        "preds_rubert_lower = rubert_lower.predict(test)\n",
        "preds_rubert_sen_lower = rubert_sen_lower.predict(test)\n",
        "preds_bert_fin = bert_fin.predict(test)\n",
        "preds_bert_multi = bert_multi.predict(test)\n",
        "preds_bert_fin = bert_fin.predict(test)\n",
        "preds_rubert_sen_dp_lower = rubert_sen_dp_lower.predict(test)"
      ],
      "execution_count": null,
      "outputs": [
        {
          "output_type": "stream",
          "text": [
            "100%|██████████| 7257/7257 [01:39<00:00, 72.73it/s]\n",
            "add example index and unique id: 100%|██████████| 7257/7257 [00:00<00:00, 737677.87it/s]\n"
          ],
          "name": "stderr"
        },
        {
          "output_type": "display_data",
          "data": {
            "application/vnd.jupyter.widget-view+json": {
              "model_id": "920bff82182d49c7882d6ee3419a2bf9",
              "version_minor": 0,
              "version_major": 2
            },
            "text/plain": [
              "Running Prediction:   0%|          | 0/910 [00:00<?, ?it/s]"
            ]
          },
          "metadata": {
            "tags": []
          }
        },
        {
          "output_type": "stream",
          "text": [
            "100%|██████████| 7257/7257 [01:27<00:00, 82.76it/s]\n",
            "add example index and unique id: 100%|██████████| 7257/7257 [00:00<00:00, 677651.32it/s]\n"
          ],
          "name": "stderr"
        },
        {
          "output_type": "display_data",
          "data": {
            "application/vnd.jupyter.widget-view+json": {
              "model_id": "81d15c3f7e2a4c7281036e2c0760c7f4",
              "version_minor": 0,
              "version_major": 2
            },
            "text/plain": [
              "Running Prediction:   0%|          | 0/908 [00:00<?, ?it/s]"
            ]
          },
          "metadata": {
            "tags": []
          }
        },
        {
          "output_type": "stream",
          "text": [
            "100%|██████████| 7257/7257 [01:29<00:00, 81.06it/s]\n",
            "add example index and unique id: 100%|██████████| 7257/7257 [00:00<00:00, 801972.50it/s]\n"
          ],
          "name": "stderr"
        },
        {
          "output_type": "display_data",
          "data": {
            "application/vnd.jupyter.widget-view+json": {
              "model_id": "ce26b4c426ea4142b855812397f104f7",
              "version_minor": 0,
              "version_major": 2
            },
            "text/plain": [
              "Running Prediction:   0%|          | 0/908 [00:00<?, ?it/s]"
            ]
          },
          "metadata": {
            "tags": []
          }
        },
        {
          "output_type": "stream",
          "text": [
            "100%|██████████| 7257/7257 [01:29<00:00, 81.19it/s]\n",
            "add example index and unique id: 100%|██████████| 7257/7257 [00:00<00:00, 786107.03it/s]\n"
          ],
          "name": "stderr"
        },
        {
          "output_type": "display_data",
          "data": {
            "application/vnd.jupyter.widget-view+json": {
              "model_id": "12f485972e8f41dab3213ba5534f9d53",
              "version_minor": 0,
              "version_major": 2
            },
            "text/plain": [
              "Running Prediction:   0%|          | 0/908 [00:00<?, ?it/s]"
            ]
          },
          "metadata": {
            "tags": []
          }
        },
        {
          "output_type": "stream",
          "text": [
            "100%|██████████| 7257/7257 [01:27<00:00, 82.70it/s]\n",
            "add example index and unique id: 100%|██████████| 7257/7257 [00:00<00:00, 668410.21it/s]\n"
          ],
          "name": "stderr"
        },
        {
          "output_type": "display_data",
          "data": {
            "application/vnd.jupyter.widget-view+json": {
              "model_id": "2c940d627adf40e3ba3d0983bfdd5d6f",
              "version_minor": 0,
              "version_major": 2
            },
            "text/plain": [
              "Running Prediction:   0%|          | 0/908 [00:00<?, ?it/s]"
            ]
          },
          "metadata": {
            "tags": []
          }
        },
        {
          "output_type": "stream",
          "text": [
            "100%|██████████| 7257/7257 [01:28<00:00, 82.06it/s]\n",
            "add example index and unique id: 100%|██████████| 7257/7257 [00:00<00:00, 840273.41it/s]\n"
          ],
          "name": "stderr"
        },
        {
          "output_type": "display_data",
          "data": {
            "application/vnd.jupyter.widget-view+json": {
              "model_id": "62291f72f4f54945bbc4a52a7c04fcd2",
              "version_minor": 0,
              "version_major": 2
            },
            "text/plain": [
              "Running Prediction:   0%|          | 0/908 [00:00<?, ?it/s]"
            ]
          },
          "metadata": {
            "tags": []
          }
        },
        {
          "output_type": "stream",
          "text": [
            "100%|██████████| 7257/7257 [01:38<00:00, 73.55it/s]\n",
            "add example index and unique id: 100%|██████████| 7257/7257 [00:00<00:00, 667999.48it/s]\n"
          ],
          "name": "stderr"
        },
        {
          "output_type": "display_data",
          "data": {
            "application/vnd.jupyter.widget-view+json": {
              "model_id": "d1ae1c937cae46a0a44254f2973a79d7",
              "version_minor": 0,
              "version_major": 2
            },
            "text/plain": [
              "Running Prediction:   0%|          | 0/910 [00:00<?, ?it/s]"
            ]
          },
          "metadata": {
            "tags": []
          }
        },
        {
          "output_type": "stream",
          "text": [
            "100%|██████████| 7257/7257 [01:27<00:00, 82.64it/s]\n",
            "add example index and unique id: 100%|██████████| 7257/7257 [00:00<00:00, 916947.25it/s]\n"
          ],
          "name": "stderr"
        },
        {
          "output_type": "display_data",
          "data": {
            "application/vnd.jupyter.widget-view+json": {
              "model_id": "802dbf822f524da890b4d45f436bd1c0",
              "version_minor": 0,
              "version_major": 2
            },
            "text/plain": [
              "Running Prediction:   0%|          | 0/908 [00:00<?, ?it/s]"
            ]
          },
          "metadata": {
            "tags": []
          }
        },
        {
          "output_type": "stream",
          "text": [
            "100%|██████████| 7257/7257 [01:28<00:00, 82.06it/s]\n",
            "add example index and unique id: 100%|██████████| 7257/7257 [00:00<00:00, 913096.27it/s]\n"
          ],
          "name": "stderr"
        },
        {
          "output_type": "display_data",
          "data": {
            "application/vnd.jupyter.widget-view+json": {
              "model_id": "65f1485523a14cb2b824ff6ce4b1f14f",
              "version_minor": 0,
              "version_major": 2
            },
            "text/plain": [
              "Running Prediction:   0%|          | 0/908 [00:00<?, ?it/s]"
            ]
          },
          "metadata": {
            "tags": []
          }
        }
      ]
    },
    {
      "cell_type": "code",
      "metadata": {
        "id": "sP7AHW7OlXW2"
      },
      "source": [
        "# загрузка вариантов ответа из теста\n",
        "# следующие несколько ячеек - обработка теста + сабмит\n",
        "entities_m = []\n",
        "with open('rucos_test.jsonl', \"r\") as fhe:\n",
        "    for i,fh in enumerate(fhe):\n",
        "        source = json.loads(fh)\n",
        "        text = source[\"passage\"][\"text\"]\n",
        "        text = text.lower()\n",
        "        entities = []\n",
        "        for l in source['passage']['entities']:\n",
        "            entities.append(text[l['start']:l['end']].lower())\n",
        "        entities_m.append(entities)                   "
      ],
      "execution_count": null,
      "outputs": []
    },
    {
      "cell_type": "code",
      "metadata": {
        "id": "yzzeJOfQhbsf"
      },
      "source": [
        "\n",
        "answers_bert_dp_lower = []\n",
        "for i in range(len(preds_bert_dp_lower[0])):\n",
        "    # print(answ[0][i]['answer'][0])\n",
        "    answers_bert_dp_lower.append([preds_bert_dp_lower[0][i]['answer'][0], preds_bert_dp_lower[1][i]['probability'][0]])\n",
        "\n",
        "answers_rubert_conv_dp_lower = []\n",
        "for i in range(len(preds_rubert_conv_dp_lower[0])):\n",
        "    # print(answ[0][i]['answer'][0])\n",
        "    answers_rubert_conv_dp_lower.append([preds_rubert_conv_dp_lower[0][i]['answer'][0], preds_rubert_conv_dp_lower[1][i]['probability'][0]])\n",
        "\n",
        "answers_rubert_conv_dp_notlower = []\n",
        "for i in range(len(preds_rubert_conv_dp_notlower[0])):\n",
        "    # print(answ[0][i]['answer'][0])\n",
        "    answers_rubert_conv_dp_notlower.append([preds_rubert_conv_dp_notlower[0][i]['answer'][0], preds_rubert_conv_dp_notlower[1][i]['probability'][0]])\n",
        "\n",
        "answers_rubert_lower = []\n",
        "for i in range(len(preds_rubert_lower[0])):\n",
        "    # print(answ[0][i]['answer'][0])\n",
        "    answers_rubert_lower.append([preds_rubert_lower[0][i]['answer'][0], preds_rubert_lower[1][i]['probability'][0]])\n",
        "\n",
        "answers_rubert_sen_lower = []\n",
        "for i in range(len(preds_bert_dp_lower[0])):\n",
        "    # print(answ[0][i]['answer'][0])\n",
        "    answers_rubert_sen_lower.append([preds_rubert_sen_lower[0][i]['answer'][0], preds_rubert_sen_lower[1][i]['probability'][0]])\n",
        "\n",
        "answers_bert_fin = []\n",
        "for i in range(len(preds_bert_fin[0])):\n",
        "    # print(answ[0][i]['answer'][0])\n",
        "    answers_bert_fin.append([preds_bert_fin[0][i]['answer'][0], preds_bert_fin[1][i]['probability'][0]])\n",
        "\n",
        "answers_bert_multi = []\n",
        "for i in range(len(preds_bert_multi[0])):\n",
        "    # print(answ[0][i]['answer'][0])\n",
        "    answers_bert_multi.append([preds_bert_multi[0][i]['answer'][0], preds_bert_multi[1][i]['probability'][0]])\n",
        "\n",
        "answers_bert_fin = []\n",
        "for i in range(len(preds_bert_fin[0])):\n",
        "    # print(answ[0][i]['answer'][0])\n",
        "    answers_bert_fin.append([preds_bert_fin[0][i]['answer'][0], preds_bert_fin[1][i]['probability'][0]])\n",
        "\n",
        "answers_rubert_sen_dp_lower = []\n",
        "for i in range(len(preds_rubert_sen_dp_lower[0])):\n",
        "    # print(answ[0][i]['answer'][0])\n",
        "    answers_rubert_sen_dp_lower.append([preds_rubert_sen_dp_lower[0][i]['answer'][0], preds_rubert_sen_dp_lower[1][i]['probability'][0]])"
      ],
      "execution_count": null,
      "outputs": []
    },
    {
      "cell_type": "code",
      "metadata": {
        "id": "FIFU-QZBlyQ_"
      },
      "source": [
        "def get_answers(ans):\n",
        "    rets = []\n",
        "    for i,k in enumerate(entities_m[:]):\n",
        "        matches = difflib.get_close_matches(ans[i], k, cutoff=0.6)\n",
        "        if matches:\n",
        "            rets.append(matches[0])\n",
        "        else:\n",
        "            rets.append(ans[i])\n",
        "    return rets\n",
        "\n",
        "\n",
        "\n",
        "real_answers_bert_dp_lower = get_answers(answers_bert_dp_lower)\n",
        "real_answers_rubert_conv_dp_lower = get_answers(answers_rubert_conv_dp_lower)\n",
        "real_answers_rubert_conv_dp_notlower =  get_answers(answers_rubert_conv_dp_notlower)\n",
        "real_answers_rubert_lower = get_answers(answers_rubert_lower)\n",
        "real_answers_rubert_sen_lower = get_answers(answers_rubert_sen_lower)\n",
        "real_answers_bert_fin = get_answers(answers_bert_fin)\n",
        "real_answers_bert_multi = get_answers(answers_bert_multi)\n",
        "real_answers_bert_fin = get_answers(answers_bert_fin)\n",
        "real_answers_rubert_sen_dp_lower = get_answers(answers_rubert_sen_dp_lower)\n"
      ],
      "execution_count": null,
      "outputs": []
    },
    {
      "cell_type": "code",
      "metadata": {
        "colab": {
          "base_uri": "https://localhost:8080/"
        },
        "id": "qs7D8ilGk5Bg",
        "outputId": "941e3162-c6b5-4c94-d3cc-901a93aad27d"
      },
      "source": [
        "len(real_answers_bert_xquad_notlower)"
      ],
      "execution_count": null,
      "outputs": [
        {
          "output_type": "execute_result",
          "data": {
            "text/plain": [
              "7257"
            ]
          },
          "metadata": {
            "tags": []
          },
          "execution_count": 42
        }
      ]
    },
    {
      "cell_type": "code",
      "metadata": {
        "id": "n3MTePpCsfDl"
      },
      "source": [
        "import pandas as pd\n",
        "\n",
        "answers__06 = pd.DataFrame({\n",
        "                          'bert_dp_lower':real_answers_bert_dp_lower, 'rubert_conv_dp_lower':real_answers_rubert_conv_dp_lower,\n",
        "                           'rubert_conv_dp_notlower':real_answers_rubert_conv_dp_notlower,'rubert_lower':real_answers_rubert_lower,\n",
        "                           'rubert_sen_lower':real_answers_rubert_sen_lower,'bert_fin':real_answers_bert_fin,\n",
        "                          'bert_multi':real_answers_bert_multi,'bert_fin':real_answers_bert_fin, 'rubert_sen_dp_lower':real_answers_rubert_sen_dp_lower})\n",
        "\n",
        "answers__06.to_csv('answers_cutoff06.csv')"
      ],
      "execution_count": null,
      "outputs": []
    },
    {
      "cell_type": "code",
      "metadata": {
        "id": "RHawlXdRsSOA"
      },
      "source": [
        "import pandas as pd\n",
        "\n",
        "answers__05 = pd.DataFrame({\n",
        "                          'bert_dp_lower':real_answers_bert_dp_lower, 'rubert_conv_dp_lower':real_answers_rubert_conv_dp_lower,\n",
        "                           'rubert_conv_dp_notlower':real_answers_rubert_conv_dp_notlower,'rubert_lower':real_answers_rubert_lower,\n",
        "                           'rubert_sen_lower':real_answers_rubert_sen_lower,'bert_fin':real_answers_bert_fin,\n",
        "                          'bert_multi':real_answers_bert_multi,'bert_fin':real_answers_bert_fin, 'rubert_sen_dp_lower':real_answers_rubert_sen_dp_lower})"
      ],
      "execution_count": null,
      "outputs": []
    },
    {
      "cell_type": "code",
      "metadata": {
        "id": "qNaT3JdwtVi3"
      },
      "source": [
        "real_answers_bert_dp_lower = get_answers(answers_bert_dp_lower)\n",
        "real_answers_rubert_conv_dp_lower = get_answers(answers_rubert_conv_dp_lower)\n",
        "real_answers_rubert_conv_dp_notlower =  get_answers(answers_rubert_conv_dp_notlower)\n",
        "real_answers_rubert_lower = get_answers(answers_rubert_lower)\n",
        "real_answers_rubert_sen_lower = get_answers(answers_rubert_sen_lower)\n",
        "real_answers_bert_fin = get_answers(answers_bert_fin)\n",
        "real_answers_bert_multi = get_answers(answers_bert_multi)\n",
        "real_answers_bert_fin = get_answers(answers_bert_fin)\n",
        "real_answers_rubert_sen_dp_lower = get_answers(answers_rubert_sen_dp_lower)\n"
      ],
      "execution_count": null,
      "outputs": []
    },
    {
      "cell_type": "code",
      "metadata": {
        "id": "7x7201CRsZCr"
      },
      "source": [
        "answers__04.to_csv('answers_cutoff04.csv')"
      ],
      "execution_count": null,
      "outputs": []
    },
    {
      "cell_type": "code",
      "metadata": {
        "id": "S_EGkDXdl-ZD"
      },
      "source": [
        "import pandas as pd\n",
        "\n",
        "answers__04 = pd.DataFrame({\n",
        "                          'bert_dp_lower':real_answers_bert_dp_lower, 'rubert_conv_dp_lower':real_answers_rubert_conv_dp_lower,\n",
        "                           'rubert_conv_dp_notlower':real_answers_rubert_conv_dp_notlower,'rubert_lower':real_answers_rubert_lower,\n",
        "                           'rubert_sen_lower':real_answers_rubert_sen_lower,'bert_fin':real_answers_bert_fin,\n",
        "                          'bert_multi':real_answers_bert_multi,'bert_fin':real_answers_bert_fin, 'rubert_sen_dp_lower':real_answers_rubert_sen_dp_lower})"
      ],
      "execution_count": null,
      "outputs": []
    },
    {
      "cell_type": "code",
      "metadata": {
        "id": "ZEcIRw9xsm83",
        "colab": {
          "base_uri": "https://localhost:8080/",
          "height": 589
        },
        "outputId": "8e00b59d-f333-42ab-dee2-6ebedf6a503e"
      },
      "source": [
        "answers__05"
      ],
      "execution_count": null,
      "outputs": [
        {
          "output_type": "execute_result",
          "data": {
            "text/html": [
              "<div>\n",
              "<style scoped>\n",
              "    .dataframe tbody tr th:only-of-type {\n",
              "        vertical-align: middle;\n",
              "    }\n",
              "\n",
              "    .dataframe tbody tr th {\n",
              "        vertical-align: top;\n",
              "    }\n",
              "\n",
              "    .dataframe thead th {\n",
              "        text-align: right;\n",
              "    }\n",
              "</style>\n",
              "<table border=\"1\" class=\"dataframe\">\n",
              "  <thead>\n",
              "    <tr style=\"text-align: right;\">\n",
              "      <th></th>\n",
              "      <th>bert_dp_lower</th>\n",
              "      <th>rubert_conv_dp_lower</th>\n",
              "      <th>rubert_conv_dp_notlower</th>\n",
              "      <th>rubert_lower</th>\n",
              "      <th>rubert_sen_lower</th>\n",
              "      <th>bert_fin</th>\n",
              "      <th>bert_multi</th>\n",
              "      <th>rubert_sen_dp_lower</th>\n",
              "    </tr>\n",
              "  </thead>\n",
              "  <tbody>\n",
              "    <tr>\n",
              "      <th>0</th>\n",
              "      <td>[косово, 0.9944238693830514]</td>\n",
              "      <td>[косово, 0.9999718868757788]</td>\n",
              "      <td>[косово, 0.9965938602112344]</td>\n",
              "      <td>[косово, 0.057627473616651645]</td>\n",
              "      <td>[косово, 0.999995775038059]</td>\n",
              "      <td>[косово, 0.9999457889143738]</td>\n",
              "      <td>[косово, 0.0758041218550305]</td>\n",
              "      <td>[косово, 0.9999008528005779]</td>\n",
              "    </tr>\n",
              "    <tr>\n",
              "      <th>1</th>\n",
              "      <td>[sunday mirror, 0.789356265118579]</td>\n",
              "      <td>[sunday mirror, 0.945510378299067]</td>\n",
              "      <td>[sunday mirror, 0.9869288114301938]</td>\n",
              "      <td>[sunday mirror, 0.9932852205806777]</td>\n",
              "      <td>[sunday mirror, 0.9999917874933406]</td>\n",
              "      <td>[sunday mirror, 0.9952558064648346]</td>\n",
              "      <td>[sunday mirror, 0.9991581242474153]</td>\n",
              "      <td>[sunday mirror, 0.948093765525396]</td>\n",
              "    </tr>\n",
              "    <tr>\n",
              "      <th>2</th>\n",
              "      <td>[греции, 0.9988897478439686]</td>\n",
              "      <td>[греции, 0.9999816182748688]</td>\n",
              "      <td>[греции, 0.8980526563540486]</td>\n",
              "      <td>[греции, 0.24892274801123498]</td>\n",
              "      <td>[греции, 0.999901077362897]</td>\n",
              "      <td>[греции, 0.9997635905240112]</td>\n",
              "      <td>[греции, 0.3326610568477036]</td>\n",
              "      <td>[греции, 0.999061216236093]</td>\n",
              "    </tr>\n",
              "    <tr>\n",
              "      <th>3</th>\n",
              "      <td>[амир, 0.9251459250336475]</td>\n",
              "      <td>[амир, 0.9149444959009427]</td>\n",
              "      <td>[амир, 0.5637315149250158]</td>\n",
              "      <td>[амир, 0.48603500328961197]</td>\n",
              "      <td>[афганистана., 0.9230469974741327]</td>\n",
              "      <td>[амир, 0.9950145902397293]</td>\n",
              "      <td>[амир, 0.5103474172125624]</td>\n",
              "      <td>[афганистана., 0.8419654892852706]</td>\n",
              "    </tr>\n",
              "    <tr>\n",
              "      <th>4</th>\n",
              "      <td>[германия, 0.9997232536134742]</td>\n",
              "      <td>[германия, 0.9999981205645674]</td>\n",
              "      <td>[германия, 0.9999873493843309]</td>\n",
              "      <td>[германия, 0.999802781887209]</td>\n",
              "      <td>[германия, 0.9999967309275971]</td>\n",
              "      <td>[германия, 0.9998036527698703]</td>\n",
              "      <td>[германия, 0.9998225043764025]</td>\n",
              "      <td>[германия, 0.9999068728635685]</td>\n",
              "    </tr>\n",
              "    <tr>\n",
              "      <th>...</th>\n",
              "      <td>...</td>\n",
              "      <td>...</td>\n",
              "      <td>...</td>\n",
              "      <td>...</td>\n",
              "      <td>...</td>\n",
              "      <td>...</td>\n",
              "      <td>...</td>\n",
              "      <td>...</td>\n",
              "    </tr>\n",
              "    <tr>\n",
              "      <th>7252</th>\n",
              "      <td>[джигана, 0.9999187932971122]</td>\n",
              "      <td>[джигана, 0.9999546430746388]</td>\n",
              "      <td>[оксана самойлова, 0.7330542772481708]</td>\n",
              "      <td>[джигана, 0.21121041661675485]</td>\n",
              "      <td>[джигана, 0.999992311107574]</td>\n",
              "      <td>[джигана, 0.999970673476162]</td>\n",
              "      <td>[джигана, 0.21734528441454537]</td>\n",
              "      <td>[джигана, 0.9999675790729993]</td>\n",
              "    </tr>\n",
              "    <tr>\n",
              "      <th>7253</th>\n",
              "      <td>[андрей ермак, 0.5651218721886843]</td>\n",
              "      <td>[сбу, 0.9780637632017597]</td>\n",
              "      <td>[зеленского, 0.9980990734913527]</td>\n",
              "      <td>[ермак, 0.4368291626200772]</td>\n",
              "      <td>[ермак, 0.6424191973275251]</td>\n",
              "      <td>[андрей ермак, 0.9713538396079444]</td>\n",
              "      <td>[зеленского, 0.8764895810411018]</td>\n",
              "      <td>[зеленского, 0.2584079393614943]</td>\n",
              "    </tr>\n",
              "    <tr>\n",
              "      <th>7254</th>\n",
              "      <td>[чухаджян, 0.9831100846416737]</td>\n",
              "      <td>[чухаджян, 0.9998032596800128]</td>\n",
              "      <td>[чухаджян, 0.9994727762542662]</td>\n",
              "      <td>[чухаджян, 0.2648023419038367]</td>\n",
              "      <td>[чухаджян, 0.9995137112822595]</td>\n",
              "      <td>[чухаджян, 0.9994651076248184]</td>\n",
              "      <td>[чухаджян, 0.3267956695226427]</td>\n",
              "      <td>[чухаджян, 0.997631239733393]</td>\n",
              "    </tr>\n",
              "    <tr>\n",
              "      <th>7255</th>\n",
              "      <td>[кобешавидзе, 0.7891792446500037]</td>\n",
              "      <td>[кобешавидзе, 0.999974032856808]</td>\n",
              "      <td>[кобешавидзе, 0.9869100407720821]</td>\n",
              "      <td>[кобешавидзе, 0.2230348662347099]</td>\n",
              "      <td>[кобешавидзе, 0.9994882888027529]</td>\n",
              "      <td>[кобешавидзе, 0.9232467696418172]</td>\n",
              "      <td>[кобешавидзе также рассказал, что за 500 долла...</td>\n",
              "      <td>[кобешавидзе, 0.9804096691800159]</td>\n",
              "    </tr>\n",
              "    <tr>\n",
              "      <th>7256</th>\n",
              "      <td>[александр вучич, 0.49095509956387506]</td>\n",
              "      <td>[вучича, 0.9953307855966141]</td>\n",
              "      <td>[вучича, 0.98730427250676]</td>\n",
              "      <td>[вучич, 0.11702593782215928]</td>\n",
              "      <td>[вучича, 0.9999058417551867]</td>\n",
              "      <td>[александр вучич, 0.8830930460459846]</td>\n",
              "      <td>[вучича., 0.537178208727785]</td>\n",
              "      <td>[вучича, 0.9723086484798265]</td>\n",
              "    </tr>\n",
              "  </tbody>\n",
              "</table>\n",
              "<p>7257 rows × 8 columns</p>\n",
              "</div>"
            ],
            "text/plain": [
              "                               bert_dp_lower  ...                 rubert_sen_dp_lower\n",
              "0               [косово, 0.9944238693830514]  ...        [косово, 0.9999008528005779]\n",
              "1         [sunday mirror, 0.789356265118579]  ...  [sunday mirror, 0.948093765525396]\n",
              "2               [греции, 0.9988897478439686]  ...         [греции, 0.999061216236093]\n",
              "3                 [амир, 0.9251459250336475]  ...  [афганистана., 0.8419654892852706]\n",
              "4             [германия, 0.9997232536134742]  ...      [германия, 0.9999068728635685]\n",
              "...                                      ...  ...                                 ...\n",
              "7252           [джигана, 0.9999187932971122]  ...       [джигана, 0.9999675790729993]\n",
              "7253      [андрей ермак, 0.5651218721886843]  ...    [зеленского, 0.2584079393614943]\n",
              "7254          [чухаджян, 0.9831100846416737]  ...       [чухаджян, 0.997631239733393]\n",
              "7255       [кобешавидзе, 0.7891792446500037]  ...   [кобешавидзе, 0.9804096691800159]\n",
              "7256  [александр вучич, 0.49095509956387506]  ...        [вучича, 0.9723086484798265]\n",
              "\n",
              "[7257 rows x 8 columns]"
            ]
          },
          "metadata": {
            "tags": []
          },
          "execution_count": 20
        }
      ]
    },
    {
      "cell_type": "code",
      "metadata": {
        "id": "OxjX-b-zlGDS"
      },
      "source": [
        "answers__05.to_csv('answers_cutoff05.csv')"
      ],
      "execution_count": null,
      "outputs": []
    },
    {
      "cell_type": "code",
      "metadata": {
        "id": "0v4w7B_plVoX"
      },
      "source": [
        "# еще один ансамбль!\n",
        "real_an_05 = []\n",
        "for i in range(len(answers__05[:])):\n",
        "    st = answers__05.iloc[i]\n",
        "    s = Counter([x[0].lower() for x in st])\n",
        "    for x in s:\n",
        "        if s[x] >= 5:\n",
        "            real_an_05.append(x)\n",
        "            break\n",
        "    else:\n",
        "        real_an_05.append(sorted(answers__05.iloc[i].values, key=lambda x: -x[1])[0][0].lower())"
      ],
      "execution_count": null,
      "outputs": []
    },
    {
      "cell_type": "code",
      "metadata": {
        "id": "g69FNjb-tyU3"
      },
      "source": [
        "# и еще один ансамбль\n",
        "real_an_06 = []\n",
        "for i in range(len(answers__06[:])):\n",
        "    st = answers__06.iloc[i]\n",
        "    # print(st)\n",
        "    s = Counter([x[0].lower() for x in st])\n",
        "    for x in s:\n",
        "        if s[x] >= 5:\n",
        "            real_an_06.append(x)\n",
        "            break\n",
        "    else:\n",
        "        real_an_06.append(sorted(answers__06.iloc[i].values, key=lambda x: -x[1])[0][0].lower())"
      ],
      "execution_count": null,
      "outputs": []
    },
    {
      "cell_type": "code",
      "metadata": {
        "id": "UT6EH80It4ZY"
      },
      "source": [
        "# в общем ансамблей много не бывает\n",
        "real_an_04 = []\n",
        "for i in range(len(answers__04[:])):\n",
        "    st = answers__04.iloc[i]\n",
        "    # print(st)\n",
        "    s = Counter([x[0].lower() for x in st])\n",
        "    for x in s:\n",
        "        if s[x] >= 5:\n",
        "            real_an_04.append(x)\n",
        "            break\n",
        "    else:\n",
        "        real_an_04.append(sorted(answers__04.iloc[i].values, key=lambda x: -x[1])[0][0].lower())"
      ],
      "execution_count": null,
      "outputs": []
    },
    {
      "cell_type": "code",
      "metadata": {
        "id": "0naDsE_Gsv72"
      },
      "source": [
        "b = []\n",
        "# res (4).jsonl - это наш сабмит на 0.8327 (вроде)\n",
        "'''\n",
        "for i,k in enumerate(entities_m[:]):\n",
        "    mathes_be = difflib.get_close_matches(best_answers[i], k, cutoff=0.4)\n",
        "    if mathes_be:\n",
        "        best_answers[i] = mathes_be[0]\n",
        "это ансамбль для сабмита на 0.8327\n",
        "'''\n",
        "\n",
        "with open('res (4).jsonl', 'r') as f:\n",
        "    la = f.readlines()\n",
        "    # print(la)\n",
        "    if 'text' in la:\n",
        "        b.append(la)\n",
        "    # best_answers = list(f)\n",
        "# for i in range(len(best_ers)):\n",
        "#     best_answers.append(best_ers[i])"
      ],
      "execution_count": null,
      "outputs": []
    },
    {
      "cell_type": "code",
      "metadata": {
        "colab": {
          "base_uri": "https://localhost:8080/"
        },
        "id": "uzrHSxMCuwVe",
        "outputId": "bb227aec-cf87-4998-d871-a04cca47498a"
      },
      "source": [
        "b # я сам не знаю что это, но кажется на этой строчке держаться все наши ансамбли"
      ],
      "execution_count": null,
      "outputs": [
        {
          "output_type": "execute_result",
          "data": {
            "text/plain": [
              "[]"
            ]
          },
          "metadata": {
            "tags": []
          },
          "execution_count": 134
        }
      ]
    },
    {
      "cell_type": "code",
      "metadata": {
        "id": "oXh1-UWNumGH"
      },
      "source": [
        "f =  open('best.jsonl', 'r') # это по идее тот же сабмит на 0.8327"
      ],
      "execution_count": null,
      "outputs": []
    },
    {
      "cell_type": "code",
      "metadata": {
        "id": "la08ag5kvEWd"
      },
      "source": [
        "lls = f.readlines()\n",
        "# f.readlines()"
      ],
      "execution_count": null,
      "outputs": []
    },
    {
      "cell_type": "code",
      "metadata": {
        "colab": {
          "base_uri": "https://localhost:8080/"
        },
        "id": "GDTT9D6NvQKT",
        "outputId": "17815994-f642-439f-ddd3-0e89aca2ed1b"
      },
      "source": [
        "len(lls)"
      ],
      "execution_count": null,
      "outputs": [
        {
          "output_type": "execute_result",
          "data": {
            "text/plain": [
              "29029"
            ]
          },
          "metadata": {
            "tags": []
          },
          "execution_count": 28
        }
      ]
    },
    {
      "cell_type": "code",
      "metadata": {
        "id": "iI6mRNMnvbSX"
      },
      "source": [
        "best_answ = []\n",
        "for i in lls[:]:\n",
        "    if 'text' in i:\n",
        "        best_answ.append(i)"
      ],
      "execution_count": null,
      "outputs": []
    },
    {
      "cell_type": "code",
      "metadata": {
        "id": "j1rin1jUvreX"
      },
      "source": [
        "best_answ_ = []\n",
        "for i in best_answ[:]:\n",
        "    # best_answ_.append(i.replace(\" \",'').replace('\"text\":', ''))\n",
        "    best_answ_.append(i.replace('\"text\":', '').replace('\"', ''))"
      ],
      "execution_count": null,
      "outputs": []
    },
    {
      "cell_type": "code",
      "metadata": {
        "id": "csZZbNylw99v"
      },
      "source": [
        "best_answ_"
      ],
      "execution_count": null,
      "outputs": []
    },
    {
      "cell_type": "code",
      "metadata": {
        "id": "pRPUfoIkwCpm"
      },
      "source": [
        "best_answers = []\n",
        "for i in best_answ_[:]:\n",
        "    best_answers.append(i.replace('\\n', '')[5:])\n",
        "    # print(i.replace('\\n', '')[5:])"
      ],
      "execution_count": null,
      "outputs": []
    },
    {
      "cell_type": "code",
      "metadata": {
        "id": "7LQqaRq_wlPS"
      },
      "source": [
        "best_answers"
      ],
      "execution_count": null,
      "outputs": []
    },
    {
      "cell_type": "code",
      "metadata": {
        "colab": {
          "base_uri": "https://localhost:8080/"
        },
        "id": "zDOTDSqVu3qD",
        "outputId": "d715b9c4-d819-4ce8-84a1-cf7dd2a33682"
      },
      "source": [
        "'text' in '    \"text\": \"косово\"'\n"
      ],
      "execution_count": null,
      "outputs": [
        {
          "output_type": "execute_result",
          "data": {
            "text/plain": [
              "True"
            ]
          },
          "metadata": {
            "tags": []
          },
          "execution_count": 131
        }
      ]
    },
    {
      "cell_type": "code",
      "metadata": {
        "colab": {
          "base_uri": "https://localhost:8080/",
          "height": 35
        },
        "id": "FUbXTd04uRkm",
        "outputId": "106e0f0c-8d22-408f-ccd8-5ea54960eeca"
      },
      "source": [
        "f.readline()"
      ],
      "execution_count": null,
      "outputs": [
        {
          "output_type": "execute_result",
          "data": {
            "application/vnd.google.colaboratory.intrinsic+json": {
              "type": "string"
            },
            "text/plain": [
              "'    \"text\": \"косово\"\\n'"
            ]
          },
          "metadata": {
            "tags": []
          },
          "execution_count": 126
        }
      ]
    },
    {
      "cell_type": "code",
      "metadata": {
        "id": "6BAtb4Ays4wz"
      },
      "source": [
        "# корректировка файла в нужный формат\n",
        "\n",
        "a = open('res (4).jsonl', 'r').read()\n",
        "# f1 = open('ress.jsonl', 'w')\n",
        "rs = ''\n",
        "for i in range(len(a)):\n",
        "    rs += a[i]\n",
        "    if i > 1:\n",
        "        if a[i] == ',' and a[i-1] == '}':\n",
        "            rs = rs[:-1]\n",
        "rs = rs.split('\\n')\n",
        "rs = [x[4:] for x in rs]\n",
        "# rs = .join(rs)"
      ],
      "execution_count": null,
      "outputs": []
    },
    {
      "cell_type": "code",
      "metadata": {
        "id": "HDSBIdf4t4g6"
      },
      "source": [
        "# это тот самый ансамбль на 0.8327\n",
        "\n",
        "for i,k in enumerate(entities_m[:]):\n",
        "    mathes_be = difflib.get_close_matches(best_answers[i], k, cutoff=0.4)\n",
        "    if mathes_be:\n",
        "        best_answers[i] = mathes_be[0]"
      ],
      "execution_count": null,
      "outputs": []
    },
    {
      "cell_type": "code",
      "metadata": {
        "id": "5w8J-xZcsnRV"
      },
      "source": [
        "# еще один ансабмль\n",
        "for i,k in enumerate(entities_m[:]):\n",
        "    if real_an_05[i] != best_answers[i]:\n",
        "        # if len(real_an[i]) > len(best_answers[i]):\n",
        "        matches_an = difflib.get_close_matches(real_an_05[i], k, cutoff=0.5)\n",
        "        mathes_be = difflib.get_close_matches(best_answers[i], k, cutoff=0.5)\n",
        "        if matches_an == mathes_be:\n",
        "            real_an_05[i] = mathes_be\n",
        "        else:\n",
        "            real_an_05[i] = matches_an\n",
        "\n",
        "        #     real_an[i] = best_answers[i]\n",
        "        # elif len(real_an[i]) < len(best_answers[i]):\n",
        "            \n",
        "        #     matches_an = difflib.get_close_matches(real_an[i], k, cutoff=0.4)\n",
        "        #     mathes_be = difflib.get_close_matches(best_answers[i], k, cutoff=0.4)\n",
        "        #     real_an[i] = best_answers[i]\n",
        "        # print(real_an_04[i], '-'*5, best_answers[i])"
      ],
      "execution_count": null,
      "outputs": []
    },
    {
      "cell_type": "code",
      "metadata": {
        "id": "BB4-3TonmYB5"
      },
      "source": [
        "# +1 ансамбль\n",
        "real_an_03 = []\n",
        "for i in range(len(answers__)):\n",
        "    st = answers__.iloc[i]\n",
        "    s = Counter([x[0].lower() for x in st])\n",
        "    for x in s:\n",
        "        if s[x] >= 2:\n",
        "            real_an_03.append(x)\n",
        "            break\n",
        "    else:\n",
        "        real_an_03.append(sorted(answers__.iloc[i], key=lambda x: -x[1])[0][0].lower())"
      ],
      "execution_count": null,
      "outputs": []
    },
    {
      "cell_type": "code",
      "metadata": {
        "id": "hHR9onaSpIL2"
      },
      "source": [
        "real_an_04 == real_an_03"
      ],
      "execution_count": null,
      "outputs": []
    },
    {
      "cell_type": "code",
      "metadata": {
        "id": "rt0_SmhmsBK0"
      },
      "source": [
        "answq = []\n",
        "# корректировка файла в нужный формат\n",
        "for i,l in enumerate(real_an_05):\n",
        "    a = {'idx': i, 'text':str(l)}\n",
        "    answq.append(a)\n",
        "import json\n",
        "with open('data.jsonl', 'w', encoding='utf-8') as f:\n",
        "    json.dump(answq, f, ensure_ascii=False, indent=4)\n",
        "\n",
        "a = open('data.jsonl', 'r').read()\n",
        "f1 = open('ensemble_with_best_normali_05.jsonl', 'w')\n",
        "rs = ''\n",
        "for i in range(len(a)):\n",
        "    rs += a[i]\n",
        "    if i > 1:\n",
        "        if a[i] == ',' and a[i-1] == '}':\n",
        "            rs = rs[:-1]\n",
        "rs = rs.split('\\n')\n",
        "rs = [x[4:] for x in rs]\n",
        "rs = '\\n'.join(rs)\n",
        "f1.write(rs)\n",
        "f1.close()\n"
      ],
      "execution_count": null,
      "outputs": []
    },
    {
      "cell_type": "code",
      "metadata": {
        "id": "eJV9CnEMsZqD"
      },
      "source": [
        "real_an_04"
      ],
      "execution_count": null,
      "outputs": []
    },
    {
      "cell_type": "code",
      "metadata": {
        "colab": {
          "base_uri": "https://localhost:8080/"
        },
        "id": "v-RIZSmLqksF",
        "outputId": "30f1db64-6899-4580-e93c-3f0d7a37d7ed"
      },
      "source": [
        "for i,k in enumerate(best_answers):\n",
        "    if len(k.split(' ')) > 3:\n",
        "        print(i, k)"
      ],
      "execution_count": null,
      "outputs": [
        {
          "output_type": "stream",
          "text": [
            "1382 the arctic bath hotel\n",
            "1641 амурской областной детской клинической больницы\n",
            "1647 human love doll company\n",
            "3222 международная федерация футбольных ассоциаций\n",
            "4571 джорджа оруэлла айлин о'шонесси\n",
            "5849 россии владимир путин провел телефонный разговор с турецким коллегой реджепом тайипом эрдоганом. об этом сообщается на сайте кремля. в беседе с эрдоганом путин отказал в разделе сирии\n",
            "5929 новых санжарах полтавской области\n",
            "6077 палаты общин. историки знали о существовании коридора, так как его уже находили в 1950-х годах. тогда здание восстанавливали после бомбардировок в ходе второй мировой войны, а проход был замурован и забыт. в этот раз на него указала табличка в вестминстерском зале\n",
            "6591 анастасии волочковой наталья ракицкая\n"
          ],
          "name": "stdout"
        }
      ]
    },
    {
      "cell_type": "code",
      "metadata": {
        "id": "l3wNa4ICDcGD"
      },
      "source": [
        "best_answers[6591] = 'ракицкая'"
      ],
      "execution_count": null,
      "outputs": []
    },
    {
      "cell_type": "code",
      "metadata": {
        "colab": {
          "base_uri": "https://localhost:8080/"
        },
        "id": "JpOHKVNUELoE",
        "outputId": "102a922f-11ad-464b-9fce-88b91599bf91"
      },
      "source": [
        "test[6591]"
      ],
      "execution_count": null,
      "outputs": [
        {
          "output_type": "execute_result",
          "data": {
            "text/plain": [
              "{'context': 'pr‐директор анастасии волочковой наталья ракицкая извинилась перед оскорбленной балериной журналисткой и попыталась оправдать подопечную, сославшись на особенности ее характера. об этом сообщается на сайте радиостанции «говорит москва». ракицкая объяснила что волочкова ответила грубо, так как «только проснулась» и не разобралась в ситуации. «она только проснулась, и сразу ваша эсэмэска, вот и реакция такая, понимаете. дело в том, что анастасия не смотрела передачу про эту жену блогера, ее это мало интересует, она даже не знает этой проблемы, понимаете, а вы ее спрашиваете, она не поняла, в чем дело», — отметила pr‐директор. тем не менее, ракицкая осудила балерину за оскорбления внешности корреспондентки и «сделала ей замечание».\\n@highlight\\npr‐директор волочковой извинилась за балерину перед корреспонденткой «говорит москва»\\n@highlight\\nволочкову раскритиковали за праздник с сухим льдом\\n@highlight\\nволочкова отметила праздник с сухим льдом',\n",
              " 'qas': [{'answers': [{'answer_start': 0, 'text': ' '}],\n",
              "   'id': 6591,\n",
              "   'is_impossible': False,\n",
              "   'question': 'она объяснила, что @placeholder находилась «в эйфории своего счастья».'}]}"
            ]
          },
          "metadata": {
            "tags": []
          },
          "execution_count": 287
        }
      ]
    },
    {
      "cell_type": "code",
      "metadata": {
        "colab": {
          "base_uri": "https://localhost:8080/"
        },
        "id": "cRiuA98rEL-e",
        "outputId": "4b0b5fd9-8077-49b2-cc04-a500f3b99552"
      },
      "source": [
        "entities_m[6591]"
      ],
      "execution_count": null,
      "outputs": [
        {
          "output_type": "execute_result",
          "data": {
            "text/plain": [
              "['pr',\n",
              " 'анастасии волочковой наталья ракицкая',\n",
              " 'волочковой',\n",
              " 'ракицкая',\n",
              " 'говорит москва',\n",
              " 'ракицкая',\n",
              " 'волочкова',\n",
              " 'анастасия',\n",
              " 'pr',\n",
              " 'ракицкая',\n",
              " 'pr',\n",
              " 'волочковой',\n",
              " 'говорит москва',\n",
              " 'волочкову',\n",
              " 'волочкова']"
            ]
          },
          "metadata": {
            "tags": []
          },
          "execution_count": 288
        }
      ]
    },
    {
      "cell_type": "code",
      "metadata": {
        "id": "0bJrF9LwEfEV"
      },
      "source": [
        ""
      ],
      "execution_count": null,
      "outputs": []
    },
    {
      "cell_type": "code",
      "metadata": {
        "colab": {
          "base_uri": "https://localhost:8080/"
        },
        "id": "idIP8oexG-OM",
        "outputId": "d2a3fb2e-749d-4f37-e42e-fadb6908ce17"
      },
      "source": [
        "!wget https://storage.yandexcloud.net/natasha-navec/packs/navec_hudlit_v1_12B_500K_300d_100q.tar\n",
        "! pip install navec"
      ],
      "execution_count": null,
      "outputs": [
        {
          "output_type": "stream",
          "text": [
            "--2021-03-03 22:01:29--  https://storage.yandexcloud.net/natasha-navec/packs/navec_hudlit_v1_12B_500K_300d_100q.tar\n",
            "Resolving storage.yandexcloud.net (storage.yandexcloud.net)... 213.180.193.243, 2a02:6b8::1d9\n",
            "Connecting to storage.yandexcloud.net (storage.yandexcloud.net)|213.180.193.243|:443... connected.\n",
            "HTTP request sent, awaiting response... 200 OK\n",
            "Length: 53012480 (51M) [application/x-tar]\n",
            "Saving to: ‘navec_hudlit_v1_12B_500K_300d_100q.tar’\n",
            "\n",
            "navec_hudlit_v1_12B 100%[===================>]  50.56M  16.7MB/s    in 3.0s    \n",
            "\n",
            "2021-03-03 22:01:33 (16.7 MB/s) - ‘navec_hudlit_v1_12B_500K_300d_100q.tar’ saved [53012480/53012480]\n",
            "\n",
            "Collecting navec\n",
            "  Downloading https://files.pythonhosted.org/packages/bc/c1/771ec5565f0ce24874d7fd325b429f9caa80517a40d2e4ce5705120591f3/navec-0.10.0-py3-none-any.whl\n",
            "Requirement already satisfied: numpy in /usr/local/lib/python3.7/dist-packages (from navec) (1.19.5)\n",
            "Installing collected packages: navec\n",
            "Successfully installed navec-0.10.0\n"
          ],
          "name": "stdout"
        }
      ]
    },
    {
      "cell_type": "code",
      "metadata": {
        "id": "C7u9u3IIG-LS"
      },
      "source": [
        "from navec import Navec\n",
        "\n",
        "path = '/content/navec_hudlit_v1_12B_500K_300d_100q.tar'\n",
        "navec = Navec.load(path)"
      ],
      "execution_count": null,
      "outputs": []
    },
    {
      "cell_type": "code",
      "metadata": {
        "colab": {
          "base_uri": "https://localhost:8080/",
          "height": 419
        },
        "id": "3-mscUF-G-Io",
        "outputId": "6a5b56ac-9744-4879-e15d-533de1afc64a"
      },
      "source": [
        "answers__"
      ],
      "execution_count": null,
      "outputs": [
        {
          "output_type": "execute_result",
          "data": {
            "text/html": [
              "<div>\n",
              "<style scoped>\n",
              "    .dataframe tbody tr th:only-of-type {\n",
              "        vertical-align: middle;\n",
              "    }\n",
              "\n",
              "    .dataframe tbody tr th {\n",
              "        vertical-align: top;\n",
              "    }\n",
              "\n",
              "    .dataframe thead th {\n",
              "        text-align: right;\n",
              "    }\n",
              "</style>\n",
              "<table border=\"1\" class=\"dataframe\">\n",
              "  <thead>\n",
              "    <tr style=\"text-align: right;\">\n",
              "      <th></th>\n",
              "      <th>Unnamed: 0</th>\n",
              "      <th>bert_xquad_notlower</th>\n",
              "      <th>distilbert_notlower</th>\n",
              "      <th>bert_dp_lower</th>\n",
              "      <th>rubert_conv_dp_lower</th>\n",
              "      <th>rubert_conv_dp_notlower</th>\n",
              "      <th>rubert_sen_dp_lower</th>\n",
              "    </tr>\n",
              "  </thead>\n",
              "  <tbody>\n",
              "    <tr>\n",
              "      <th>0</th>\n",
              "      <td>0</td>\n",
              "      <td>германии</td>\n",
              "      <td>германии</td>\n",
              "      <td>германии</td>\n",
              "      <td>германии</td>\n",
              "      <td>германии</td>\n",
              "      <td>германии</td>\n",
              "    </tr>\n",
              "    <tr>\n",
              "      <th>1</th>\n",
              "      <td>1</td>\n",
              "      <td>хамас</td>\n",
              "      <td>хамас</td>\n",
              "      <td>рф</td>\n",
              "      <td>рф</td>\n",
              "      <td>хамас</td>\n",
              "      <td>рф</td>\n",
              "    </tr>\n",
              "    <tr>\n",
              "      <th>2</th>\n",
              "      <td>2</td>\n",
              "      <td>ташкента</td>\n",
              "      <td>ташкента</td>\n",
              "      <td>ташкента</td>\n",
              "      <td>ташкента</td>\n",
              "      <td>ташкента</td>\n",
              "      <td>ташкента</td>\n",
              "    </tr>\n",
              "    <tr>\n",
              "      <th>3</th>\n",
              "      <td>3</td>\n",
              "      <td>heckler &amp; koch</td>\n",
              "      <td>heckler &amp; koch</td>\n",
              "      <td>heckler &amp; koch</td>\n",
              "      <td>heckler &amp; koch</td>\n",
              "      <td>сми</td>\n",
              "      <td>heckler &amp; koch</td>\n",
              "    </tr>\n",
              "    <tr>\n",
              "      <th>4</th>\n",
              "      <td>4</td>\n",
              "      <td>франк-вальтер штайнмайер</td>\n",
              "      <td>франк-вальтер штайнмайер</td>\n",
              "      <td>франк-вальтер штайнмайер</td>\n",
              "      <td>франк-вальтер штайнмайер</td>\n",
              "      <td>франк-вальтер штайнмайер</td>\n",
              "      <td>франк-вальтер штайнмайер</td>\n",
              "    </tr>\n",
              "    <tr>\n",
              "      <th>...</th>\n",
              "      <td>...</td>\n",
              "      <td>...</td>\n",
              "      <td>...</td>\n",
              "      <td>...</td>\n",
              "      <td>...</td>\n",
              "      <td>...</td>\n",
              "      <td>...</td>\n",
              "    </tr>\n",
              "    <tr>\n",
              "      <th>7572</th>\n",
              "      <td>7572</td>\n",
              "      <td>ирана</td>\n",
              "      <td>ближнем востоке</td>\n",
              "      <td>ирана</td>\n",
              "      <td>иран</td>\n",
              "      <td>ирана</td>\n",
              "      <td>ирана</td>\n",
              "    </tr>\n",
              "    <tr>\n",
              "      <th>7573</th>\n",
              "      <td>7573</td>\n",
              "      <td>николаенко</td>\n",
              "      <td>николаенко</td>\n",
              "      <td>николаенко</td>\n",
              "      <td>николаенко</td>\n",
              "      <td>николаенко</td>\n",
              "      <td>николаенко</td>\n",
              "    </tr>\n",
              "    <tr>\n",
              "      <th>7574</th>\n",
              "      <td>7574</td>\n",
              "      <td>халифа хафтар</td>\n",
              "      <td>халифа хафтар</td>\n",
              "      <td>халифа хафтар</td>\n",
              "      <td>халифа хафтар</td>\n",
              "      <td>хафтар</td>\n",
              "      <td>халифа хафтар</td>\n",
              "    </tr>\n",
              "    <tr>\n",
              "      <th>7575</th>\n",
              "      <td>7575</td>\n",
              "      <td>халифы хафтара</td>\n",
              "      <td>халифы хафтара</td>\n",
              "      <td>халифы хафтара</td>\n",
              "      <td>хафтара</td>\n",
              "      <td>россии</td>\n",
              "      <td>хафтара</td>\n",
              "    </tr>\n",
              "    <tr>\n",
              "      <th>7576</th>\n",
              "      <td>7576</td>\n",
              "      <td>мазиной</td>\n",
              "      <td>мазиной</td>\n",
              "      <td>мазиной</td>\n",
              "      <td>мазиной</td>\n",
              "      <td>мазиной</td>\n",
              "      <td>мазиной</td>\n",
              "    </tr>\n",
              "  </tbody>\n",
              "</table>\n",
              "<p>7577 rows × 7 columns</p>\n",
              "</div>"
            ],
            "text/plain": [
              "      Unnamed: 0  ...       rubert_sen_dp_lower\n",
              "0              0  ...                  германии\n",
              "1              1  ...                        рф\n",
              "2              2  ...                  ташкента\n",
              "3              3  ...            heckler & koch\n",
              "4              4  ...  франк-вальтер штайнмайер\n",
              "...          ...  ...                       ...\n",
              "7572        7572  ...                     ирана\n",
              "7573        7573  ...                николаенко\n",
              "7574        7574  ...             халифа хафтар\n",
              "7575        7575  ...                   хафтара\n",
              "7576        7576  ...                   мазиной\n",
              "\n",
              "[7577 rows x 7 columns]"
            ]
          },
          "metadata": {
            "tags": []
          },
          "execution_count": 21
        }
      ]
    }
  ]
}